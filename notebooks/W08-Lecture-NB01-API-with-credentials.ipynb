{
 "cells": [
  {
   "cell_type": "markdown",
   "metadata": {},
   "source": [
    "<font style='font-size:1.5em'>**🧑‍🏫 Week 08 Lecture**</font><br>\n",
    "<font style='font-size:1.3em;color:#888888'>NOTEBOOK 01: Collecting data from an API that requires authentication</font>\n",
    "\n",
    "<font style='font-size:1.2em;color:#e26a4f;font-weight:bold'>LSE DS105A – Data for Data Science (2024/25) </font>\n",
    "\n",
    "\n",
    "\n",
    "<div style=\"color: #333333; background-color:rgba(226, 106, 79, 0.075); border-radius: 10px; box-shadow: 0 4px 8px rgba(0, 0, 0, 0.1); padding: 20px 0 20px 10px; margin: 10px 0 10px 0; flex: 1 1 calc(45% - 20px);min-width: 250px;max-width: 350px;align-items:top;min-height: calc(45% - 20px); box-sizing: border-box;font-size:0.9em;\">\n",
    "\n",
    "🗓️ **DATE:** 21 November 2024 \n",
    "\n",
    "⌚ **TIME:** 16.00-18.00\n",
    "\n",
    "📍 **LOCATION:** CLM.5.02\n",
    "</div>\n",
    "\n",
    "\n",
    "**AUTHORS:**  Dr. [Jon Cardoso-Silva](https://jonjoncardoso.github.io)\n",
    "\n",
    "**DEPARTMENT:** [LSE Data Science Institute](https://lse.ac.uk/dsi)\n",
    "\n",
    "**OBJECTIVE**: In Weeks 08 and 09, we will revisit the data science workflow (collection -> storage -> processing -> analysis -> visualization) but with new tools and techniques. We will cover how to use APIs that require authentication to collect data, we will revisit the notion of API endpoints and then, once we have collected the data, we will learn how to store it in a more structured way using databases.\n",
    "\n",
    "<details style=\"width:70%;font-size:1em;border: 1px solid #aaa;border-radius: 4px;padding: .5em;margin-left:0em\"><summary style=\"font-weight:bold\">🖇️ EXPAND FOR USEFUL LINKS</summary>\n",
    "\n",
    "- Python 3's [`venv` module documentation](https://docs.python.org/3/library/venv.html)\n",
    "\n",
    "- W3 Schools' [HTTP Request Methods](https://www.w3schools.com/tags/ref_httpmethods.asp) page\n",
    "\n",
    "- [Reddit API documentation](https://www.reddit.com/dev/api/)\n",
    "- [Reddit API Rules](https://support.reddithelp.com/hc/en-us/articles/16160319875092-Reddit-Data-API-Wiki)\n",
    "\n",
    "- The [JSON Crack Extension](https://marketplace.visualstudio.com/items?itemName=AykutSarac.jsoncrack-vscode) for VS Code to visually inspect JSON files.\n",
    "\n",
    "- 🐼 pandas' [`pd.json_normalize()` function documentation](https://pandas.pydata.org/pandas-docs/stable/reference/api/pandas.json_normalize.html)\n",
    "\n",
    "- [The `pydotenv` library](https://pypi.org/project/python-dotenv/)\n",
    "- [What is the gitignore file?](https://www.atlassian.com/git/tutorials/saving-changes/gitignore)\n",
    "\n",
    "\n",
    "Not covered here but relevant to your upcoming assignment:\n",
    "\n",
    "- [Spotify API documentation](https://developer.spotify.com/documentation/web-api/)\n",
    "- [Spotify Getting Started Guide](https://developer.spotify.com/documentation/web-api/quick-start/)\n",
    "\n",
    "</details>\n"
   ]
  },
  {
   "cell_type": "markdown",
   "metadata": {},
   "source": [
    "---\n",
    "\n",
    "**⚙️ SETUP**\n",
    "\n",
    "Before you continue, set up your Python environment. Check the instructions under the ['🐍 Python environment' section on README](../README.md#🐍-python-environment)."
   ]
  },
  {
   "cell_type": "code",
   "execution_count": 1,
   "metadata": {},
   "outputs": [],
   "source": [
    "import os\n",
    "import json\n",
    "import requests\n",
    "\n",
    "import pandas as pd\n",
    "\n",
    "from dotenv import load_dotenv\n",
    "from tqdm.notebook import tqdm\n",
    "tqdm.pandas()\n",
    "\n",
    "from IPython.display import Image"
   ]
  },
  {
   "cell_type": "code",
   "execution_count": 2,
   "metadata": {},
   "outputs": [
    {
     "data": {
      "text/plain": [
       "True"
      ]
     },
     "execution_count": 2,
     "metadata": {},
     "output_type": "execute_result"
    }
   ],
   "source": [
    "load_dotenv()"
   ]
  },
  {
   "cell_type": "code",
   "execution_count": 3,
   "metadata": {},
   "outputs": [],
   "source": [
    "os.getenv(\"SPOTIFY_CLIENT_ID\")"
   ]
  },
  {
   "cell_type": "markdown",
   "metadata": {},
   "source": [
    "# 1. The Reddit API\n",
    "\n",
    "In this lecture, I will show you how to collect data from an authenticated API, using Reddit as a case study. You are not required to create a Reddit account if you don’t want to. Pay close attention to my explanations and demonstrations, and think about how you can use these same methods with the Spotify API in the future.\n",
    "\n",
    "<div style=\"color: #333333; background-color:#ffffff; border-radius: 10px; box-shadow: 0 4px 8px rgba(0, 0, 0, 0.1); padding: 10px 20px 5px 20px; margin: 10px 0 10px 10px; flex: 1 1 calc(65% - 20px);min-width: 250px;max-width: 450px;align-items:top;min-height: calc(45% - 20px); box-sizing: border-box;font-size:0.9em;\">\n",
    "\n",
    "Reddit is a social media platform where users can post links, text, images, and videos, which others can upvote, downvote, or comment on. Reddit consists of communities called subreddits, each focused on a specific topic. For example, [r/datascience](https://reddit.com/r/datascience) is dedicated to data science, while [r/aww](https://reddit.com/r/aww) features cute animals. Each subreddit has moderators who enforce its specific rules.\n",
    "\n",
    "</div>\n",
    "\n",
    "<details style=\"width:70%;font-size:1em;border: 1px solid #aaa;border-radius: 4px;padding: .5em;margin-left:0em\"><summary>🔵 Click here if you want to set up a Reddit developer account </summary>\n",
    "\n",
    "\n",
    "If you want to replicate the analysis in this notebook, you will need to:\n",
    "\n",
    "- Create a [Reddit account](https://www.reddit.com/register/) (or reuse the one you already have)\n",
    "- Then, follow these [First Steps](https://github.com/reddit-archive/reddit/wiki/OAuth2-Quick-Start-Example#first-steps) to create an app and get your credentials.\n",
    "- Take note of your Reddit username and password, as well as the client ID and client secret of the app you created:\n",
    "\n",
    "    ![](../figures/reddit/screenshot_reddit_app_details.png)\n",
    "\n",
    "</details>\n",
    "\n"
   ]
  },
  {
   "cell_type": "markdown",
   "metadata": {},
   "source": [
    "👉🏻 Let's browse the [Reddit API documentation](https://www.reddit.com/dev/api/) to see what's in there. \n",
    "\n",
    "Listen closely as I explain the different API endpoints and I comment the decisions around **pagination** implemented by the developers of the API."
   ]
  },
  {
   "cell_type": "markdown",
   "metadata": {},
   "source": [
    "## 1.1. Your credentials are sensitive information\n",
    "\n",
    "Unlike OpenMeteo, Reddit requires authentication to access its API. This means we need to pass our username, password, client ID, and client secret to the API before we can make any requests.\n",
    "\n",
    "we need to provide several sensitive pieces of information:\n",
    "\n",
    "- your Reddit username (_do you want people to know it?_)\n",
    "- your Reddit password, in plain text (_do you want people to know it?_)\n",
    "- your Reddit app's client ID (_do you want anyone to send requests on your behalf?_)\n",
    "- your Reddit app's client secret (_do you want anyone to send requests on your behalf?_)\n",
    "\n",
    "If I leave this information in the notebook (on GitHub, especially), anyone reading it can impersonate me and send requests to Reddit on my behalf - a **serious security risk**.\n",
    "\n",
    "**NEVER leave your credentials anywhere in your GitHub repository or notebook!**\n",
    "\n",
    "🔊 Louder for those in the back:\n",
    "\n",
    "<div style=\"color: #333333; background-color:rgba(226, 106, 79, 0.075); border-radius: 10px; box-shadow: 0 4px 8px rgba(0, 0, 0, 0.1); padding: 20px 0px 20px 10px; margin: 10px 0 10px 0; flex: 1 1 calc(45% - 20px);min-width: 250px;max-width: 750px;align-items:top;min-height: calc(75% - 20px); box-sizing: border-box;font-size:2.5em;\">\n",
    "\n",
    "☣️ **NEVER leave your credentials anywhere in your GitHub repository or notebook!** ☣️\n",
    "\n",
    "Even if you delete it afterwards, it will still be in the repository's history, and ANYONE can access it.\n",
    "</div>\n"
   ]
  },
  {
   "cell_type": "markdown",
   "metadata": {},
   "source": [
    "## 1.2 Using the `python-dotenv` library\n",
    "\n",
    "Add a `.env` file to your project's root directory and fill it up like this:\n",
    "\n",
    "```plaintext\n",
    "REDDIT_USERNAME=your_username\n",
    "REDDIT_PASSWORD=your_password\n",
    "REDDIT_CLIENT_ID=your_client_id\n",
    "REDDIT_CLIENT_SECRET=your_client_secret\n",
    "```\n",
    "\n",
    "\n",
    "After saving those credentials to a `.env` file I can load them into this notebook using the `python-dotenv` library:"
   ]
  },
  {
   "cell_type": "code",
   "execution_count": 4,
   "metadata": {},
   "outputs": [
    {
     "data": {
      "text/plain": [
       "True"
      ]
     },
     "execution_count": 4,
     "metadata": {},
     "output_type": "execute_result"
    }
   ],
   "source": [
    "# Load the .env file\n",
    "load_dotenv()"
   ]
  },
  {
   "cell_type": "markdown",
   "metadata": {},
   "source": [
    "Once I've loaded the .env file, they are stored in the `os.environ` dictionary, a safe place closer to your Operating System.\n",
    "\n",
    "We can use `os.getenv()` to retrieve the values from the dictionary when passing to the Reddit API without ever looking at them.\n",
    "\n",
    "```python\n",
    "# If I were to run this code, I would expose my credentials to everyone\n",
    "# as it would be saved in the notebook's output and in the repository's history forever (if I commit it).\n",
    "os.getenv('REDDIT_USERNAME')\n",
    "```"
   ]
  },
  {
   "cell_type": "markdown",
   "metadata": {},
   "source": [
    "## 1.3 Getting an access token\n",
    "\n",
    "Having a username, password, client ID, and client secret is not enough to get data from Reddit!\n",
    "\n",
    "You still need to send a first request to the API to get an access token. This token is a string that you will pass in the headers of all subsequent requests to prove that you are who you say you are, and it has an expiration date."
   ]
  },
  {
   "cell_type": "markdown",
   "metadata": {},
   "source": [
    "**Setup the credentials before sending the request**\n"
   ]
  },
  {
   "cell_type": "code",
   "execution_count": 5,
   "metadata": {},
   "outputs": [],
   "source": [
    "# We will still use the requests library, only this time we have to set up authentication parameters first\n",
    "client_auth = requests.auth.HTTPBasicAuth(os.getenv(\"REDDIT_CLIENT_ID\"), os.getenv(\"REDDIT_CLIENT_SECRET\"))"
   ]
  },
  {
   "cell_type": "markdown",
   "metadata": {},
   "source": [
    "You also need to send, via [HTTP POST](https://www.w3schools.com/tags/ref_httpmethods.asp), your Reddit username and password:"
   ]
  },
  {
   "cell_type": "code",
   "execution_count": 6,
   "metadata": {},
   "outputs": [],
   "source": [
    "post_data = {\"grant_type\": \"password\", \"username\": os.getenv('REDDIT_USERNAME'), \"password\": os.getenv('REDDIT_PASSWORD')}"
   ]
  },
  {
   "cell_type": "markdown",
   "metadata": {},
   "source": [
    "It is also a good practice to identify yourself in the `User-Agent` header, as Reddit documentation suggests."
   ]
  },
  {
   "cell_type": "code",
   "execution_count": 7,
   "metadata": {},
   "outputs": [],
   "source": [
    "headers = {\"User-Agent\": f\"LSE DS105A (2024/25) API practice by {os.getenv('REDDIT_USERNAME')}\"}"
   ]
  },
  {
   "cell_type": "markdown",
   "metadata": {},
   "source": [
    "**Actually send the request**\n"
   ]
  },
  {
   "cell_type": "code",
   "execution_count": null,
   "metadata": {},
   "outputs": [],
   "source": [
    "# From their documentation, I learned this is the endpoint I need\n",
    "ACCESS_TOKEN_ENDPOINT = \"https://www.reddit.com/api/v1/access_token\"\n",
    "\n",
    "# This time we are sending a HTTP POST instead of a HTTP GET\n",
    "response = requests.post(ACCESS_TOKEN_ENDPOINT, auth=client_auth, data=post_data, headers=headers)\n",
    "response.json()"
   ]
  },
  {
   "cell_type": "markdown",
   "metadata": {},
   "source": [
    "If you configured everything correctly, you should get a response like this:\n",
    "\n",
    "```json\n",
    "{\n",
    "    \"access_token\": \"a_long_string_of_characters\",\n",
    "    \"token_type\": \"bearer\",\n",
    "    \"expires_in\": 86400, // in seconds\n",
    "    \"scope\": \"*\"\n",
    "}\n",
    "```"
   ]
  },
  {
   "cell_type": "markdown",
   "metadata": {},
   "source": [
    "**Prepare a new header for future requests**\n",
    "\n",
    "Let's store our token in a variable to use it in the next requests."
   ]
  },
  {
   "cell_type": "code",
   "execution_count": 9,
   "metadata": {},
   "outputs": [],
   "source": [
    "my_token = response.json()['access_token']"
   ]
  },
  {
   "cell_type": "markdown",
   "metadata": {},
   "source": [
    "From now on, all my requests need to be followed by these HTTP HEADERS:"
   ]
  },
  {
   "cell_type": "code",
   "execution_count": 10,
   "metadata": {},
   "outputs": [],
   "source": [
    "headers = {\"Authorization\": f\"bearer {my_token}\", \"User-Agent\": f\"LSE DS105A (2024/25) API practice by {os.getenv('REDDIT_USERNAME')}\"}"
   ]
  },
  {
   "cell_type": "markdown",
   "metadata": {},
   "source": [
    "## 1.4 Making a request for data\n",
    "\n",
    "Finally, we're ready to make a request for data. Let's get the top posts from the `r/datascience` subreddit."
   ]
  },
  {
   "cell_type": "code",
   "execution_count": 11,
   "metadata": {},
   "outputs": [],
   "source": [
    "# Using the headers and token we got from the previous step, we can now make authenticated requests to the Reddit API\n",
    "\n",
    "# Get the top posts this year from the r/datascience subreddit\n",
    "response = requests.get(\"https://oauth.reddit.com/r/datascience/top\", headers=headers, params={\"t\": \"year\"})\n",
    "\n",
    "top_posts = response.json()"
   ]
  },
  {
   "cell_type": "markdown",
   "metadata": {},
   "source": [
    "Let's see what we've got:"
   ]
  },
  {
   "cell_type": "code",
   "execution_count": 12,
   "metadata": {},
   "outputs": [],
   "source": [
    "# Save the data to the ../data/reddit/ folder using a name that indicates the time period and subreddit\n",
    "with open(\"../data/reddit/datascience_top_year_2024_20.json\", \"w\") as f:\n",
    "    json.dump(top_posts, f)"
   ]
  },
  {
   "cell_type": "markdown",
   "metadata": {},
   "source": [
    "After opening the JSON on VS Code and fiddling with the formatting, I observe that it has the following structure:"
   ]
  },
  {
   "cell_type": "code",
   "execution_count": 13,
   "metadata": {},
   "outputs": [
    {
     "data": {
      "image/png": "[encoded data removed]",
      "text/plain": [
       "<IPython.core.display.Image object>"
      ]
     },
     "execution_count": 13,
     "metadata": {},
     "output_type": "execute_result"
    }
   ],
   "source": [
    "Image(\"../figures/reddit/json_listing_structure_example.png\")"
   ]
  },
  {
   "cell_type": "markdown",
   "metadata": {},
   "source": [
    "This JSON contains the top 25 posts from the `r/datascience` subreddit. Each post has a title, a score, a number of comments, and more. If this was your NB01 (for the upcoming assignment), you would now either keep downloading more top posts or focus on downloading complementary data for each post (e.g., comments).\n",
    "\n",
    "Before saving, though, I recommend taking a quick look at the data to understand its structure better and perhaps already remove some initial unnecessary parts of the JSON.\n"
   ]
  },
  {
   "cell_type": "markdown",
   "metadata": {},
   "source": [
    "## 1.5 Preliminary data exploration\n",
    "\n",
    "I will load the JSON into pandas just to get a sense for how it will look like once I try to normalise it. This will help me decide if I keep the JSON as it is or if I make minor adjustments to how it is saved."
   ]
  },
  {
   "cell_type": "code",
   "execution_count": 14,
   "metadata": {},
   "outputs": [
    {
     "data": {
      "text/html": [
       "<div>\n",
       "<style scoped>\n",
       "    .dataframe tbody tr th:only-of-type {\n",
       "        vertical-align: middle;\n",
       "    }\n",
       "\n",
       "    .dataframe tbody tr th {\n",
       "        vertical-align: top;\n",
       "    }\n",
       "\n",
       "    .dataframe thead th {\n",
       "        text-align: right;\n",
       "    }\n",
       "</style>\n",
       "<table border=\"1\" class=\"dataframe\">\n",
       "  <thead>\n",
       "    <tr style=\"text-align: right;\">\n",
       "      <th></th>\n",
       "      <th>kind</th>\n",
       "      <th>data</th>\n",
       "    </tr>\n",
       "  </thead>\n",
       "  <tbody>\n",
       "    <tr>\n",
       "      <th>after</th>\n",
       "      <td>Listing</td>\n",
       "      <td>t3_1glv7su</td>\n",
       "    </tr>\n",
       "    <tr>\n",
       "      <th>dist</th>\n",
       "      <td>Listing</td>\n",
       "      <td>25</td>\n",
       "    </tr>\n",
       "    <tr>\n",
       "      <th>modhash</th>\n",
       "      <td>Listing</td>\n",
       "      <td>None</td>\n",
       "    </tr>\n",
       "    <tr>\n",
       "      <th>geo_filter</th>\n",
       "      <td>Listing</td>\n",
       "      <td></td>\n",
       "    </tr>\n",
       "    <tr>\n",
       "      <th>children</th>\n",
       "      <td>Listing</td>\n",
       "      <td>[{'kind': 't3', 'data': {'approved_at_utc': No...</td>\n",
       "    </tr>\n",
       "    <tr>\n",
       "      <th>before</th>\n",
       "      <td>Listing</td>\n",
       "      <td>None</td>\n",
       "    </tr>\n",
       "  </tbody>\n",
       "</table>\n",
       "</div>"
      ],
      "text/plain": [
       "               kind                                               data\n",
       "after       Listing                                         t3_1glv7su\n",
       "dist        Listing                                                 25\n",
       "modhash     Listing                                               None\n",
       "geo_filter  Listing                                                   \n",
       "children    Listing  [{'kind': 't3', 'data': {'approved_at_utc': No...\n",
       "before      Listing                                               None"
      ]
     },
     "execution_count": 14,
     "metadata": {},
     "output_type": "execute_result"
    }
   ],
   "source": [
    "df = pd.read_json(\"../data/reddit/datascience_top_year_2024_20.json\")\n",
    "df"
   ]
  },
  {
   "cell_type": "markdown",
   "metadata": {},
   "source": [
    "👆🏻 The JSON loads differently than the one we saw in Week 07.\n",
    "\n",
    "**What happened here?**\n",
    "\n",
    "- The top-level keys of the JSON are `kind` and `data`. They were converted into columns in the DataFrame.\n",
    "- The `data` key is a dictionary, so its keys were converted into indices in the DataFrame.\n",
    "- The true data is inside the `children` key, which is a list of dictionaries. Each dictionary represents a post.\n",
    "\n",
    "<font style=\"color:#e26a4f;font-weight:bold;\">**ALWAYS CHECK WHAT THE DATA LOOKS LIKE BEFORE YOU TRY TO NORMALISE IT**</font>"
   ]
  },
  {
   "cell_type": "markdown",
   "metadata": {},
   "source": [
    "**Maybe I don't need the metadata**\n",
    "\n",
    "I discovered that most of the top-level keys are metadata. When it's time to convert the JSON into a DataFrame, I only really need the `children` key. I can ignore the rest for now.\n",
    "\n",
    "To get the data we want, we need to:\n",
    "\n",
    "- Focus on the `children` index and `data` column of the DataFrame.\n",
    "\n",
    "- Normalize the output of the `data` column into a new DataFrame."
   ]
  },
  {
   "cell_type": "markdown",
   "metadata": {},
   "source": [
    "Let's do this step-by-step\n",
    "\n",
    "**Step 1:** Use the `.loc` accessor to select the `children` index and `data` column of the DataFrame."
   ]
  },
  {
   "cell_type": "code",
   "execution_count": 15,
   "metadata": {},
   "outputs": [
    {
     "data": {
      "text/plain": [
       "list"
      ]
     },
     "execution_count": 15,
     "metadata": {},
     "output_type": "execute_result"
    }
   ],
   "source": [
    "# This returns the pure Python list that is stored in that cell of the DataFrame\n",
    "type(df.loc['children', 'data'])"
   ]
  },
  {
   "cell_type": "markdown",
   "metadata": {},
   "source": [
    "**Step 2:** Time to use `pd.json_normalize()` again! \n",
    "\n",
    "The result of `df.loc['children', 'data']` is a list of dictionaries, a type of nested structure that `pd.json_normalize()` can handle well."
   ]
  },
  {
   "cell_type": "code",
   "execution_count": 16,
   "metadata": {},
   "outputs": [
    {
     "data": {
      "text/html": [
       "<div>\n",
       "<style scoped>\n",
       "    .dataframe tbody tr th:only-of-type {\n",
       "        vertical-align: middle;\n",
       "    }\n",
       "\n",
       "    .dataframe tbody tr th {\n",
       "        vertical-align: top;\n",
       "    }\n",
       "\n",
       "    .dataframe thead th {\n",
       "        text-align: right;\n",
       "    }\n",
       "</style>\n",
       "<table border=\"1\" class=\"dataframe\">\n",
       "  <thead>\n",
       "    <tr style=\"text-align: right;\">\n",
       "      <th></th>\n",
       "      <th>kind</th>\n",
       "      <th>data.approved_at_utc</th>\n",
       "      <th>data.subreddit</th>\n",
       "      <th>data.selftext</th>\n",
       "      <th>data.author_fullname</th>\n",
       "      <th>data.saved</th>\n",
       "      <th>data.mod_reason_title</th>\n",
       "      <th>data.gilded</th>\n",
       "      <th>data.clicked</th>\n",
       "      <th>data.title</th>\n",
       "      <th>...</th>\n",
       "      <th>data.media_metadata.669eo83ac30d1.id</th>\n",
       "      <th>data.media_metadata.xxrkz93ac30d1.status</th>\n",
       "      <th>data.media_metadata.xxrkz93ac30d1.e</th>\n",
       "      <th>data.media_metadata.xxrkz93ac30d1.m</th>\n",
       "      <th>data.media_metadata.xxrkz93ac30d1.p</th>\n",
       "      <th>data.media_metadata.xxrkz93ac30d1.s.y</th>\n",
       "      <th>data.media_metadata.xxrkz93ac30d1.s.x</th>\n",
       "      <th>data.media_metadata.xxrkz93ac30d1.s.u</th>\n",
       "      <th>data.media_metadata.xxrkz93ac30d1.id</th>\n",
       "      <th>data.gallery_data.items</th>\n",
       "    </tr>\n",
       "  </thead>\n",
       "  <tbody>\n",
       "    <tr>\n",
       "      <th>0</th>\n",
       "      <td>t3</td>\n",
       "      <td>None</td>\n",
       "      <td>datascience</td>\n",
       "      <td></td>\n",
       "      <td>t2_sejrw</td>\n",
       "      <td>False</td>\n",
       "      <td>None</td>\n",
       "      <td>0</td>\n",
       "      <td>False</td>\n",
       "      <td>How to avoid 1/2-assed data analysis</td>\n",
       "      <td>...</td>\n",
       "      <td>NaN</td>\n",
       "      <td>NaN</td>\n",
       "      <td>NaN</td>\n",
       "      <td>NaN</td>\n",
       "      <td>NaN</td>\n",
       "      <td>NaN</td>\n",
       "      <td>NaN</td>\n",
       "      <td>NaN</td>\n",
       "      <td>NaN</td>\n",
       "      <td>NaN</td>\n",
       "    </tr>\n",
       "    <tr>\n",
       "      <th>1</th>\n",
       "      <td>t3</td>\n",
       "      <td>None</td>\n",
       "      <td>datascience</td>\n",
       "      <td>What's your favourite one line code.</td>\n",
       "      <td>t2_dh9o0mnfv</td>\n",
       "      <td>False</td>\n",
       "      <td>None</td>\n",
       "      <td>0</td>\n",
       "      <td>False</td>\n",
       "      <td>Favourite piece of code 🤣</td>\n",
       "      <td>...</td>\n",
       "      <td>NaN</td>\n",
       "      <td>NaN</td>\n",
       "      <td>NaN</td>\n",
       "      <td>NaN</td>\n",
       "      <td>NaN</td>\n",
       "      <td>NaN</td>\n",
       "      <td>NaN</td>\n",
       "      <td>NaN</td>\n",
       "      <td>NaN</td>\n",
       "      <td>NaN</td>\n",
       "    </tr>\n",
       "    <tr>\n",
       "      <th>2</th>\n",
       "      <td>t3</td>\n",
       "      <td>None</td>\n",
       "      <td>datascience</td>\n",
       "      <td></td>\n",
       "      <td>t2_sejrw</td>\n",
       "      <td>False</td>\n",
       "      <td>None</td>\n",
       "      <td>0</td>\n",
       "      <td>False</td>\n",
       "      <td>You're not helping, Excel! please STOP HELPING!!!</td>\n",
       "      <td>...</td>\n",
       "      <td>NaN</td>\n",
       "      <td>NaN</td>\n",
       "      <td>NaN</td>\n",
       "      <td>NaN</td>\n",
       "      <td>NaN</td>\n",
       "      <td>NaN</td>\n",
       "      <td>NaN</td>\n",
       "      <td>NaN</td>\n",
       "      <td>NaN</td>\n",
       "      <td>NaN</td>\n",
       "    </tr>\n",
       "    <tr>\n",
       "      <th>3</th>\n",
       "      <td>t3</td>\n",
       "      <td>None</td>\n",
       "      <td>datascience</td>\n",
       "      <td>The year just started and there are already ov...</td>\n",
       "      <td>NaN</td>\n",
       "      <td>False</td>\n",
       "      <td>None</td>\n",
       "      <td>0</td>\n",
       "      <td>False</td>\n",
       "      <td>Friendly reminder not to work too hard. You'll...</td>\n",
       "      <td>...</td>\n",
       "      <td>NaN</td>\n",
       "      <td>NaN</td>\n",
       "      <td>NaN</td>\n",
       "      <td>NaN</td>\n",
       "      <td>NaN</td>\n",
       "      <td>NaN</td>\n",
       "      <td>NaN</td>\n",
       "      <td>NaN</td>\n",
       "      <td>NaN</td>\n",
       "      <td>NaN</td>\n",
       "    </tr>\n",
       "    <tr>\n",
       "      <th>4</th>\n",
       "      <td>t3</td>\n",
       "      <td>None</td>\n",
       "      <td>datascience</td>\n",
       "      <td>In summary and basically talks about how she w...</td>\n",
       "      <td>t2_uy28jztl</td>\n",
       "      <td>False</td>\n",
       "      <td>None</td>\n",
       "      <td>0</td>\n",
       "      <td>False</td>\n",
       "      <td>Data scientist quits her job at Spotify</td>\n",
       "      <td>...</td>\n",
       "      <td>NaN</td>\n",
       "      <td>NaN</td>\n",
       "      <td>NaN</td>\n",
       "      <td>NaN</td>\n",
       "      <td>NaN</td>\n",
       "      <td>NaN</td>\n",
       "      <td>NaN</td>\n",
       "      <td>NaN</td>\n",
       "      <td>NaN</td>\n",
       "      <td>NaN</td>\n",
       "    </tr>\n",
       "  </tbody>\n",
       "</table>\n",
       "<p>5 rows × 164 columns</p>\n",
       "</div>"
      ],
      "text/plain": [
       "  kind data.approved_at_utc data.subreddit  \\\n",
       "0   t3                 None    datascience   \n",
       "1   t3                 None    datascience   \n",
       "2   t3                 None    datascience   \n",
       "3   t3                 None    datascience   \n",
       "4   t3                 None    datascience   \n",
       "\n",
       "                                       data.selftext data.author_fullname  \\\n",
       "0                                                                t2_sejrw   \n",
       "1               What's your favourite one line code.         t2_dh9o0mnfv   \n",
       "2                                                                t2_sejrw   \n",
       "3  The year just started and there are already ov...                  NaN   \n",
       "4  In summary and basically talks about how she w...          t2_uy28jztl   \n",
       "\n",
       "   data.saved data.mod_reason_title  data.gilded  data.clicked  \\\n",
       "0       False                  None            0         False   \n",
       "1       False                  None            0         False   \n",
       "2       False                  None            0         False   \n",
       "3       False                  None            0         False   \n",
       "4       False                  None            0         False   \n",
       "\n",
       "                                          data.title  ...  \\\n",
       "0               How to avoid 1/2-assed data analysis  ...   \n",
       "1                          Favourite piece of code 🤣  ...   \n",
       "2  You're not helping, Excel! please STOP HELPING!!!  ...   \n",
       "3  Friendly reminder not to work too hard. You'll...  ...   \n",
       "4            Data scientist quits her job at Spotify  ...   \n",
       "\n",
       "  data.media_metadata.669eo83ac30d1.id  \\\n",
       "0                                  NaN   \n",
       "1                                  NaN   \n",
       "2                                  NaN   \n",
       "3                                  NaN   \n",
       "4                                  NaN   \n",
       "\n",
       "  data.media_metadata.xxrkz93ac30d1.status  \\\n",
       "0                                      NaN   \n",
       "1                                      NaN   \n",
       "2                                      NaN   \n",
       "3                                      NaN   \n",
       "4                                      NaN   \n",
       "\n",
       "   data.media_metadata.xxrkz93ac30d1.e  data.media_metadata.xxrkz93ac30d1.m  \\\n",
       "0                                  NaN                                  NaN   \n",
       "1                                  NaN                                  NaN   \n",
       "2                                  NaN                                  NaN   \n",
       "3                                  NaN                                  NaN   \n",
       "4                                  NaN                                  NaN   \n",
       "\n",
       "  data.media_metadata.xxrkz93ac30d1.p  data.media_metadata.xxrkz93ac30d1.s.y  \\\n",
       "0                                 NaN                                    NaN   \n",
       "1                                 NaN                                    NaN   \n",
       "2                                 NaN                                    NaN   \n",
       "3                                 NaN                                    NaN   \n",
       "4                                 NaN                                    NaN   \n",
       "\n",
       "   data.media_metadata.xxrkz93ac30d1.s.x  \\\n",
       "0                                    NaN   \n",
       "1                                    NaN   \n",
       "2                                    NaN   \n",
       "3                                    NaN   \n",
       "4                                    NaN   \n",
       "\n",
       "  data.media_metadata.xxrkz93ac30d1.s.u  data.media_metadata.xxrkz93ac30d1.id  \\\n",
       "0                                   NaN                                   NaN   \n",
       "1                                   NaN                                   NaN   \n",
       "2                                   NaN                                   NaN   \n",
       "3                                   NaN                                   NaN   \n",
       "4                                   NaN                                   NaN   \n",
       "\n",
       "  data.gallery_data.items  \n",
       "0                     NaN  \n",
       "1                     NaN  \n",
       "2                     NaN  \n",
       "3                     NaN  \n",
       "4                     NaN  \n",
       "\n",
       "[5 rows x 164 columns]"
      ]
     },
     "execution_count": 16,
     "metadata": {},
     "output_type": "execute_result"
    }
   ],
   "source": [
    "# Step 2. Success!\n",
    "df = pd.json_normalize(df.loc['children', 'data'])\n",
    "df.head()"
   ]
  },
  {
   "cell_type": "code",
   "execution_count": 17,
   "metadata": {},
   "outputs": [
    {
     "name": "stdout",
     "output_type": "stream",
     "text": [
      "<class 'pandas.core.frame.DataFrame'>\n",
      "RangeIndex: 25 entries, 0 to 24\n",
      "Columns: 164 entries, kind to data.gallery_data.items\n",
      "dtypes: bool(28), float64(23), int64(10), object(103)\n",
      "memory usage: 27.4+ KB\n"
     ]
    }
   ],
   "source": [
    "# What is in the data?\n",
    "df.info()"
   ]
  },
  {
   "cell_type": "markdown",
   "metadata": {},
   "source": [
    "🥴 164 columns! OK, I'll handle this later.. "
   ]
  },
  {
   "cell_type": "markdown",
   "metadata": {},
   "source": [
    "# 2. Paginated requests\n",
    "\n",
    "As you saw, the Reddit API returns a maximum of 25 posts per request by default. We can change this by passing the `limit` parameter in the URL but, still, the maximum number of posts we can get in a single request is 100. To get more posts, we need to make multiple requests. This is a common practice in APIs and is called **pagination**.\n",
    "\n",
    "The way the Reddit API does it is by providing a `before` or `after` parameter in the URL. These parameters are used to specify the **listing** that comes before or after the current one. Every time we get a response, we can collect the `after` parameter returned and reuse it in the next request to get the next set of posts.\n",
    "\n",
    "Let's see how we can get more posts from the `r/datascience` subreddit."
   ]
  },
  {
   "cell_type": "markdown",
   "metadata": {},
   "source": [
    "## 2.1 Create a function for making requests\n",
    "\n",
    "As we will be repeating the same code multiple times, it is a good idea to create a function that will make the requests for us."
   ]
  },
  {
   "cell_type": "code",
   "execution_count": 18,
   "metadata": {},
   "outputs": [],
   "source": [
    "def get_next_top100_posts(subreddit, token, after=None):\n",
    "    \"\"\"\n",
    "    Retrieves the next 100 top posts from a specified subreddit using the Reddit API.\n",
    "\n",
    "    (this documentation was created with the help of GitHub Copilot)\n",
    "\n",
    "    Args:\n",
    "        subreddit (str): The name of the subreddit to retrieve posts from.\n",
    "        token (str): The access token required for authentication.\n",
    "        after (str, optional): The ID of the post to start retrieving from. Defaults to None.\n",
    "\n",
    "    Returns:\n",
    "        tuple: A tuple containing the list of posts and the ID of the last post retrieved.\n",
    "\n",
    "    \"\"\"\n",
    "    headers = {\"Authorization\": f\"bearer {token}\", \n",
    "               \"User-Agent\": f\"LSE DS105A (2024/25) API practice by {os.getenv('REDDIT_USERNAME')}\"}\n",
    "    \n",
    "    params = {\"t\": \"year\", \"limit\": 100}\n",
    "\n",
    "    if after:\n",
    "        params['after'] = after\n",
    "    \n",
    "    response = requests.get(f\"https://oauth.reddit.com/r/{subreddit}/top\", headers=headers, params=params)\n",
    "\n",
    "    json_response = response.json()\n",
    "\n",
    "    # Let's be smart about this\n",
    "    # Let's return the 'children' key of the 'data' key of the response\n",
    "    # and the 'after' key of the 'data' key of the response\n",
    "    return json_response['data']['children'], json_response['data']['after']"
   ]
  },
  {
   "cell_type": "markdown",
   "metadata": {},
   "source": [
    "Testing that the function works:"
   ]
  },
  {
   "cell_type": "code",
   "execution_count": 19,
   "metadata": {},
   "outputs": [],
   "source": [
    "posts, after = get_next_top100_posts(\"datascience\", my_token)"
   ]
  },
  {
   "cell_type": "markdown",
   "metadata": {},
   "source": [
    "There is an 'after':"
   ]
  },
  {
   "cell_type": "code",
   "execution_count": 20,
   "metadata": {},
   "outputs": [
    {
     "data": {
      "text/plain": [
       "'t3_1b40em5'"
      ]
     },
     "execution_count": 20,
     "metadata": {},
     "output_type": "execute_result"
    }
   ],
   "source": [
    "after"
   ]
  },
  {
   "cell_type": "markdown",
   "metadata": {},
   "source": [
    "And because of how I wrote the function, I will be able to normalise the `posts` list straight away:"
   ]
  },
  {
   "cell_type": "code",
   "execution_count": 21,
   "metadata": {},
   "outputs": [
    {
     "data": {
      "text/html": [
       "<div>\n",
       "<style scoped>\n",
       "    .dataframe tbody tr th:only-of-type {\n",
       "        vertical-align: middle;\n",
       "    }\n",
       "\n",
       "    .dataframe tbody tr th {\n",
       "        vertical-align: top;\n",
       "    }\n",
       "\n",
       "    .dataframe thead th {\n",
       "        text-align: right;\n",
       "    }\n",
       "</style>\n",
       "<table border=\"1\" class=\"dataframe\">\n",
       "  <thead>\n",
       "    <tr style=\"text-align: right;\">\n",
       "      <th></th>\n",
       "      <th>kind</th>\n",
       "      <th>data.approved_at_utc</th>\n",
       "      <th>data.subreddit</th>\n",
       "      <th>data.selftext</th>\n",
       "      <th>data.author_fullname</th>\n",
       "      <th>data.saved</th>\n",
       "      <th>data.mod_reason_title</th>\n",
       "      <th>data.gilded</th>\n",
       "      <th>data.clicked</th>\n",
       "      <th>data.title</th>\n",
       "      <th>...</th>\n",
       "      <th>data.media_metadata.1zivd85a81gc1.status</th>\n",
       "      <th>data.media_metadata.1zivd85a81gc1.e</th>\n",
       "      <th>data.media_metadata.1zivd85a81gc1.m</th>\n",
       "      <th>data.media_metadata.1zivd85a81gc1.p</th>\n",
       "      <th>data.media_metadata.1zivd85a81gc1.s.y</th>\n",
       "      <th>data.media_metadata.1zivd85a81gc1.s.gif</th>\n",
       "      <th>data.media_metadata.1zivd85a81gc1.s.mp4</th>\n",
       "      <th>data.media_metadata.1zivd85a81gc1.s.x</th>\n",
       "      <th>data.media_metadata.1zivd85a81gc1.id</th>\n",
       "      <th>data.author_cakeday</th>\n",
       "    </tr>\n",
       "  </thead>\n",
       "  <tbody>\n",
       "    <tr>\n",
       "      <th>0</th>\n",
       "      <td>t3</td>\n",
       "      <td>None</td>\n",
       "      <td>datascience</td>\n",
       "      <td></td>\n",
       "      <td>t2_sejrw</td>\n",
       "      <td>False</td>\n",
       "      <td>None</td>\n",
       "      <td>0</td>\n",
       "      <td>False</td>\n",
       "      <td>How to avoid 1/2-assed data analysis</td>\n",
       "      <td>...</td>\n",
       "      <td>NaN</td>\n",
       "      <td>NaN</td>\n",
       "      <td>NaN</td>\n",
       "      <td>NaN</td>\n",
       "      <td>NaN</td>\n",
       "      <td>NaN</td>\n",
       "      <td>NaN</td>\n",
       "      <td>NaN</td>\n",
       "      <td>NaN</td>\n",
       "      <td>NaN</td>\n",
       "    </tr>\n",
       "    <tr>\n",
       "      <th>1</th>\n",
       "      <td>t3</td>\n",
       "      <td>None</td>\n",
       "      <td>datascience</td>\n",
       "      <td>What's your favourite one line code.</td>\n",
       "      <td>t2_dh9o0mnfv</td>\n",
       "      <td>False</td>\n",
       "      <td>None</td>\n",
       "      <td>0</td>\n",
       "      <td>False</td>\n",
       "      <td>Favourite piece of code 🤣</td>\n",
       "      <td>...</td>\n",
       "      <td>NaN</td>\n",
       "      <td>NaN</td>\n",
       "      <td>NaN</td>\n",
       "      <td>NaN</td>\n",
       "      <td>NaN</td>\n",
       "      <td>NaN</td>\n",
       "      <td>NaN</td>\n",
       "      <td>NaN</td>\n",
       "      <td>NaN</td>\n",
       "      <td>NaN</td>\n",
       "    </tr>\n",
       "    <tr>\n",
       "      <th>2</th>\n",
       "      <td>t3</td>\n",
       "      <td>None</td>\n",
       "      <td>datascience</td>\n",
       "      <td></td>\n",
       "      <td>t2_sejrw</td>\n",
       "      <td>False</td>\n",
       "      <td>None</td>\n",
       "      <td>0</td>\n",
       "      <td>False</td>\n",
       "      <td>You're not helping, Excel! please STOP HELPING!!!</td>\n",
       "      <td>...</td>\n",
       "      <td>NaN</td>\n",
       "      <td>NaN</td>\n",
       "      <td>NaN</td>\n",
       "      <td>NaN</td>\n",
       "      <td>NaN</td>\n",
       "      <td>NaN</td>\n",
       "      <td>NaN</td>\n",
       "      <td>NaN</td>\n",
       "      <td>NaN</td>\n",
       "      <td>NaN</td>\n",
       "    </tr>\n",
       "    <tr>\n",
       "      <th>3</th>\n",
       "      <td>t3</td>\n",
       "      <td>None</td>\n",
       "      <td>datascience</td>\n",
       "      <td>The year just started and there are already ov...</td>\n",
       "      <td>NaN</td>\n",
       "      <td>False</td>\n",
       "      <td>None</td>\n",
       "      <td>0</td>\n",
       "      <td>False</td>\n",
       "      <td>Friendly reminder not to work too hard. You'll...</td>\n",
       "      <td>...</td>\n",
       "      <td>NaN</td>\n",
       "      <td>NaN</td>\n",
       "      <td>NaN</td>\n",
       "      <td>NaN</td>\n",
       "      <td>NaN</td>\n",
       "      <td>NaN</td>\n",
       "      <td>NaN</td>\n",
       "      <td>NaN</td>\n",
       "      <td>NaN</td>\n",
       "      <td>NaN</td>\n",
       "    </tr>\n",
       "    <tr>\n",
       "      <th>4</th>\n",
       "      <td>t3</td>\n",
       "      <td>None</td>\n",
       "      <td>datascience</td>\n",
       "      <td>In summary and basically talks about how she w...</td>\n",
       "      <td>t2_uy28jztl</td>\n",
       "      <td>False</td>\n",
       "      <td>None</td>\n",
       "      <td>0</td>\n",
       "      <td>False</td>\n",
       "      <td>Data scientist quits her job at Spotify</td>\n",
       "      <td>...</td>\n",
       "      <td>NaN</td>\n",
       "      <td>NaN</td>\n",
       "      <td>NaN</td>\n",
       "      <td>NaN</td>\n",
       "      <td>NaN</td>\n",
       "      <td>NaN</td>\n",
       "      <td>NaN</td>\n",
       "      <td>NaN</td>\n",
       "      <td>NaN</td>\n",
       "      <td>NaN</td>\n",
       "    </tr>\n",
       "  </tbody>\n",
       "</table>\n",
       "<p>5 rows × 362 columns</p>\n",
       "</div>"
      ],
      "text/plain": [
       "  kind data.approved_at_utc data.subreddit  \\\n",
       "0   t3                 None    datascience   \n",
       "1   t3                 None    datascience   \n",
       "2   t3                 None    datascience   \n",
       "3   t3                 None    datascience   \n",
       "4   t3                 None    datascience   \n",
       "\n",
       "                                       data.selftext data.author_fullname  \\\n",
       "0                                                                t2_sejrw   \n",
       "1               What's your favourite one line code.         t2_dh9o0mnfv   \n",
       "2                                                                t2_sejrw   \n",
       "3  The year just started and there are already ov...                  NaN   \n",
       "4  In summary and basically talks about how she w...          t2_uy28jztl   \n",
       "\n",
       "   data.saved data.mod_reason_title  data.gilded  data.clicked  \\\n",
       "0       False                  None            0         False   \n",
       "1       False                  None            0         False   \n",
       "2       False                  None            0         False   \n",
       "3       False                  None            0         False   \n",
       "4       False                  None            0         False   \n",
       "\n",
       "                                          data.title  ...  \\\n",
       "0               How to avoid 1/2-assed data analysis  ...   \n",
       "1                          Favourite piece of code 🤣  ...   \n",
       "2  You're not helping, Excel! please STOP HELPING!!!  ...   \n",
       "3  Friendly reminder not to work too hard. You'll...  ...   \n",
       "4            Data scientist quits her job at Spotify  ...   \n",
       "\n",
       "  data.media_metadata.1zivd85a81gc1.status  \\\n",
       "0                                      NaN   \n",
       "1                                      NaN   \n",
       "2                                      NaN   \n",
       "3                                      NaN   \n",
       "4                                      NaN   \n",
       "\n",
       "  data.media_metadata.1zivd85a81gc1.e  data.media_metadata.1zivd85a81gc1.m  \\\n",
       "0                                 NaN                                  NaN   \n",
       "1                                 NaN                                  NaN   \n",
       "2                                 NaN                                  NaN   \n",
       "3                                 NaN                                  NaN   \n",
       "4                                 NaN                                  NaN   \n",
       "\n",
       "   data.media_metadata.1zivd85a81gc1.p data.media_metadata.1zivd85a81gc1.s.y  \\\n",
       "0                                  NaN                                   NaN   \n",
       "1                                  NaN                                   NaN   \n",
       "2                                  NaN                                   NaN   \n",
       "3                                  NaN                                   NaN   \n",
       "4                                  NaN                                   NaN   \n",
       "\n",
       "   data.media_metadata.1zivd85a81gc1.s.gif  \\\n",
       "0                                      NaN   \n",
       "1                                      NaN   \n",
       "2                                      NaN   \n",
       "3                                      NaN   \n",
       "4                                      NaN   \n",
       "\n",
       "   data.media_metadata.1zivd85a81gc1.s.mp4  \\\n",
       "0                                      NaN   \n",
       "1                                      NaN   \n",
       "2                                      NaN   \n",
       "3                                      NaN   \n",
       "4                                      NaN   \n",
       "\n",
       "  data.media_metadata.1zivd85a81gc1.s.x  data.media_metadata.1zivd85a81gc1.id  \\\n",
       "0                                   NaN                                   NaN   \n",
       "1                                   NaN                                   NaN   \n",
       "2                                   NaN                                   NaN   \n",
       "3                                   NaN                                   NaN   \n",
       "4                                   NaN                                   NaN   \n",
       "\n",
       "  data.author_cakeday  \n",
       "0                 NaN  \n",
       "1                 NaN  \n",
       "2                 NaN  \n",
       "3                 NaN  \n",
       "4                 NaN  \n",
       "\n",
       "[5 rows x 362 columns]"
      ]
     },
     "execution_count": 21,
     "metadata": {},
     "output_type": "execute_result"
    }
   ],
   "source": [
    "pd.json_normalize(posts).head()"
   ]
  },
  {
   "cell_type": "markdown",
   "metadata": {},
   "source": [
    "## 3.2 Getting the next page of posts\n",
    "\n",
    "Let's make use of the `after` parameter to get the next page of posts."
   ]
  },
  {
   "cell_type": "code",
   "execution_count": 22,
   "metadata": {},
   "outputs": [],
   "source": [
    "next_posts, after = get_next_top100_posts(\"datascience\", my_token, after)"
   ]
  },
  {
   "cell_type": "markdown",
   "metadata": {},
   "source": [
    "The 'after' should be different now: "
   ]
  },
  {
   "cell_type": "code",
   "execution_count": 23,
   "metadata": {},
   "outputs": [
    {
     "data": {
      "text/plain": [
       "'t3_1c74z15'"
      ]
     },
     "execution_count": 23,
     "metadata": {},
     "output_type": "execute_result"
    }
   ],
   "source": [
    "after"
   ]
  },
  {
   "cell_type": "markdown",
   "metadata": {},
   "source": [
    "Then I can check that the posts are different:"
   ]
  },
  {
   "cell_type": "code",
   "execution_count": 24,
   "metadata": {},
   "outputs": [
    {
     "data": {
      "text/html": [
       "<div>\n",
       "<style scoped>\n",
       "    .dataframe tbody tr th:only-of-type {\n",
       "        vertical-align: middle;\n",
       "    }\n",
       "\n",
       "    .dataframe tbody tr th {\n",
       "        vertical-align: top;\n",
       "    }\n",
       "\n",
       "    .dataframe thead th {\n",
       "        text-align: right;\n",
       "    }\n",
       "</style>\n",
       "<table border=\"1\" class=\"dataframe\">\n",
       "  <thead>\n",
       "    <tr style=\"text-align: right;\">\n",
       "      <th></th>\n",
       "      <th>kind</th>\n",
       "      <th>data.approved_at_utc</th>\n",
       "      <th>data.subreddit</th>\n",
       "      <th>data.selftext</th>\n",
       "      <th>data.author_fullname</th>\n",
       "      <th>data.saved</th>\n",
       "      <th>data.mod_reason_title</th>\n",
       "      <th>data.gilded</th>\n",
       "      <th>data.clicked</th>\n",
       "      <th>data.title</th>\n",
       "      <th>...</th>\n",
       "      <th>data.media_metadata.6y088bkthigc1.s.u</th>\n",
       "      <th>data.media_metadata.6y088bkthigc1.id</th>\n",
       "      <th>data.media_metadata.cdtjg51rcujd1.status</th>\n",
       "      <th>data.media_metadata.cdtjg51rcujd1.e</th>\n",
       "      <th>data.media_metadata.cdtjg51rcujd1.m</th>\n",
       "      <th>data.media_metadata.cdtjg51rcujd1.p</th>\n",
       "      <th>data.media_metadata.cdtjg51rcujd1.s.y</th>\n",
       "      <th>data.media_metadata.cdtjg51rcujd1.s.x</th>\n",
       "      <th>data.media_metadata.cdtjg51rcujd1.s.u</th>\n",
       "      <th>data.media_metadata.cdtjg51rcujd1.id</th>\n",
       "    </tr>\n",
       "  </thead>\n",
       "  <tbody>\n",
       "    <tr>\n",
       "      <th>0</th>\n",
       "      <td>t3</td>\n",
       "      <td>None</td>\n",
       "      <td>datascience</td>\n",
       "      <td>I’ve noticed that many companies opt for Pytho...</td>\n",
       "      <td>t2_7zplwc2g</td>\n",
       "      <td>False</td>\n",
       "      <td>None</td>\n",
       "      <td>0</td>\n",
       "      <td>False</td>\n",
       "      <td>Why Most Companies Prefer Python Over R for Da...</td>\n",
       "      <td>...</td>\n",
       "      <td>NaN</td>\n",
       "      <td>NaN</td>\n",
       "      <td>NaN</td>\n",
       "      <td>NaN</td>\n",
       "      <td>NaN</td>\n",
       "      <td>NaN</td>\n",
       "      <td>NaN</td>\n",
       "      <td>NaN</td>\n",
       "      <td>NaN</td>\n",
       "      <td>NaN</td>\n",
       "    </tr>\n",
       "    <tr>\n",
       "      <th>1</th>\n",
       "      <td>t3</td>\n",
       "      <td>None</td>\n",
       "      <td>datascience</td>\n",
       "      <td>I have been working with a guy and he has some...</td>\n",
       "      <td>t2_7n35ax5s</td>\n",
       "      <td>False</td>\n",
       "      <td>None</td>\n",
       "      <td>0</td>\n",
       "      <td>False</td>\n",
       "      <td>How do I tell someone that there is nothing ne...</td>\n",
       "      <td>...</td>\n",
       "      <td>NaN</td>\n",
       "      <td>NaN</td>\n",
       "      <td>NaN</td>\n",
       "      <td>NaN</td>\n",
       "      <td>NaN</td>\n",
       "      <td>NaN</td>\n",
       "      <td>NaN</td>\n",
       "      <td>NaN</td>\n",
       "      <td>NaN</td>\n",
       "      <td>NaN</td>\n",
       "    </tr>\n",
       "    <tr>\n",
       "      <th>2</th>\n",
       "      <td>t3</td>\n",
       "      <td>None</td>\n",
       "      <td>datascience</td>\n",
       "      <td>Hello everyone! \\n\\nI was asked this question ...</td>\n",
       "      <td>t2_9oq19q3m</td>\n",
       "      <td>False</td>\n",
       "      <td>None</td>\n",
       "      <td>0</td>\n",
       "      <td>False</td>\n",
       "      <td>What are some typical ‘rookie’ mistakes Data S...</td>\n",
       "      <td>...</td>\n",
       "      <td>NaN</td>\n",
       "      <td>NaN</td>\n",
       "      <td>NaN</td>\n",
       "      <td>NaN</td>\n",
       "      <td>NaN</td>\n",
       "      <td>NaN</td>\n",
       "      <td>NaN</td>\n",
       "      <td>NaN</td>\n",
       "      <td>NaN</td>\n",
       "      <td>NaN</td>\n",
       "    </tr>\n",
       "    <tr>\n",
       "      <th>3</th>\n",
       "      <td>t3</td>\n",
       "      <td>None</td>\n",
       "      <td>datascience</td>\n",
       "      <td>I have found that many many people fail SQL in...</td>\n",
       "      <td>t2_x7a8w1w00</td>\n",
       "      <td>False</td>\n",
       "      <td>None</td>\n",
       "      <td>0</td>\n",
       "      <td>False</td>\n",
       "      <td>SQL Interview Testing</td>\n",
       "      <td>...</td>\n",
       "      <td>NaN</td>\n",
       "      <td>NaN</td>\n",
       "      <td>NaN</td>\n",
       "      <td>NaN</td>\n",
       "      <td>NaN</td>\n",
       "      <td>NaN</td>\n",
       "      <td>NaN</td>\n",
       "      <td>NaN</td>\n",
       "      <td>NaN</td>\n",
       "      <td>NaN</td>\n",
       "    </tr>\n",
       "  </tbody>\n",
       "</table>\n",
       "<p>4 rows × 291 columns</p>\n",
       "</div>"
      ],
      "text/plain": [
       "  kind data.approved_at_utc data.subreddit  \\\n",
       "0   t3                 None    datascience   \n",
       "1   t3                 None    datascience   \n",
       "2   t3                 None    datascience   \n",
       "3   t3                 None    datascience   \n",
       "\n",
       "                                       data.selftext data.author_fullname  \\\n",
       "0  I’ve noticed that many companies opt for Pytho...          t2_7zplwc2g   \n",
       "1  I have been working with a guy and he has some...          t2_7n35ax5s   \n",
       "2  Hello everyone! \\n\\nI was asked this question ...          t2_9oq19q3m   \n",
       "3  I have found that many many people fail SQL in...         t2_x7a8w1w00   \n",
       "\n",
       "   data.saved data.mod_reason_title  data.gilded  data.clicked  \\\n",
       "0       False                  None            0         False   \n",
       "1       False                  None            0         False   \n",
       "2       False                  None            0         False   \n",
       "3       False                  None            0         False   \n",
       "\n",
       "                                          data.title  ...  \\\n",
       "0  Why Most Companies Prefer Python Over R for Da...  ...   \n",
       "1  How do I tell someone that there is nothing ne...  ...   \n",
       "2  What are some typical ‘rookie’ mistakes Data S...  ...   \n",
       "3                              SQL Interview Testing  ...   \n",
       "\n",
       "  data.media_metadata.6y088bkthigc1.s.u data.media_metadata.6y088bkthigc1.id  \\\n",
       "0                                   NaN                                  NaN   \n",
       "1                                   NaN                                  NaN   \n",
       "2                                   NaN                                  NaN   \n",
       "3                                   NaN                                  NaN   \n",
       "\n",
       "   data.media_metadata.cdtjg51rcujd1.status  \\\n",
       "0                                       NaN   \n",
       "1                                       NaN   \n",
       "2                                       NaN   \n",
       "3                                       NaN   \n",
       "\n",
       "   data.media_metadata.cdtjg51rcujd1.e data.media_metadata.cdtjg51rcujd1.m  \\\n",
       "0                                  NaN                                 NaN   \n",
       "1                                  NaN                                 NaN   \n",
       "2                                  NaN                                 NaN   \n",
       "3                                  NaN                                 NaN   \n",
       "\n",
       "   data.media_metadata.cdtjg51rcujd1.p  data.media_metadata.cdtjg51rcujd1.s.y  \\\n",
       "0                                  NaN                                    NaN   \n",
       "1                                  NaN                                    NaN   \n",
       "2                                  NaN                                    NaN   \n",
       "3                                  NaN                                    NaN   \n",
       "\n",
       "  data.media_metadata.cdtjg51rcujd1.s.x  \\\n",
       "0                                   NaN   \n",
       "1                                   NaN   \n",
       "2                                   NaN   \n",
       "3                                   NaN   \n",
       "\n",
       "   data.media_metadata.cdtjg51rcujd1.s.u data.media_metadata.cdtjg51rcujd1.id  \n",
       "0                                    NaN                                  NaN  \n",
       "1                                    NaN                                  NaN  \n",
       "2                                    NaN                                  NaN  \n",
       "3                                    NaN                                  NaN  \n",
       "\n",
       "[4 rows x 291 columns]"
      ]
     },
     "execution_count": 24,
     "metadata": {},
     "output_type": "execute_result"
    }
   ],
   "source": [
    "pd.json_normalize(next_posts).head(4)"
   ]
  },
  {
   "cell_type": "markdown",
   "metadata": {},
   "source": [
    "# 3. The ultimate code\n",
    "\n",
    "All the code we wrote in this notebook is the form of a tutorial. If I wanted to clean up my notebook and make it shorter, I would move the functions to a separate Python file, import them, and use them in the notebook.\n",
    "\n",
    "This is a sample of how my NB01 would look like:\n",
    "\n",
    "---"
   ]
  },
  {
   "cell_type": "markdown",
   "metadata": {},
   "source": [
    "**OBJECTIVE:** Collect the top 1000 posts of the past year from the `r/datascience` subreddit and save them to a JSON file.\n",
    "\n",
    "**AUTHOR:** [@jonjoncardoso](https://jonjoncardoso.github.io)\n",
    "\n",
    "\\<add some decoration here if I am feeling fancy\\>"
   ]
  },
  {
   "cell_type": "code",
   "execution_count": 25,
   "metadata": {},
   "outputs": [],
   "source": [
    "import os\n",
    "\n",
    "from datetime import datetime\n",
    "\n",
    "# Import all functions from the reddit_utils.py file\n",
    "from reddit_utils import *"
   ]
  },
  {
   "cell_type": "markdown",
   "metadata": {},
   "source": [
    "## 1. Authenticate to Reddit\n",
    "\n",
    "Before I can make any requests to the Reddit API, I need to authenticate myself and get an access token."
   ]
  },
  {
   "cell_type": "code",
   "execution_count": 26,
   "metadata": {},
   "outputs": [
    {
     "name": "stdout",
     "output_type": "stream",
     "text": [
      "✅ A token was returned.\n"
     ]
    }
   ],
   "source": [
    "token = authenticate()\n",
    "\n",
    "#Checking that the authentication worked:\n",
    "print(f\"{'✅ A' if token is not None else '🚫 NO'} token was returned.\")"
   ]
  },
  {
   "cell_type": "markdown",
   "metadata": {},
   "source": [
    "## 2. Get the top 1000 posts from the `r/datascience` subreddit\n",
    "\n",
    "I will use my function `get_n_pages_of_top_posts()` to get the top 1000 posts from the `r/datascience` subreddit."
   ]
  },
  {
   "cell_type": "code",
   "execution_count": 27,
   "metadata": {},
   "outputs": [],
   "source": [
    "# This takes a few seconds to run\n",
    "top1000_posts = get_n_pages_of_top_posts(\"datascience\", token, 10)"
   ]
  },
  {
   "cell_type": "markdown",
   "metadata": {},
   "source": [
    "Confirm that I have a list of 1000 posts:"
   ]
  },
  {
   "cell_type": "code",
   "execution_count": 28,
   "metadata": {},
   "outputs": [
    {
     "name": "stdout",
     "output_type": "stream",
     "text": [
      "The list returned by the function has 1000 elements. YES!\n"
     ]
    }
   ],
   "source": [
    "print(f\"The list returned by the function has {len(top1000_posts)} elements. {'YES!' if len(top1000_posts) == 1000 else 'OH NO!'}\")"
   ]
  },
  {
   "cell_type": "markdown",
   "metadata": {},
   "source": [
    "## 3. Save the data to a JSON file\n",
    "\n",
    "I have not done any pre-processing to this data yet, so I will save the resulting JSON to the `../data/reddit/raw/` folder.\n",
    "\n",
    "I will identify the subreddit name in the filename, as well as the date and time of the request, so that I know when the data was collected."
   ]
  },
  {
   "cell_type": "code",
   "execution_count": 29,
   "metadata": {},
   "outputs": [],
   "source": [
    "# Ensure the folder exists before saving the file\n",
    "folder = '../data/reddit/raw/'\n",
    "os.makedirs(folder, exist_ok=True)\n",
    "\n",
    "# Create a filename that is meaningful to future me\n",
    "filename = f\"datascience_top1000_{datetime.now().strftime('%Y_%m_%d_%H_%M')}.json\"\n",
    "filepath = os.path.join(folder, filename)\n",
    "\n",
    "# In the future, I might want to use jsonlines instead of json\n",
    "# https://stackoverflow.com/a/52393937\n",
    "with open(filepath, 'w', encoding='utf-8') as f:\n",
    "    json.dump(top1000_posts, f)"
   ]
  },
  {
   "cell_type": "markdown",
   "metadata": {},
   "source": [
    "## 4. What's next\n",
    "\n",
    "My work here is not done yet. I will need to clean this data, remove duplicates, and save it to a more structured format, like a database. More on that in [NB02](./W08-Lecture-NB02-Databases.ipynb).\n",
    "\n",
    "I might also revisit this current notebook to include another endpoint (comments, for example) or to collect data from another subreddit."
   ]
  }
 ],
 "metadata": {
  "kernelspec": {
   "display_name": "base",
   "language": "python",
   "name": "python3"
  },
  "language_info": {
   "codemirror_mode": {
    "name": "ipython",
    "version": 3
   },
   "file_extension": ".py",
   "mimetype": "text/x-python",
   "name": "python",
   "nbconvert_exporter": "python",
   "pygments_lexer": "ipython3",
   "version": "3.10.15"
  }
 },
 "nbformat": 4,
 "nbformat_minor": 2
}
