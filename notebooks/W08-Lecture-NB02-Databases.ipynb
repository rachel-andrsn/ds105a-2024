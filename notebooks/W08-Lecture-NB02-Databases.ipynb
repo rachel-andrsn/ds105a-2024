{
 "cells": [
  {
   "cell_type": "markdown",
   "metadata": {},
   "source": [
    "<font style='font-size:1.5em'>**🧑‍🏫 Week 08 Lecture**</font><br>\n",
    "<font style='font-size:1.3em;color:#888888'>NOTEBOOK 02: Normalising and storing data to a database</font>\n",
    "\n",
    "<font style='font-size:1.2em;color:#e26a4f;font-weight:bold'>LSE DS105A – Data for Data Science (2024/25) </font>\n",
    "\n",
    "\n",
    "\n",
    "<div style=\"color: #333333; background-color:rgba(226, 106, 79, 0.075); border-radius: 10px; box-shadow: 0 4px 8px rgba(0, 0, 0, 0.1); padding: 20px 0 20px 10px; margin: 10px 0 10px 0; flex: 1 1 calc(45% - 20px);min-width: 250px;max-width: 350px;align-items:top;min-height: calc(45% - 20px); box-sizing: border-box;font-size:0.9em;\">\n",
    "\n",
    "🗓️ **DATE:** 21 November 2024 \n",
    "\n",
    "⌚ **TIME:** 16.00-18.00\n",
    "\n",
    "📍 **LOCATION:** CLM.5.02\n",
    "</div>\n",
    "\n",
    "\n",
    "**AUTHORS:**  Dr. [Jon Cardoso-Silva](https://jonjoncardoso.github.io)\n",
    "\n",
    "**DEPARTMENT:** [LSE Data Science Institute](https://lse.ac.uk/dsi)\n",
    "\n",
    "**OBJECTIVE**: In Weeks 08 and 09, we will revisit the data science workflow (collection -> storage -> processing -> analysis -> visualization) but with new tools and techniques. We will cover how to use APIs that require authentication to collect data, we will revisit the notion of API endpoints and then, once we have collected the data, we will learn how to store it in a more structured way using databases.\n",
    "\n",
    "<details style=\"width:70%;font-size:1em;border: 1px solid #aaa;border-radius: 4px;padding: .5em;margin-left:0em\"><summary style=\"font-weight:bold\">🖇️ EXPAND FOR USEFUL LINKS</summary>\n",
    "\n",
    "- Python 3's [`venv` module documentation](https://docs.python.org/3/library/venv.html)\n",
    "\n",
    "- W3 Schools' [HTTP Request Methods](https://www.w3schools.com/tags/ref_httpmethods.asp) page\n",
    "\n",
    "- [Reddit API documentation](https://www.reddit.com/dev/api/)\n",
    "- [Reddit API Rules](https://support.reddithelp.com/hc/en-us/articles/16160319875092-Reddit-Data-API-Wiki)\n",
    "\n",
    "- The [JSON Crack Extension](https://marketplace.visualstudio.com/items?itemName=AykutSarac.jsoncrack-vscode) for VS Code to visually inspect JSON files.\n",
    "\n",
    "- 🐼 pandas' [`pd.json_normalize()` function documentation](https://pandas.pydata.org/pandas-docs/stable/reference/api/pandas.json_normalize.html)\n",
    "\n",
    "- [The `pydotenv` library](https://pypi.org/project/python-dotenv/)\n",
    "- [What is the gitignore file?](https://www.atlassian.com/git/tutorials/saving-changes/gitignore)\n",
    "\n",
    "\n",
    "Not covered here but relevant to your upcoming assignment:\n",
    "\n",
    "- [Spotify API documentation](https://developer.spotify.com/documentation/web-api/)\n",
    "- [Spotify Getting Started Guide](https://developer.spotify.com/documentation/web-api/quick-start/)\n",
    "\n",
    "</details>\n"
   ]
  },
  {
   "cell_type": "markdown",
   "metadata": {},
   "source": [
    "---\n",
    "\n",
    "**⚙️ SETUP**\n",
    "\n",
    "Before you continue, set up your Python environment. Check the instructions under the ['🐍 Python environment' section on README](../README.md#🐍-python-environment)."
   ]
  },
  {
   "cell_type": "code",
   "execution_count": 1,
   "metadata": {},
   "outputs": [],
   "source": [
    "import os\n",
    "import json\n",
    "import requests\n",
    "\n",
    "import pandas as pd\n",
    "\n",
    "from sqlalchemy import create_engine, text\n",
    "\n",
    "from datetime import datetime\n",
    "\n",
    "from IPython.display import Image"
   ]
  },
  {
   "cell_type": "markdown",
   "metadata": {},
   "source": [
    "# 1. Read the JSON files\n",
    "\n",
    "At the time of writing this notebook, we have collected the top 1000 posts from the subreddit `r/datascience` and saved them in a single JSON file. \n",
    "\n",
    "Our goal now is to store this data in a database. But before we do that, let's read the JSON file and inspect its contents."
   ]
  },
  {
   "cell_type": "code",
   "execution_count": 2,
   "metadata": {},
   "outputs": [
    {
     "data": {
      "text/html": [
       "<div>\n",
       "<style scoped>\n",
       "    .dataframe tbody tr th:only-of-type {\n",
       "        vertical-align: middle;\n",
       "    }\n",
       "\n",
       "    .dataframe tbody tr th {\n",
       "        vertical-align: top;\n",
       "    }\n",
       "\n",
       "    .dataframe thead th {\n",
       "        text-align: right;\n",
       "    }\n",
       "</style>\n",
       "<table border=\"1\" class=\"dataframe\">\n",
       "  <thead>\n",
       "    <tr style=\"text-align: right;\">\n",
       "      <th></th>\n",
       "      <th>kind</th>\n",
       "      <th>data</th>\n",
       "    </tr>\n",
       "  </thead>\n",
       "  <tbody>\n",
       "    <tr>\n",
       "      <th>0</th>\n",
       "      <td>t3</td>\n",
       "      <td>{'approved_at_utc': None, 'subreddit': 'datasc...</td>\n",
       "    </tr>\n",
       "    <tr>\n",
       "      <th>1</th>\n",
       "      <td>t3</td>\n",
       "      <td>{'approved_at_utc': None, 'subreddit': 'datasc...</td>\n",
       "    </tr>\n",
       "    <tr>\n",
       "      <th>2</th>\n",
       "      <td>t3</td>\n",
       "      <td>{'approved_at_utc': None, 'subreddit': 'datasc...</td>\n",
       "    </tr>\n",
       "    <tr>\n",
       "      <th>3</th>\n",
       "      <td>t3</td>\n",
       "      <td>{'approved_at_utc': None, 'subreddit': 'datasc...</td>\n",
       "    </tr>\n",
       "    <tr>\n",
       "      <th>4</th>\n",
       "      <td>t3</td>\n",
       "      <td>{'approved_at_utc': None, 'subreddit': 'datasc...</td>\n",
       "    </tr>\n",
       "  </tbody>\n",
       "</table>\n",
       "</div>"
      ],
      "text/plain": [
       "  kind                                               data\n",
       "0   t3  {'approved_at_utc': None, 'subreddit': 'datasc...\n",
       "1   t3  {'approved_at_utc': None, 'subreddit': 'datasc...\n",
       "2   t3  {'approved_at_utc': None, 'subreddit': 'datasc...\n",
       "3   t3  {'approved_at_utc': None, 'subreddit': 'datasc...\n",
       "4   t3  {'approved_at_utc': None, 'subreddit': 'datasc..."
      ]
     },
     "execution_count": 2,
     "metadata": {},
     "output_type": "execute_result"
    }
   ],
   "source": [
    "filepath = '../data/reddit/raw/datascience_top1000_2024_11_21_09_56.json'\n",
    "\n",
    "# How does the data look like?\n",
    "pd.read_json(filepath).head()"
   ]
  },
  {
   "cell_type": "markdown",
   "metadata": {},
   "source": [
    "Using my knowledge of Week 07, I know that there is a `data` key in the JSON file that contains a list of dictionaries. Each dictionary represents a post in the subreddit. I can use the `pd.json_normalize()` function to flatten this list of dictionaries into a DataFrame."
   ]
  },
  {
   "cell_type": "code",
   "execution_count": 3,
   "metadata": {},
   "outputs": [
    {
     "name": "stdout",
     "output_type": "stream",
     "text": [
      "Number of posts: 1000 (🎉 AS EXPECTED)\n"
     ]
    }
   ],
   "source": [
    "df = pd.json_normalize(pd.read_json(filepath)['data'])\n",
    "\n",
    "print(f\"Number of posts: {df.shape[0]} {'(🎉 AS EXPECTED)' if df.shape[0] == 1000 else ''}\")"
   ]
  },
  {
   "cell_type": "markdown",
   "metadata": {},
   "source": [
    "# 2 Inspecting the DataFrame (to study later)\n",
    "\n",
    "In this SECTION, I demonstrate how I would inspect this unfamiliar DataFrame to understand its structure and decide which columns to keep.\n",
    "\n",
    "First of all, my interest with the current endpoint lies in understanding the type of content that is heavily favoured in the `r/datascience` subreddit. I might also want to look at, say, the comments later but for now, I will focus on the posts themselves. Let's check what each of these columns represent and decide which ones we want to keep."
   ]
  },
  {
   "cell_type": "code",
   "execution_count": 4,
   "metadata": {},
   "outputs": [
    {
     "name": "stdout",
     "output_type": "stream",
     "text": [
      "<class 'pandas.core.frame.DataFrame'>\n",
      "RangeIndex: 1000 entries, 0 to 999\n",
      "Columns: 870 entries, approved_at_utc to media_metadata.8u50wr1mo7ic1.id\n",
      "dtypes: bool(28), float64(199), int64(10), object(633)\n",
      "memory usage: 6.5+ MB\n"
     ]
    }
   ],
   "source": [
    "# Oh no, there are 870 columns!\n",
    "df.info()"
   ]
  },
  {
   "cell_type": "code",
   "execution_count": 5,
   "metadata": {},
   "outputs": [
    {
     "data": {
      "text/plain": [
       "Index(['approved_at_utc', 'subreddit', 'selftext', 'author_fullname', 'saved',\n",
       "       'mod_reason_title', 'gilded', 'clicked', 'title', 'link_flair_richtext',\n",
       "       ...\n",
       "       'media.oembed.description', 'media.oembed.mean_alpha',\n",
       "       'media_metadata.8u50wr1mo7ic1.status', 'media_metadata.8u50wr1mo7ic1.e',\n",
       "       'media_metadata.8u50wr1mo7ic1.m', 'media_metadata.8u50wr1mo7ic1.p',\n",
       "       'media_metadata.8u50wr1mo7ic1.s.y', 'media_metadata.8u50wr1mo7ic1.s.x',\n",
       "       'media_metadata.8u50wr1mo7ic1.s.u', 'media_metadata.8u50wr1mo7ic1.id'],\n",
       "      dtype='object', length=870)"
      ]
     },
     "execution_count": 5,
     "metadata": {},
     "output_type": "execute_result"
    }
   ],
   "source": [
    "# There are just too many!\n",
    "df.columns"
   ]
  },
  {
   "cell_type": "markdown",
   "metadata": {},
   "source": [
    "## Investigate columns that were automatically normalised\n",
    "\n",
    "All the columns that have a `.` in their name were automatically normalised by `pd.json_normalize()`. \n",
    "\n",
    "Some had deeper nested structures, producing more `.` in their names."
   ]
  },
  {
   "cell_type": "code",
   "execution_count": 6,
   "metadata": {},
   "outputs": [
    {
     "name": "stdout",
     "output_type": "stream",
     "text": [
      "There are 762 columns with `.` in their name.\n"
     ]
    }
   ],
   "source": [
    "# Loop over all column names and identify those with `.` in them\n",
    "\n",
    "normalized_cols = [col for col in df.columns if \".\" in col]\n",
    "print(f\"There are {len(normalized_cols)} columns with `.` in their name.\")"
   ]
  },
  {
   "cell_type": "markdown",
   "metadata": {},
   "source": [
    "Right, so A LOT of columns start with `data.`. Let's rename them to make it easier to work with:"
   ]
  },
  {
   "cell_type": "markdown",
   "metadata": {},
   "source": [
    "## Remove columns by prefix"
   ]
  },
  {
   "cell_type": "markdown",
   "metadata": {},
   "source": [
    "What are the prevalent prefixes in the column names?"
   ]
  },
  {
   "cell_type": "code",
   "execution_count": 7,
   "metadata": {},
   "outputs": [
    {
     "data": {
      "text/plain": [
       "media_metadata        718\n",
       "media                  16\n",
       "secure_media           16\n",
       "secure_media_embed      5\n",
       "media_embed             4\n",
       "preview                 2\n",
       "gallery_data            1\n",
       "Name: count, dtype: int64"
      ]
     },
     "execution_count": 7,
     "metadata": {},
     "output_type": "execute_result"
    }
   ],
   "source": [
    "prefixes = pd.Series([col.split(\".\")[0] for col in normalized_cols if \".\" in col]).value_counts()\n",
    "prefixes"
   ]
  },
  {
   "cell_type": "markdown",
   "metadata": {},
   "source": [
    "I don't think I care about any of those! Let's drop them all."
   ]
  },
  {
   "cell_type": "code",
   "execution_count": 8,
   "metadata": {},
   "outputs": [
    {
     "data": {
      "text/plain": [
       "Index(['media_metadata', 'media', 'secure_media', 'secure_media_embed',\n",
       "       'media_embed', 'preview', 'gallery_data'],\n",
       "      dtype='object')"
      ]
     },
     "execution_count": 8,
     "metadata": {},
     "output_type": "execute_result"
    }
   ],
   "source": [
    "prefixes.index"
   ]
  },
  {
   "cell_type": "markdown",
   "metadata": {},
   "source": [
    "💡 **Now here's a pro-tip!** If you want to check if a string starts with a prefix you can do:\n",
    "\n",
    "```python\n",
    "my_string_variable.startswith('prefix')\n",
    "```\n",
    "\n",
    "To check if the string contains any of the prefixes in a list, you can do:\n",
    "\n",
    "```python\n",
    "any([my_string_variable.startswith(prefix) for prefix in my_prefixes_list])\n",
    "```\n",
    "\n",
    "But there is a nicer way to do that! You can simply pass a [tuple](https://www.w3schools.com/python/python_tuples.asp) of prefixes to the `str.startswith()` method:\n",
    "\n",
    "```python\n",
    "my_string_variable.startswith(('prefix1', 'prefix2', 'prefix3'))\n",
    "```"
   ]
  },
  {
   "cell_type": "code",
   "execution_count": 9,
   "metadata": {},
   "outputs": [],
   "source": [
    "irrelevant_prefixes = ('secure_media', 'media', 'preview', 'gallery_data')\n",
    "columns_to_drop = [col for col in df.columns if col.startswith(irrelevant_prefixes)]\n",
    "\n",
    "df = df.drop(columns=columns_to_drop)"
   ]
  },
  {
   "cell_type": "code",
   "execution_count": 10,
   "metadata": {},
   "outputs": [
    {
     "name": "stdout",
     "output_type": "stream",
     "text": [
      "<class 'pandas.core.frame.DataFrame'>\n",
      "RangeIndex: 1000 entries, 0 to 999\n",
      "Columns: 105 entries, approved_at_utc to author_cakeday\n",
      "dtypes: bool(27), float64(5), int64(10), object(63)\n",
      "memory usage: 635.9+ KB\n"
     ]
    }
   ],
   "source": [
    "# We got rid of a bunch of columns\n",
    "df.info()"
   ]
  },
  {
   "cell_type": "markdown",
   "metadata": {},
   "source": [
    "## Identify columns that have weird data types (or are constant)\n",
    "\n",
    "For each column, check if it is made up primarily of lists (Return the string 'list' if it is).\n",
    "\n",
    "If not, check if it has just one single value (Return the string 'single' if it is). Otherwise, return the string 'multiple'."
   ]
  },
  {
   "cell_type": "code",
   "execution_count": 11,
   "metadata": {},
   "outputs": [
    {
     "data": {
      "text/html": [
       "<div>\n",
       "<style scoped>\n",
       "    .dataframe tbody tr th:only-of-type {\n",
       "        vertical-align: middle;\n",
       "    }\n",
       "\n",
       "    .dataframe tbody tr th {\n",
       "        vertical-align: top;\n",
       "    }\n",
       "\n",
       "    .dataframe thead th {\n",
       "        text-align: right;\n",
       "    }\n",
       "</style>\n",
       "<table border=\"1\" class=\"dataframe\">\n",
       "  <thead>\n",
       "    <tr style=\"text-align: right;\">\n",
       "      <th></th>\n",
       "      <th>count</th>\n",
       "      <th>columns</th>\n",
       "    </tr>\n",
       "    <tr>\n",
       "      <th>column_type</th>\n",
       "      <th></th>\n",
       "      <th></th>\n",
       "    </tr>\n",
       "  </thead>\n",
       "  <tbody>\n",
       "    <tr>\n",
       "      <th>list</th>\n",
       "      <td>8</td>\n",
       "      <td>[link_flair_richtext, user_reports, author_fla...</td>\n",
       "    </tr>\n",
       "    <tr>\n",
       "      <th>multiple</th>\n",
       "      <td>59</td>\n",
       "      <td>[approved_at_utc, selftext, author_fullname, m...</td>\n",
       "    </tr>\n",
       "    <tr>\n",
       "      <th>single</th>\n",
       "      <td>38</td>\n",
       "      <td>[subreddit, saved, gilded, clicked, subreddit_...</td>\n",
       "    </tr>\n",
       "  </tbody>\n",
       "</table>\n",
       "</div>"
      ],
      "text/plain": [
       "             count                                            columns\n",
       "column_type                                                          \n",
       "list             8  [link_flair_richtext, user_reports, author_fla...\n",
       "multiple        59  [approved_at_utc, selftext, author_fullname, m...\n",
       "single          38  [subreddit, saved, gilded, clicked, subreddit_..."
      ]
     },
     "execution_count": 11,
     "metadata": {},
     "output_type": "execute_result"
    }
   ],
   "source": [
    "def get_column_type(column):\n",
    "    \"\"\"\n",
    "    Determine the type of a column based on its values.\n",
    "\n",
    "    Parameters:\n",
    "        column (pandas.Series): The column to analyze.\n",
    "\n",
    "    Returns:\n",
    "        str: The type of the column. Possible values are 'list', 'single', or 'multiple'.\n",
    "    \"\"\"\n",
    "\n",
    "    if any(isinstance(i, list) for i in column):\n",
    "        return 'list'\n",
    "    elif column.nunique() == 1:\n",
    "        return 'single'\n",
    "    else:\n",
    "        return 'multiple'\n",
    "\n",
    "# Let's see what types of columns we have\n",
    "survey_column_types = (\n",
    "    df.apply(get_column_type)\n",
    "      .reset_index(name='column_type')\n",
    "      .rename(columns={'index': 'column'})\n",
    "      .groupby(['column_type'])\n",
    "      .apply(lambda x: pd.Series({'count': len(x), 'columns': x['column'].tolist()}),\n",
    "             include_groups=False)\n",
    ")\n",
    "\n",
    "# After inspecting, I decided that I only care about the columns that have multiple values\n",
    "survey_column_types"
   ]
  },
  {
   "cell_type": "markdown",
   "metadata": {},
   "source": [
    "After some manual investigation, I decided to keep only the columns that have multiple values."
   ]
  },
  {
   "cell_type": "code",
   "execution_count": 12,
   "metadata": {},
   "outputs": [],
   "source": [
    "multiple_value_columns = survey_column_types.loc['multiple', 'columns']\n",
    "\n",
    "# We use copy to avoid SettingDWithCopyWarning later on\n",
    "df = df[multiple_value_columns].copy()"
   ]
  },
  {
   "cell_type": "markdown",
   "metadata": {},
   "source": [
    "## It should be easier to select for what we want now\n",
    "\n",
    "After further inspection of the remaining columns, I decided to keep only the following columns:"
   ]
  },
  {
   "cell_type": "code",
   "execution_count": 13,
   "metadata": {},
   "outputs": [],
   "source": [
    "selected_columns =  [\n",
    "    'id', 'title', 'permalink', 'post_hint',  'url', 'created_utc',           # Identifiers \n",
    "    'ups', 'upvote_ratio', 'score',                                           # Votes\n",
    "    'num_comments', 'is_original_content', 'is_self',                         # Post metadata\n",
    "    'author', 'author_fullname',                                              # Author metadata\n",
    "    'content_categories', 'edited', 'domain'                                  # Misc metadata\n",
    "]"
   ]
  },
  {
   "cell_type": "code",
   "execution_count": 14,
   "metadata": {},
   "outputs": [],
   "source": [
    "# We use copy to avoid SettingDWithCopyWarning later on\n",
    "df = df[selected_columns].copy()"
   ]
  },
  {
   "cell_type": "markdown",
   "metadata": {},
   "source": [
    "## 2.3 Cleaning up the DataFrame\n",
    "\n",
    "After A LOT OF WORK, I can summarise my entire initial cleaning of the DataFrame in the following steps:"
   ]
  },
  {
   "cell_type": "code",
   "execution_count": 15,
   "metadata": {},
   "outputs": [
    {
     "data": {
      "text/html": [
       "<div>\n",
       "<style scoped>\n",
       "    .dataframe tbody tr th:only-of-type {\n",
       "        vertical-align: middle;\n",
       "    }\n",
       "\n",
       "    .dataframe tbody tr th {\n",
       "        vertical-align: top;\n",
       "    }\n",
       "\n",
       "    .dataframe thead th {\n",
       "        text-align: right;\n",
       "    }\n",
       "</style>\n",
       "<table border=\"1\" class=\"dataframe\">\n",
       "  <thead>\n",
       "    <tr style=\"text-align: right;\">\n",
       "      <th></th>\n",
       "      <th>id</th>\n",
       "      <th>title</th>\n",
       "      <th>post_hint</th>\n",
       "      <th>url</th>\n",
       "      <th>created_utc</th>\n",
       "      <th>ups</th>\n",
       "      <th>upvote_ratio</th>\n",
       "      <th>score</th>\n",
       "      <th>num_comments</th>\n",
       "      <th>is_original_content</th>\n",
       "      <th>is_self</th>\n",
       "      <th>author</th>\n",
       "      <th>author_fullname</th>\n",
       "      <th>content_categories</th>\n",
       "      <th>edited</th>\n",
       "      <th>domain</th>\n",
       "    </tr>\n",
       "    <tr>\n",
       "      <th>permalink</th>\n",
       "      <th></th>\n",
       "      <th></th>\n",
       "      <th></th>\n",
       "      <th></th>\n",
       "      <th></th>\n",
       "      <th></th>\n",
       "      <th></th>\n",
       "      <th></th>\n",
       "      <th></th>\n",
       "      <th></th>\n",
       "      <th></th>\n",
       "      <th></th>\n",
       "      <th></th>\n",
       "      <th></th>\n",
       "      <th></th>\n",
       "      <th></th>\n",
       "    </tr>\n",
       "  </thead>\n",
       "  <tbody>\n",
       "    <tr>\n",
       "      <th>https://www.reddit.com/r/datascience/comments/1f6ztk4/how_to_avoid_12assed_data_analysis/</th>\n",
       "      <td>1f6ztk4</td>\n",
       "      <td>How to avoid 1/2-assed data analysis</td>\n",
       "      <td>image</td>\n",
       "      <td>https://i.redd.it/l6zd3zsa9cmd1.jpeg</td>\n",
       "      <td>2024-09-02 07:18:04</td>\n",
       "      <td>3122</td>\n",
       "      <td>0.98</td>\n",
       "      <td>3122</td>\n",
       "      <td>56</td>\n",
       "      <td>False</td>\n",
       "      <td>False</td>\n",
       "      <td>BdR76</td>\n",
       "      <td>t2_sejrw</td>\n",
       "      <td>None</td>\n",
       "      <td>False</td>\n",
       "      <td>i.redd.it</td>\n",
       "    </tr>\n",
       "    <tr>\n",
       "      <th>https://www.reddit.com/r/datascience/comments/1feyx6h/favourite_piece_of_code/</th>\n",
       "      <td>1feyx6h</td>\n",
       "      <td>Favourite piece of code 🤣</td>\n",
       "      <td>image</td>\n",
       "      <td>https://i.redd.it/jqvbe1ycrcod1.jpeg</td>\n",
       "      <td>2024-09-12 11:06:40</td>\n",
       "      <td>2810</td>\n",
       "      <td>0.98</td>\n",
       "      <td>2810</td>\n",
       "      <td>102</td>\n",
       "      <td>False</td>\n",
       "      <td>False</td>\n",
       "      <td>nobody_undefined</td>\n",
       "      <td>t2_dh9o0mnfv</td>\n",
       "      <td>None</td>\n",
       "      <td>False</td>\n",
       "      <td>i.redd.it</td>\n",
       "    </tr>\n",
       "    <tr>\n",
       "      <th>https://www.reddit.com/r/datascience/comments/1dsnbww/youre_not_helping_excel_please_stop_helping/</th>\n",
       "      <td>1dsnbww</td>\n",
       "      <td>You're not helping, Excel! please STOP HELPING!!!</td>\n",
       "      <td>image</td>\n",
       "      <td>https://i.redd.it/ccxo0ajs3v9d1.jpeg</td>\n",
       "      <td>2024-07-01 08:46:27</td>\n",
       "      <td>1808</td>\n",
       "      <td>0.97</td>\n",
       "      <td>1808</td>\n",
       "      <td>155</td>\n",
       "      <td>False</td>\n",
       "      <td>False</td>\n",
       "      <td>BdR76</td>\n",
       "      <td>t2_sejrw</td>\n",
       "      <td>None</td>\n",
       "      <td>False</td>\n",
       "      <td>i.redd.it</td>\n",
       "    </tr>\n",
       "    <tr>\n",
       "      <th>https://www.reddit.com/r/datascience/comments/1afgvv9/friendly_reminder_not_to_work_too_hard_youll_just/</th>\n",
       "      <td>1afgvv9</td>\n",
       "      <td>Friendly reminder not to work too hard. You'll...</td>\n",
       "      <td>NaN</td>\n",
       "      <td>https://www.reddit.com/r/datascience/comments/...</td>\n",
       "      <td>2024-01-31 12:37:25</td>\n",
       "      <td>1704</td>\n",
       "      <td>0.93</td>\n",
       "      <td>1704</td>\n",
       "      <td>204</td>\n",
       "      <td>False</td>\n",
       "      <td>True</td>\n",
       "      <td>[deleted]</td>\n",
       "      <td>NaN</td>\n",
       "      <td>None</td>\n",
       "      <td>False</td>\n",
       "      <td>self.datascience</td>\n",
       "    </tr>\n",
       "    <tr>\n",
       "      <th>https://www.reddit.com/r/datascience/comments/1b1au2f/data_scientist_quits_her_job_at_spotify/</th>\n",
       "      <td>1b1au2f</td>\n",
       "      <td>Data scientist quits her job at Spotify</td>\n",
       "      <td>rich:video</td>\n",
       "      <td>https://youtu.be/OMI4Wu9wnY0?si=teFkXgTnPmUAuAyU</td>\n",
       "      <td>2024-02-27 12:37:07</td>\n",
       "      <td>1398</td>\n",
       "      <td>0.91</td>\n",
       "      <td>1398</td>\n",
       "      <td>373</td>\n",
       "      <td>False</td>\n",
       "      <td>False</td>\n",
       "      <td>Direct-Touch469</td>\n",
       "      <td>t2_uy28jztl</td>\n",
       "      <td>None</td>\n",
       "      <td>False</td>\n",
       "      <td>youtu.be</td>\n",
       "    </tr>\n",
       "  </tbody>\n",
       "</table>\n",
       "</div>"
      ],
      "text/plain": [
       "                                                         id  \\\n",
       "permalink                                                     \n",
       "https://www.reddit.com/r/datascience/comments/1...  1f6ztk4   \n",
       "https://www.reddit.com/r/datascience/comments/1...  1feyx6h   \n",
       "https://www.reddit.com/r/datascience/comments/1...  1dsnbww   \n",
       "https://www.reddit.com/r/datascience/comments/1...  1afgvv9   \n",
       "https://www.reddit.com/r/datascience/comments/1...  1b1au2f   \n",
       "\n",
       "                                                                                                title  \\\n",
       "permalink                                                                                               \n",
       "https://www.reddit.com/r/datascience/comments/1...               How to avoid 1/2-assed data analysis   \n",
       "https://www.reddit.com/r/datascience/comments/1...                          Favourite piece of code 🤣   \n",
       "https://www.reddit.com/r/datascience/comments/1...  You're not helping, Excel! please STOP HELPING!!!   \n",
       "https://www.reddit.com/r/datascience/comments/1...  Friendly reminder not to work too hard. You'll...   \n",
       "https://www.reddit.com/r/datascience/comments/1...            Data scientist quits her job at Spotify   \n",
       "\n",
       "                                                     post_hint  \\\n",
       "permalink                                                        \n",
       "https://www.reddit.com/r/datascience/comments/1...       image   \n",
       "https://www.reddit.com/r/datascience/comments/1...       image   \n",
       "https://www.reddit.com/r/datascience/comments/1...       image   \n",
       "https://www.reddit.com/r/datascience/comments/1...         NaN   \n",
       "https://www.reddit.com/r/datascience/comments/1...  rich:video   \n",
       "\n",
       "                                                                                                  url  \\\n",
       "permalink                                                                                               \n",
       "https://www.reddit.com/r/datascience/comments/1...               https://i.redd.it/l6zd3zsa9cmd1.jpeg   \n",
       "https://www.reddit.com/r/datascience/comments/1...               https://i.redd.it/jqvbe1ycrcod1.jpeg   \n",
       "https://www.reddit.com/r/datascience/comments/1...               https://i.redd.it/ccxo0ajs3v9d1.jpeg   \n",
       "https://www.reddit.com/r/datascience/comments/1...  https://www.reddit.com/r/datascience/comments/...   \n",
       "https://www.reddit.com/r/datascience/comments/1...   https://youtu.be/OMI4Wu9wnY0?si=teFkXgTnPmUAuAyU   \n",
       "\n",
       "                                                           created_utc   ups  \\\n",
       "permalink                                                                      \n",
       "https://www.reddit.com/r/datascience/comments/1... 2024-09-02 07:18:04  3122   \n",
       "https://www.reddit.com/r/datascience/comments/1... 2024-09-12 11:06:40  2810   \n",
       "https://www.reddit.com/r/datascience/comments/1... 2024-07-01 08:46:27  1808   \n",
       "https://www.reddit.com/r/datascience/comments/1... 2024-01-31 12:37:25  1704   \n",
       "https://www.reddit.com/r/datascience/comments/1... 2024-02-27 12:37:07  1398   \n",
       "\n",
       "                                                    upvote_ratio  score  \\\n",
       "permalink                                                                 \n",
       "https://www.reddit.com/r/datascience/comments/1...          0.98   3122   \n",
       "https://www.reddit.com/r/datascience/comments/1...          0.98   2810   \n",
       "https://www.reddit.com/r/datascience/comments/1...          0.97   1808   \n",
       "https://www.reddit.com/r/datascience/comments/1...          0.93   1704   \n",
       "https://www.reddit.com/r/datascience/comments/1...          0.91   1398   \n",
       "\n",
       "                                                    num_comments  \\\n",
       "permalink                                                          \n",
       "https://www.reddit.com/r/datascience/comments/1...            56   \n",
       "https://www.reddit.com/r/datascience/comments/1...           102   \n",
       "https://www.reddit.com/r/datascience/comments/1...           155   \n",
       "https://www.reddit.com/r/datascience/comments/1...           204   \n",
       "https://www.reddit.com/r/datascience/comments/1...           373   \n",
       "\n",
       "                                                    is_original_content  \\\n",
       "permalink                                                                 \n",
       "https://www.reddit.com/r/datascience/comments/1...                False   \n",
       "https://www.reddit.com/r/datascience/comments/1...                False   \n",
       "https://www.reddit.com/r/datascience/comments/1...                False   \n",
       "https://www.reddit.com/r/datascience/comments/1...                False   \n",
       "https://www.reddit.com/r/datascience/comments/1...                False   \n",
       "\n",
       "                                                    is_self            author  \\\n",
       "permalink                                                                       \n",
       "https://www.reddit.com/r/datascience/comments/1...    False             BdR76   \n",
       "https://www.reddit.com/r/datascience/comments/1...    False  nobody_undefined   \n",
       "https://www.reddit.com/r/datascience/comments/1...    False             BdR76   \n",
       "https://www.reddit.com/r/datascience/comments/1...     True         [deleted]   \n",
       "https://www.reddit.com/r/datascience/comments/1...    False   Direct-Touch469   \n",
       "\n",
       "                                                   author_fullname  \\\n",
       "permalink                                                            \n",
       "https://www.reddit.com/r/datascience/comments/1...        t2_sejrw   \n",
       "https://www.reddit.com/r/datascience/comments/1...    t2_dh9o0mnfv   \n",
       "https://www.reddit.com/r/datascience/comments/1...        t2_sejrw   \n",
       "https://www.reddit.com/r/datascience/comments/1...             NaN   \n",
       "https://www.reddit.com/r/datascience/comments/1...     t2_uy28jztl   \n",
       "\n",
       "                                                   content_categories edited  \\\n",
       "permalink                                                                      \n",
       "https://www.reddit.com/r/datascience/comments/1...               None  False   \n",
       "https://www.reddit.com/r/datascience/comments/1...               None  False   \n",
       "https://www.reddit.com/r/datascience/comments/1...               None  False   \n",
       "https://www.reddit.com/r/datascience/comments/1...               None  False   \n",
       "https://www.reddit.com/r/datascience/comments/1...               None  False   \n",
       "\n",
       "                                                              domain  \n",
       "permalink                                                             \n",
       "https://www.reddit.com/r/datascience/comments/1...         i.redd.it  \n",
       "https://www.reddit.com/r/datascience/comments/1...         i.redd.it  \n",
       "https://www.reddit.com/r/datascience/comments/1...         i.redd.it  \n",
       "https://www.reddit.com/r/datascience/comments/1...  self.datascience  \n",
       "https://www.reddit.com/r/datascience/comments/1...          youtu.be  "
      ]
     },
     "execution_count": 15,
     "metadata": {},
     "output_type": "execute_result"
    }
   ],
   "source": [
    "# Points to where the data is stored\n",
    "filepath = '../data/reddit/raw/datascience_top1000_2024_11_21_09_56.json'\n",
    "\n",
    "\n",
    "# Columns that I identified as relevant\n",
    "selected_columns =     [\n",
    "    'id', 'title', 'permalink', 'post_hint',  'url', 'created_utc',            # Identifiers \n",
    "     'ups', 'upvote_ratio', 'score',                                           # Votes\n",
    "     'num_comments', 'is_original_content', 'is_self',                         # Post metadata\n",
    "     'author', 'author_fullname',                                              # Author metadata\n",
    "     'content_categories', 'edited', 'domain']                                 # Misc metadata\n",
    "\n",
    "df = (\n",
    "    pd.json_normalize(pd.read_json(filepath)['data'])\n",
    "\n",
    "    # Reformat the `created_utc` column to a human-readable format\n",
    "    .assign(created_utc = lambda x: x['created_utc'].apply(lambda x: datetime.fromtimestamp(x)),\n",
    "            permalink = lambda x: x['permalink'].apply(lambda x: f\"https://www.reddit.com{x}\"))\n",
    "\n",
    "    # Select only the columns that I identified as relevant\n",
    "    .loc[:, selected_columns]\n",
    ")\n",
    "\n",
    "# The top 5 posts\n",
    "# Set an index just to make it easier for me to click on the links\n",
    "df.head(5).set_index('permalink')"
   ]
  },
  {
   "cell_type": "markdown",
   "metadata": {},
   "source": [
    "# 3. Moving this to a database\n",
    "\n",
    "We've learned about CSV, JSON, and plain text (.txt) files. These are all valid ways to store data, but if you see your data growing and need access quickly, you might consider using a **database**.\n",
    "\n",
    "\n",
    "## 3.1 What is a database?\n",
    "\n",
    "As this is not a database course, I will focus only on the basics. We will use a simple database called **SQLite**. It is good for us because it is simple and built into Python.\n",
    "\n",
    "SQLite is:\n",
    "\n",
    "- self-contained, \n",
    "- serverless,\n",
    "- zero-configuration,\n",
    "- transactional SQL database engine. \n",
    "\n",
    "As usual, there is a good W3Schools tutorial on [SQLite](https://www.w3schools.com/sql/sql_intro.asp).\n",
    "\n",
    "<div style=\"width:70%;border: 1px solid #aaa; border-radius:1em; padding: 1em; margin: 1em 0;\">\n",
    "\n",
    "\n",
    "🌰 **In a nutshell: what is a relational (SQL) database?**\n",
    "\n",
    "- Think of it as an even more structured way to store tables (data frames).\n",
    "\n",
    "- If you have a huge table, it is a much more efficient way to store and query data.\n",
    "\n",
    "- Merges are much faster than in 🐼 `pandas` if you have a lot of data.\n",
    "\n",
    "- Every **tuple** (nearly the same concept of a row) in a table is uniquely identified by a **primary key**, a column, or a set of columns that uniquely identifies a row.\n",
    "\n",
    "- Tables can be related to each other using **foreign keys**. This is a way to link tables together.\n",
    "\n",
    "- SQL stands for **Structured Query Language**. It is a language used to interact with databases. You can use it to create, read, update, and delete data from a database.\n",
    "\n",
    "- Most of 🐼 `pandas` functions are essentially an adaptation of SQL\n",
    "\n",
    "- SQLite, the database we will use, is a simple database that comes installed with Python.\n",
    "\n",
    "- ⭐ SQLite can store multiple tables in a single file.\n",
    "\n",
    "- A SQLite database file can grow to be as large as about 281 terabytes\n",
    "\n",
    "</div>"
   ]
  },
  {
   "cell_type": "markdown",
   "metadata": {},
   "source": [
    "## 3.2 Connecting and exporting the DataFrame to a SQLite database\n",
    "\n",
    "<font style=\"color:#e26a4f;font-weight:bold;\">**THIS IS USEFUL TO KNOW BUT NOT THE WAY WE WANT YOU TO DO IT. SEE SECTION 4.**</font>\n",
    "\n",
    "🐼 `pandas` allows you to export your dataframe to a SQLite database using the [pd.to_sql() function](https://pandas.pydata.org/pandas-docs/stable/reference/api/pandas.DataFrame.to_sql.html):\n",
    "\n",
    "```python\n",
    "\n",
    "df.to_sql('table_name', con=connection_object)\n",
    "\n",
    "```\n",
    "\n",
    "But first, as indicated above, we need to establish a connection to the database."
   ]
  },
  {
   "cell_type": "markdown",
   "metadata": {},
   "source": [
    "**Establishing a connection to a database**"
   ]
  },
  {
   "cell_type": "code",
   "execution_count": 16,
   "metadata": {},
   "outputs": [],
   "source": [
    "# Create a database engine using SQLAlchemy\n",
    "engine = create_engine('sqlite:///../data/reddit/reddit.db', echo=False, isolation_level=\"AUTOCOMMIT\")\n",
    "\n",
    "# Why? Read: https://stackoverflow.com/a/71685414/843365\n",
    "with engine.connect() as conn:\n",
    "    pass"
   ]
  },
  {
   "cell_type": "markdown",
   "metadata": {},
   "source": [
    "**Once you have a connection to a database, storing a DataFrame in it is as simple as:**\n"
   ]
  },
  {
   "cell_type": "code",
   "execution_count": 17,
   "metadata": {},
   "outputs": [
    {
     "data": {
      "text/plain": [
       "1000"
      ]
     },
     "execution_count": 17,
     "metadata": {},
     "output_type": "execute_result"
    }
   ],
   "source": [
    "df.to_sql('top_posts', engine, if_exists='replace', index=False)"
   ]
  },
  {
   "cell_type": "markdown",
   "metadata": {},
   "source": [
    "If you have a VSCode extension, like [SQLite Viewer](https://marketplace.visualstudio.com/items?itemName=qwtel.sqlite-viewer) you can easily inspect the database."
   ]
  },
  {
   "cell_type": "markdown",
   "metadata": {},
   "source": [
    "## 3.3 Overwriting the table\n",
    "\n",
    "If you made a mistake or changed your mind about the data you stored in the database, you can overwrite the table by setting the `if_exists` parameter to `'replace'`."
   ]
  },
  {
   "cell_type": "markdown",
   "metadata": {},
   "source": [
    "For example, I realised that my DataFrame did not store the rank of the post. I can fix the DataFrame in Python and then overwrite the table in the database:"
   ]
  },
  {
   "cell_type": "code",
   "execution_count": 18,
   "metadata": {},
   "outputs": [],
   "source": [
    "# TODO: It would be better to do this in the function that reads the data, not here.\n",
    "df['rank'] = range(1, df.shape[0] + 1)"
   ]
  },
  {
   "cell_type": "code",
   "execution_count": 19,
   "metadata": {},
   "outputs": [
    {
     "data": {
      "text/plain": [
       "1000"
      ]
     },
     "execution_count": 19,
     "metadata": {},
     "output_type": "execute_result"
    }
   ],
   "source": [
    "df.to_sql('top_posts', engine, if_exists='replace', index=False)"
   ]
  },
  {
   "cell_type": "markdown",
   "metadata": {},
   "source": [
    "## 3.4 Reading from a database\n",
    "\n",
    "If you have a connection to a database, you can read a table from it using the `pd.read_sql()` function:"
   ]
  },
  {
   "cell_type": "code",
   "execution_count": 20,
   "metadata": {},
   "outputs": [],
   "source": [
    "df_from_db = pd.read_sql('top_posts', engine)"
   ]
  },
  {
   "cell_type": "code",
   "execution_count": 21,
   "metadata": {},
   "outputs": [
    {
     "data": {
      "text/html": [
       "<div>\n",
       "<style scoped>\n",
       "    .dataframe tbody tr th:only-of-type {\n",
       "        vertical-align: middle;\n",
       "    }\n",
       "\n",
       "    .dataframe tbody tr th {\n",
       "        vertical-align: top;\n",
       "    }\n",
       "\n",
       "    .dataframe thead th {\n",
       "        text-align: right;\n",
       "    }\n",
       "</style>\n",
       "<table border=\"1\" class=\"dataframe\">\n",
       "  <thead>\n",
       "    <tr style=\"text-align: right;\">\n",
       "      <th></th>\n",
       "      <th>id</th>\n",
       "      <th>title</th>\n",
       "      <th>permalink</th>\n",
       "      <th>post_hint</th>\n",
       "      <th>url</th>\n",
       "      <th>created_utc</th>\n",
       "      <th>ups</th>\n",
       "      <th>upvote_ratio</th>\n",
       "      <th>score</th>\n",
       "      <th>num_comments</th>\n",
       "      <th>is_original_content</th>\n",
       "      <th>is_self</th>\n",
       "      <th>author</th>\n",
       "      <th>author_fullname</th>\n",
       "      <th>content_categories</th>\n",
       "      <th>edited</th>\n",
       "      <th>domain</th>\n",
       "      <th>rank</th>\n",
       "    </tr>\n",
       "  </thead>\n",
       "  <tbody>\n",
       "    <tr>\n",
       "      <th>0</th>\n",
       "      <td>1f6ztk4</td>\n",
       "      <td>How to avoid 1/2-assed data analysis</td>\n",
       "      <td>https://www.reddit.com/r/datascience/comments/...</td>\n",
       "      <td>image</td>\n",
       "      <td>https://i.redd.it/l6zd3zsa9cmd1.jpeg</td>\n",
       "      <td>2024-09-02 07:18:04</td>\n",
       "      <td>3122</td>\n",
       "      <td>0.98</td>\n",
       "      <td>3122</td>\n",
       "      <td>56</td>\n",
       "      <td>False</td>\n",
       "      <td>False</td>\n",
       "      <td>BdR76</td>\n",
       "      <td>t2_sejrw</td>\n",
       "      <td>None</td>\n",
       "      <td>0</td>\n",
       "      <td>i.redd.it</td>\n",
       "      <td>1</td>\n",
       "    </tr>\n",
       "    <tr>\n",
       "      <th>1</th>\n",
       "      <td>1feyx6h</td>\n",
       "      <td>Favourite piece of code 🤣</td>\n",
       "      <td>https://www.reddit.com/r/datascience/comments/...</td>\n",
       "      <td>image</td>\n",
       "      <td>https://i.redd.it/jqvbe1ycrcod1.jpeg</td>\n",
       "      <td>2024-09-12 11:06:40</td>\n",
       "      <td>2810</td>\n",
       "      <td>0.98</td>\n",
       "      <td>2810</td>\n",
       "      <td>102</td>\n",
       "      <td>False</td>\n",
       "      <td>False</td>\n",
       "      <td>nobody_undefined</td>\n",
       "      <td>t2_dh9o0mnfv</td>\n",
       "      <td>None</td>\n",
       "      <td>0</td>\n",
       "      <td>i.redd.it</td>\n",
       "      <td>2</td>\n",
       "    </tr>\n",
       "    <tr>\n",
       "      <th>2</th>\n",
       "      <td>1dsnbww</td>\n",
       "      <td>You're not helping, Excel! please STOP HELPING!!!</td>\n",
       "      <td>https://www.reddit.com/r/datascience/comments/...</td>\n",
       "      <td>image</td>\n",
       "      <td>https://i.redd.it/ccxo0ajs3v9d1.jpeg</td>\n",
       "      <td>2024-07-01 08:46:27</td>\n",
       "      <td>1808</td>\n",
       "      <td>0.97</td>\n",
       "      <td>1808</td>\n",
       "      <td>155</td>\n",
       "      <td>False</td>\n",
       "      <td>False</td>\n",
       "      <td>BdR76</td>\n",
       "      <td>t2_sejrw</td>\n",
       "      <td>None</td>\n",
       "      <td>0</td>\n",
       "      <td>i.redd.it</td>\n",
       "      <td>3</td>\n",
       "    </tr>\n",
       "    <tr>\n",
       "      <th>3</th>\n",
       "      <td>1afgvv9</td>\n",
       "      <td>Friendly reminder not to work too hard. You'll...</td>\n",
       "      <td>https://www.reddit.com/r/datascience/comments/...</td>\n",
       "      <td>None</td>\n",
       "      <td>https://www.reddit.com/r/datascience/comments/...</td>\n",
       "      <td>2024-01-31 12:37:25</td>\n",
       "      <td>1704</td>\n",
       "      <td>0.93</td>\n",
       "      <td>1704</td>\n",
       "      <td>204</td>\n",
       "      <td>False</td>\n",
       "      <td>True</td>\n",
       "      <td>[deleted]</td>\n",
       "      <td>None</td>\n",
       "      <td>None</td>\n",
       "      <td>0</td>\n",
       "      <td>self.datascience</td>\n",
       "      <td>4</td>\n",
       "    </tr>\n",
       "  </tbody>\n",
       "</table>\n",
       "</div>"
      ],
      "text/plain": [
       "        id                                              title  \\\n",
       "0  1f6ztk4               How to avoid 1/2-assed data analysis   \n",
       "1  1feyx6h                          Favourite piece of code 🤣   \n",
       "2  1dsnbww  You're not helping, Excel! please STOP HELPING!!!   \n",
       "3  1afgvv9  Friendly reminder not to work too hard. You'll...   \n",
       "\n",
       "                                           permalink post_hint  \\\n",
       "0  https://www.reddit.com/r/datascience/comments/...     image   \n",
       "1  https://www.reddit.com/r/datascience/comments/...     image   \n",
       "2  https://www.reddit.com/r/datascience/comments/...     image   \n",
       "3  https://www.reddit.com/r/datascience/comments/...      None   \n",
       "\n",
       "                                                 url         created_utc  \\\n",
       "0               https://i.redd.it/l6zd3zsa9cmd1.jpeg 2024-09-02 07:18:04   \n",
       "1               https://i.redd.it/jqvbe1ycrcod1.jpeg 2024-09-12 11:06:40   \n",
       "2               https://i.redd.it/ccxo0ajs3v9d1.jpeg 2024-07-01 08:46:27   \n",
       "3  https://www.reddit.com/r/datascience/comments/... 2024-01-31 12:37:25   \n",
       "\n",
       "    ups  upvote_ratio  score  num_comments  is_original_content  is_self  \\\n",
       "0  3122          0.98   3122            56                False    False   \n",
       "1  2810          0.98   2810           102                False    False   \n",
       "2  1808          0.97   1808           155                False    False   \n",
       "3  1704          0.93   1704           204                False     True   \n",
       "\n",
       "             author author_fullname content_categories edited  \\\n",
       "0             BdR76        t2_sejrw               None      0   \n",
       "1  nobody_undefined    t2_dh9o0mnfv               None      0   \n",
       "2             BdR76        t2_sejrw               None      0   \n",
       "3         [deleted]            None               None      0   \n",
       "\n",
       "             domain  rank  \n",
       "0         i.redd.it     1  \n",
       "1         i.redd.it     2  \n",
       "2         i.redd.it     3  \n",
       "3  self.datascience     4  "
      ]
     },
     "execution_count": 21,
     "metadata": {},
     "output_type": "execute_result"
    }
   ],
   "source": [
    "df_from_db.head(4)"
   ]
  },
  {
   "cell_type": "markdown",
   "metadata": {},
   "source": [
    "# 4. A more principled approach\n",
    "\n",
    "While `to_sql()` is easy and convenient, it is NOT the most efficient way to store data in a database.\n",
    "\n",
    "Similar to Pandas, each column of a SQL table has a data type. When you use `to_sql()`, Pandas will try to infer the data type of each column but it will always default to a 'safe' data type. This can be inefficient if you know the data types of your columns could be more specific."
   ]
  },
  {
   "cell_type": "markdown",
   "metadata": {},
   "source": [
    "**What are the data types of my DataFrame in Pandas?**"
   ]
  },
  {
   "cell_type": "code",
   "execution_count": 22,
   "metadata": {},
   "outputs": [
    {
     "name": "stdout",
     "output_type": "stream",
     "text": [
      "<class 'pandas.core.frame.DataFrame'>\n",
      "RangeIndex: 1000 entries, 0 to 999\n",
      "Data columns (total 18 columns):\n",
      " #   Column               Non-Null Count  Dtype         \n",
      "---  ------               --------------  -----         \n",
      " 0   id                   1000 non-null   object        \n",
      " 1   title                1000 non-null   object        \n",
      " 2   permalink            1000 non-null   object        \n",
      " 3   post_hint            159 non-null    object        \n",
      " 4   url                  1000 non-null   object        \n",
      " 5   created_utc          1000 non-null   datetime64[ns]\n",
      " 6   ups                  1000 non-null   int64         \n",
      " 7   upvote_ratio         1000 non-null   float64       \n",
      " 8   score                1000 non-null   int64         \n",
      " 9   num_comments         1000 non-null   int64         \n",
      " 10  is_original_content  1000 non-null   bool          \n",
      " 11  is_self              1000 non-null   bool          \n",
      " 12  author               1000 non-null   object        \n",
      " 13  author_fullname      924 non-null    object        \n",
      " 14  content_categories   0 non-null      object        \n",
      " 15  edited               1000 non-null   object        \n",
      " 16  domain               1000 non-null   object        \n",
      " 17  rank                 1000 non-null   int64         \n",
      "dtypes: bool(2), datetime64[ns](1), float64(1), int64(4), object(10)\n",
      "memory usage: 127.1+ KB\n"
     ]
    }
   ],
   "source": [
    "df.info()"
   ]
  },
  {
   "cell_type": "markdown",
   "metadata": {},
   "source": [
    "You might remember from classes past that the 'object' data type in Pandas is a catch-all for any data type that is not a number or a boolean. Typically, this means that the data type is a string.\n",
    "\n",
    "In SQL, you can specify the [data type](https://www.w3schools.com/sql/sql_datatypes.asp) of each column. Confusingly, SQLite has its own data types that are similar to other SQL databases but not exactly the same.\n",
    "\n",
    "<font style=\"color:#e26a4f;font-weight:bold;\">Click [here](https://www.sqlite.org/datatype3.html) to learn more about SQLite-specific data types.</font>\n",
    "\n",
    "💡 **There are several data types to represent strings.** \n",
    "\n",
    "- There is a data type called `TEXT` that can store text of any length. Pandas will always default to `TEXT` when you use `to_sql()`.\n",
    "\n",
    "- But if you _know_ that your text always have a pre-determined number of characters, you can use `CHAR(N)` where `N` is the number of characters. This will be more efficient in terms of storage.\n",
    "\n",
    "- If you _know_ that your text can vary in length but you have an upper limit, you can use `VARCHAR(N)` where `N` is the maximum number of characters.\n",
    "\n",
    "**Similarly, there are several data types to represent numbers, and there are specific data types for dates and times, too.**"
   ]
  },
  {
   "cell_type": "markdown",
   "metadata": {},
   "source": [
    "## 4.1 Check the limits of my data\n",
    "\n",
    "Practice using specific data types by checking the limits of your data.\n",
    "\n",
    "Here is what I suggest you do:\n",
    "\n",
    "- Check all the integers in your DataFrame and establish the minimum and maximum values. Should I store it as `INT2`, `INT8`, `TINYINT`, `BIGINT`, etc.?\n",
    "\n",
    "- Don't worry too much about floating-point numbers. Feel free to just use `REAL` or `FLOAT` if you have numbers with decimal points.\n",
    "\n",
    "- Check all the strings in your DataFrame and establish the maximum length of each string. Should I store it as `CHAR(N)`, `VARCHAR(N)`, or `TEXT`?\n",
    "\n",
    "<span style=\"display:block;background-color:rgba(93, 158, 188, 0.1);padding:0.5em;font-size:1.05em;margin-left:0em;margin-bottom:1em;border-radius:0.5em;width:60%\">🤔 **Think about it:** Sometimes the decision is not about what is the min and max value in your dataset but what is the **theoretical minimum and maximum**. If you choose a data type that is too narrow and later on you need to add a value that goes beyond the limits of that column, you will get an error.</span>"
   ]
  },
  {
   "cell_type": "code",
   "execution_count": 23,
   "metadata": {},
   "outputs": [],
   "source": [
    "# My integer columns\n",
    "int_columns = [col for col in df.columns if df[col].dtype == 'int64']\n",
    "\n",
    "# My float columns\n",
    "float_columns = [col for col in df.columns if df[col].dtype == 'float64']\n",
    "\n",
    "# My text columns (potentially)\n",
    "text_columns = [col for col in df.columns if df[col].dtype == 'object']"
   ]
  },
  {
   "cell_type": "markdown",
   "metadata": {},
   "source": [
    "### Checking my integers\n",
    "\n",
    "Checking the limits of the integers in my DataFrame:"
   ]
  },
  {
   "cell_type": "code",
   "execution_count": 24,
   "metadata": {},
   "outputs": [
    {
     "data": {
      "text/html": [
       "<div>\n",
       "<style scoped>\n",
       "    .dataframe tbody tr th:only-of-type {\n",
       "        vertical-align: middle;\n",
       "    }\n",
       "\n",
       "    .dataframe tbody tr th {\n",
       "        vertical-align: top;\n",
       "    }\n",
       "\n",
       "    .dataframe thead th {\n",
       "        text-align: right;\n",
       "    }\n",
       "</style>\n",
       "<table border=\"1\" class=\"dataframe\">\n",
       "  <thead>\n",
       "    <tr style=\"text-align: right;\">\n",
       "      <th></th>\n",
       "      <th>ups</th>\n",
       "      <th>score</th>\n",
       "      <th>num_comments</th>\n",
       "      <th>rank</th>\n",
       "    </tr>\n",
       "  </thead>\n",
       "  <tbody>\n",
       "    <tr>\n",
       "      <th>min</th>\n",
       "      <td>19.0</td>\n",
       "      <td>19.0</td>\n",
       "      <td>2.0</td>\n",
       "      <td>1.0</td>\n",
       "    </tr>\n",
       "    <tr>\n",
       "      <th>max</th>\n",
       "      <td>3122.0</td>\n",
       "      <td>3122.0</td>\n",
       "      <td>641.0</td>\n",
       "      <td>1000.0</td>\n",
       "    </tr>\n",
       "  </tbody>\n",
       "</table>\n",
       "</div>"
      ],
      "text/plain": [
       "        ups   score  num_comments    rank\n",
       "min    19.0    19.0           2.0     1.0\n",
       "max  3122.0  3122.0         641.0  1000.0"
      ]
     },
     "execution_count": 24,
     "metadata": {},
     "output_type": "execute_result"
    }
   ],
   "source": [
    "df[int_columns].describe().loc[['min', 'max'],:]"
   ]
  },
  {
   "cell_type": "markdown",
   "metadata": {},
   "source": [
    "Based on this, I decided on the following data types:\n",
    "\n",
    "- `ups`: SMALLINT (it seems unlikely that this number will ever be larger than 32,767)\n",
    "\n",
    "- `score`: SMALLINT\n",
    "\n",
    "- `num_comments`: SMALLINT\n",
    "\n",
    "- `rank`: UNSIGNED BIG INT (I feel greedy, so I might want to store more than 4 billion posts in the future)"
   ]
  },
  {
   "cell_type": "markdown",
   "metadata": {},
   "source": [
    "### Checking my strings"
   ]
  },
  {
   "cell_type": "code",
   "execution_count": 25,
   "metadata": {},
   "outputs": [
    {
     "data": {
      "text/html": [
       "<div>\n",
       "<style scoped>\n",
       "    .dataframe tbody tr th:only-of-type {\n",
       "        vertical-align: middle;\n",
       "    }\n",
       "\n",
       "    .dataframe tbody tr th {\n",
       "        vertical-align: top;\n",
       "    }\n",
       "\n",
       "    .dataframe thead th {\n",
       "        text-align: right;\n",
       "    }\n",
       "</style>\n",
       "<table border=\"1\" class=\"dataframe\">\n",
       "  <thead>\n",
       "    <tr style=\"text-align: right;\">\n",
       "      <th></th>\n",
       "      <th>id</th>\n",
       "      <th>title</th>\n",
       "      <th>permalink</th>\n",
       "      <th>post_hint</th>\n",
       "      <th>url</th>\n",
       "      <th>author</th>\n",
       "      <th>author_fullname</th>\n",
       "      <th>content_categories</th>\n",
       "      <th>edited</th>\n",
       "      <th>domain</th>\n",
       "    </tr>\n",
       "  </thead>\n",
       "  <tbody>\n",
       "    <tr>\n",
       "      <th>min</th>\n",
       "      <td>7.0</td>\n",
       "      <td>9.0</td>\n",
       "      <td>64.0</td>\n",
       "      <td>4.0</td>\n",
       "      <td>20.0</td>\n",
       "      <td>4.0</td>\n",
       "      <td>8.0</td>\n",
       "      <td>NaN</td>\n",
       "      <td>NaN</td>\n",
       "      <td>0.0</td>\n",
       "    </tr>\n",
       "    <tr>\n",
       "      <th>max</th>\n",
       "      <td>7.0</td>\n",
       "      <td>295.0</td>\n",
       "      <td>105.0</td>\n",
       "      <td>10.0</td>\n",
       "      <td>188.0</td>\n",
       "      <td>20.0</td>\n",
       "      <td>13.0</td>\n",
       "      <td>NaN</td>\n",
       "      <td>NaN</td>\n",
       "      <td>27.0</td>\n",
       "    </tr>\n",
       "  </tbody>\n",
       "</table>\n",
       "</div>"
      ],
      "text/plain": [
       "      id  title  permalink  post_hint    url  author  author_fullname  \\\n",
       "min  7.0    9.0       64.0        4.0   20.0     4.0              8.0   \n",
       "max  7.0  295.0      105.0       10.0  188.0    20.0             13.0   \n",
       "\n",
       "    content_categories  edited  domain  \n",
       "min                NaN     NaN     0.0  \n",
       "max                NaN     NaN    27.0  "
      ]
     },
     "execution_count": 25,
     "metadata": {},
     "output_type": "execute_result"
    }
   ],
   "source": [
    "df[text_columns].apply(lambda x: x.str.len().describe()).loc[['min', 'max'],:]"
   ]
  },
  {
   "cell_type": "markdown",
   "metadata": {},
   "source": [
    "Based on the above I decided that I will remove the `content_categories` and `edited` columns from my DataFrame, they do not seem to be very useful.\n",
    "\n",
    "I have also decided on the following data types for the remaining columns:\n",
    "\n",
    "- `id`: CHAR(6) (I know that Reddit post IDs are **always** 6 characters long)\n",
    "\n",
    "- `title`: VARCHAR(300) (I don't know the maximum length of a Reddit post title, but it's fairly safe to assume it will be less than 300 characters)\n",
    "\n",
    "- `permalink`: TEXT (links can get long, so I'd rather not risk cutting them off)\n",
    "\n",
    "- `post_hint`: VARCHAR(20) (I know that the post_hint column can only have a few values, so I can limit the length of the string)\n",
    "\n",
    "- `url`: TEXT\n",
    "\n",
    "- `author`: VARCHAR(50) (I know that Reddit usernames can only have a few values, so I can limit the length of the string)\n",
    "\n",
    "- `author_fullname`: VARCHAR(100) (I don't know the maximum length of a Reddit author fullname, but it's fairly safe to assume it will be less than 100 characters)\n",
    "\n",
    "- `domain`: VARCHAR(100) (I'll limit but not too much)"
   ]
  },
  {
   "cell_type": "code",
   "execution_count": 26,
   "metadata": {},
   "outputs": [],
   "source": [
    "df = df.drop(columns=['content_categories', 'edited'])"
   ]
  },
  {
   "cell_type": "markdown",
   "metadata": {},
   "source": [
    "## 4.2 SQL's CREATE TABLE statement\n",
    "\n",
    "It is best to design your table first, using [SQL's own language](https://www.w3schools.com/sql/) and then insert the data into it. This way, you can specify the data type of each column.\n",
    "\n",
    "Here is an example of how you can create a table in SQLite while specifying the data type of each column:\n",
    "\n"
   ]
  },
  {
   "cell_type": "code",
   "execution_count": 28,
   "metadata": {},
   "outputs": [],
   "source": [
    "create_statement = text(\"\"\"\n",
    "CREATE TABLE IF NOT EXISTS top_posts (\n",
    "    id CHAR(6) PRIMARY KEY,\n",
    "    title VARCHAR(300),\n",
    "    permalink TEXT,\n",
    "    post_hint VARCHAR(20),\n",
    "    url TEXT,\n",
    "    created_utc DATETIME,\n",
    "    ups SMALLINT,\n",
    "    upvote_ratio FLOAT,\n",
    "    score SMALLINT,\n",
    "    num_comments SMALLINT,\n",
    "    is_original_content BOOLEAN,\n",
    "    is_self BOOLEAN,\n",
    "    author VARCHAR(50),\n",
    "    author_fullname VARCHAR(100),\n",
    "    content_categories TEXT,\n",
    "    edited BOOLEAN,\n",
    "    domain VARCHAR(100),\n",
    "    rank UNSIGNED BIG INT\n",
    ");\n",
    "\"\"\")\n",
    "\n",
    "# Now we can create the table\n",
    "\n",
    "with engine.connect() as conn:\n",
    "    conn.execute(text('DROP TABLE IF EXISTS top_posts;'))\n",
    "    conn.execute(create_statement)"
   ]
  },
  {
   "cell_type": "markdown",
   "metadata": {},
   "source": [
    "## 4.3 Inserting data into an existing table\n",
    "\n",
    "After the code above, the table will be there but it will be empty. We can now use the `pd.to_sql()` function to insert the data into the table."
   ]
  },
  {
   "cell_type": "code",
   "execution_count": 29,
   "metadata": {},
   "outputs": [
    {
     "data": {
      "text/plain": [
       "1000"
      ]
     },
     "execution_count": 29,
     "metadata": {},
     "output_type": "execute_result"
    }
   ],
   "source": [
    "# Let's insert the data into the table\n",
    "df.to_sql('top_posts', engine, if_exists='append', index=False)"
   ]
  },
  {
   "cell_type": "markdown",
   "metadata": {},
   "source": [
    "## 4.4 Adding a different table\n",
    "\n",
    "If I decide to store the comments in a different table, I can create a new table for them:\n",
    "\n",
    "```sql\n",
    "CREATE TABLE comments (\n",
    "    id CHAR(6) PRIMARY KEY,\n",
    "    post_id CHAR(6),\n",
    "    author VARCHAR(50),\n",
    "    body TEXT,\n",
    "    score SMALLINT,\n",
    "    FOREIGN KEY (post_id) REFERENCES posts(id)\n",
    ");\n",
    "```\n",
    "\n",
    "The [foreign key](https://www.w3schools.com/sql/sql_foreignkey.asp) constraint ensures that the `post_id` in the `comments` table must reference an existing `id` in the `posts` table. This makes merging (joining) the two tables easier.\n",
    "\n"
   ]
  },
  {
   "cell_type": "code",
   "execution_count": 30,
   "metadata": {},
   "outputs": [],
   "source": [
    "create_comment_table = text(\"\"\"\n",
    "    CREATE TABLE comments (\n",
    "        id CHAR(6) PRIMARY KEY,\n",
    "        post_id CHAR(6),\n",
    "        author VARCHAR(50),\n",
    "        body TEXT,\n",
    "        score SMALLINT,\n",
    "        FOREIGN KEY (post_id) REFERENCES posts(id)\n",
    "    );\n",
    "\"\"\")\n",
    "\n",
    "with engine.connect() as conn:\n",
    "    conn.execute(create_comment_table)"
   ]
  },
  {
   "cell_type": "markdown",
   "metadata": {},
   "source": [
    "Note that we added a new table to the exact same database file. No need for multiple CSV files or JSON files. Everything is in one place."
   ]
  },
  {
   "cell_type": "markdown",
   "metadata": {},
   "source": [
    "# 5. Summary\n",
    "\n",
    "In this notebook, we have:\n",
    "\n",
    "- Revisited JSON normalisation using `pd.json_normalize()`\n",
    "\n",
    "- Discussed how to decide which columns to keep in a DataFrame\n",
    "\n",
    "- Learned how to store data in a SQLite database using `pd.to_sql()`\n",
    "\n",
    "- Learned how to create a table in a SQLite database using SQL's `CREATE TABLE` statement\n",
    "\n",
    "- Learned how to insert data into an existing table in a SQLite database"
   ]
  },
  {
   "cell_type": "markdown",
   "metadata": {},
   "source": [
    "# 6. What's Next?\n",
    "\n",
    "Next week we will discuss how to think deeper about the structure of your data, how to link up tables with PRIMARY and FOREIGN KEYS, and how to query data from a database using SQL.\n",
    "\n",
    "We will also discuss best practices for data visualisation."
   ]
  }
 ],
 "metadata": {
  "kernelspec": {
   "display_name": "base",
   "language": "python",
   "name": "python3"
  },
  "language_info": {
   "codemirror_mode": {
    "name": "ipython",
    "version": 3
   },
   "file_extension": ".py",
   "mimetype": "text/x-python",
   "name": "python",
   "nbconvert_exporter": "python",
   "pygments_lexer": "ipython3",
   "version": "3.13.0"
  }
 },
 "nbformat": 4,
 "nbformat_minor": 2
}
