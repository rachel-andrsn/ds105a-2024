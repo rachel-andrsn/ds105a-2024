{
 "cells": [
  {
   "cell_type": "markdown",
   "metadata": {},
   "source": [
    "<font style='font-size:1.5em'>**✔️ Week 03 Formative Exercise Solution** </font>\n",
    "\n",
    "<font style='font-size:1.2em'>LSE DS105A – Data for Data Science (2024/25)</font>\n",
    "\n",
    "\n",
    "<div style=\"color: #333333; background-color:rgba(93, 158, 188, 0.15); border-radius: 10px; box-shadow: 0 4px 8px rgba(0, 0, 0, 0.1); padding: 20px; margin: 10px; flex: 1 1 calc(45% - 20px);min-width: 250px;max-width: 350px;align-items:top;min-height: calc(45% - 20px); box-sizing: border-box;font-size:0.9em;\">\n",
    "\n",
    "This is a notebook of solutions to 📝 **W03 Formative Exercise** (due 16 Oct 2024) of the course **DS105A - Data for Data Science** at the [LSE Data Science Institute](https://lse.ac.uk/dsi).\n",
    "\n",
    "</div>\n",
    "\n",
    "\n",
    "**AUTHORS:**  Dr. [Jon Cardoso-Silva](https://jonjoncardoso.github.io)\n",
    "\n",
    "**DEPARTMENT:** [LSE Data Science Institute](https://lse.ac.uk/dsi)\n",
    "\n",
    "**OBJECTIVE**: Demonstrate how one would use the building blocks of the Python programming language to create a solution to the W03 Formative Exercise.\n",
    "\n",
    "---"
   ]
  },
  {
   "cell_type": "code",
   "execution_count": 1,
   "metadata": {},
   "outputs": [],
   "source": [
    "import os\n",
    "import json\n",
    "\n",
    "import requests\n",
    "\n",
    "from datetime import datetime\n",
    "\n",
    "# Create folder data if it doesn't exist\n",
    "os.makedirs('../data', exist_ok=True)"
   ]
  },
  {
   "cell_type": "markdown",
   "metadata": {},
   "source": [
    "<details style=\"width:70%;font-size:0.9em;border: 1px solid #aaa;border-radius: 4px;padding: .5em;margin-left:1.5em\"><summary style=\"    font-weight: bold;margin: -.5em -.5em 0;padding: .5em;border-bottom: 1px solid #aaa;\">🔵 Click here if you got an error with the cell above</summary>\n",
    "\n",
    "If the cell above throws an error when you run it, it's because you need to install additional Python libraries.\n",
    "\n",
    "In that case, go to the menu and click \"Terminal\" -> \"New Terminal\". Then, on the terminal run:\n",
    "\n",
    "```bash\n",
    "pip install requests numpy pandas lets-plot\n",
    "```\n",
    "\n",
    "OR\n",
    "\n",
    "```bash\n",
    "python -m pip install requests numpy pandas lets-plot\n",
    "```\n",
    "\n",
    "Wait for it to complete, then come back here (you can close the Terminal window), click \"Restart\" at the top of this notebook and try again.\n",
    "\n",
    "⭐ Pro-Tip: Alternatively, you can run Terminal commands from here! Open a new Python cell below and add a `!` to your prompt, like this:\n",
    "\n",
    "```bash\n",
    "! pwd\n",
    "```\n",
    "\n",
    "</details>"
   ]
  },
  {
   "cell_type": "markdown",
   "metadata": {},
   "source": [
    "# 📃 Data Collection Strategy\n",
    "\n",
    "In this notebook, I will focus on two endpoints of interest on the [Open-Meteo API](https://open-meteo.com/en/docs):\n",
    "\n",
    "| Endpoint         | URL starts with                      |\n",
    "|------------------|--------------------------------------|\n",
    "| [Weather Forecast](https://open-meteo.com/en/docs)                            | `https://api.open-meteo.com/v1/forecast`          |\n",
    "| [Historical Weather Data](https://open-meteo.com/en/docs/historical-weather-api) | `https://archive-api.open-meteo.com/v1/archive`   |\n",
    "\n",
    "I will compare the weather forecast in the period of a week (from now) with the historical data from the same period last year.\n",
    "\n",
    "I will repeat the comparison for London, UK and Paris, FR. "
   ]
  },
  {
   "cell_type": "markdown",
   "metadata": {},
   "source": [
    "# 1. Helpful functions\n",
    "\n",
    "<div style=\"width:50%;font-size:0.9em;background-color:#EED55544;padding:0.5rem;font-weight:350;\">\n",
    "\n",
    "⚠️ **WARNING**\n",
    "\n",
    "What you see here is a version of the notebook that has gone through a lot of cleaning and refactoring before it reached its clean and tidy state.\n",
    "\n",
    "No one would start knowing precisely how to write the functions below. We go through a process of exploration and trial and error until we achieve the desired code. Only then we wrap our code into loops and functions.\n",
    "\n",
    "**Understanding the process is more important than the final solution!** \n",
    "\n",
    "For an idea of how one would go about writing a solution to this exercise, check out the recording of the 🧑‍🏫 **W03 Lecture**. For more details, check out the ✅ **W03 Solutions** page on Moodle/website.\n",
    "\n",
    "</div>"
   ]
  },
  {
   "cell_type": "markdown",
   "metadata": {},
   "source": [
    "## 1.1 Store latitude and longitude of the capitals\n",
    "\n",
    "I decided to innovate and on top of what was asked in the instructions, I added a function to read the `world_cities.csv` and convert it to a dictionary. This way I don't need to manually search for the latitude and longitude of the cities. I can simply call this function _inside_ the other data collection functions.\n",
    "\n",
    "The dictionary is structured as follows:\n",
    "\n",
    "```python\n",
    "{\n",
    "    \"UK\": {\"London\": [51.5074, -0.1278],\n",
    "           \"Edinburgh\": [55.9533, -3.1883],\n",
    "           ...\n",
    "    },\n",
    "    \"FR\": {\"Paris\": [48.8566, 2.3522],\n",
    "           \"Marseille\": [43.2965, 5.3698],\n",
    "           ...\n",
    "    },\n",
    "    ...\n",
    "}\n",
    "```\n",
    "\n",
    "That is, the dictionary is a nested dictionary with the country code as the first key, the city name as the second key, and the latitude and longitude as the values.\n"
   ]
  },
  {
   "cell_type": "code",
   "execution_count": 2,
   "metadata": {},
   "outputs": [],
   "source": [
    "# Pro-tip: eventually, once we start using pandas, our life will be so much simpler.\n",
    "#          All of the code below will be swapped by a simple pd.read_csv() line\n",
    "#          (See 💻 W03 Lab's template notebook for an example)\n",
    "#          But it's important to understand how things work under the hood!\n",
    "\n",
    "def read_world_cities(filepath):\n",
    "    \"\"\"\n",
    "    Reads a CSV file containing world cities data and returns a dictionary\n",
    "    where the keys are country codes and the values are dictionaries of cities\n",
    "    with their corresponding latitude and longitude.\n",
    "\n",
    "    Parameters:\n",
    "        filepath (str): The path to the CSV file.\n",
    "\n",
    "    Returns:\n",
    "        dict: A dictionary where the keys are country codes and the values are\n",
    "              dictionaries of cities with their corresponding latitude and longitude.\n",
    "    \"\"\"\n",
    "\n",
    "    # Reuse code from past weeks to read a CSV file\n",
    "    with open(filepath, 'r', encoding='utf-8') as file:\n",
    "        world_cities = file.read().split('\\n')\n",
    "\n",
    "    # Each line has four elements:\n",
    "    #    - country code (2 letters)\n",
    "    #    - city \n",
    "    #    - latitude \n",
    "    #    - longitude\n",
    "    lines = [line.split(',') for line in world_cities[1:-1]]\n",
    "\n",
    "    # Start with empty dictionary\n",
    "    output = {}\n",
    "\n",
    "    for line in lines:\n",
    "        country_code = line[0]\n",
    "        city = line[1]\n",
    "        lat  = line[2]\n",
    "        lon  = line[3]\n",
    "\n",
    "        # Create a dictionary for this city\n",
    "        line_dict = {city: [lat, lon]}\n",
    "\n",
    "        if country_code in output:\n",
    "            # If we've seen this country code before:\n",
    "            output[country_code].update(line_dict)\n",
    "        else:\n",
    "            # Else, create the country code key\n",
    "            output[country_code] = line_dict\n",
    "            \n",
    "\n",
    "    return output"
   ]
  },
  {
   "cell_type": "code",
   "execution_count": 3,
   "metadata": {},
   "outputs": [],
   "source": [
    "world_cities = read_world_cities('../data/world_cities.csv')"
   ]
  },
  {
   "cell_type": "markdown",
   "metadata": {},
   "source": [
    "## 1.2 Get latitude and longitude of any city\n",
    "\n",
    "I added a function to navigate the dictionary for me so that I can get the latitude and longitude of any city I want."
   ]
  },
  {
   "cell_type": "code",
   "execution_count": 4,
   "metadata": {},
   "outputs": [],
   "source": [
    "def get_lat_long(country_code, city_name, world_cities):\n",
    "    \"\"\"\n",
    "    Retrieves the latitude and longitude of a given city in a specific country.\n",
    "\n",
    "    Parameters:\n",
    "        country_code (str): The country code of the city.\n",
    "        city_name (str): The name of the city.\n",
    "        world_cities (dict): A dictionary containing city data for different countries.\n",
    "\n",
    "    Returns:\n",
    "        tuple: A tuple containing the latitude and longitude of the city.\n",
    "    \"\"\"\n",
    "\n",
    "    city_data = world_cities[country_code][city_name]\n",
    "    return city_data[0], city_data[1]"
   ]
  },
  {
   "cell_type": "code",
   "execution_count": 5,
   "metadata": {},
   "outputs": [
    {
     "name": "stdout",
     "output_type": "stream",
     "text": [
      "London's latitude and longitude are: 51.50853, -0.12574\n"
     ]
    }
   ],
   "source": [
    "london_latitude, london_longitude = get_lat_long('GB', 'London', world_cities)\n",
    "\n",
    "print(f\"London's latitude and longitude are: {london_latitude}, {london_longitude}\")"
   ]
  },
  {
   "cell_type": "markdown",
   "metadata": {},
   "source": [
    "# 2. Collect Temperature Forecast\n",
    "\n",
    "At first my function had latitude, longitude as parameters. But now that I introduced the `get_lat_long()` function, I  can simply pass the city name and country code to the function `get_forecast_data()`:"
   ]
  },
  {
   "cell_type": "code",
   "execution_count": 6,
   "metadata": {},
   "outputs": [
    {
     "name": "stdout",
     "output_type": "stream",
     "text": [
      "The function returned a list of 168 elements.\n",
      "Head of the list: [8.3, 8.3, 8.4, 8.2, 8.1, 8.2, 8.1, 8.1, 8.2, 8.3]\n",
      "Tail of the list: [3.9, 3.9, 3.4, 2.5, 1.7, 1.3, 1.0, 0.8, 0.4, 0.1]\n"
     ]
    }
   ],
   "source": [
    "def get_forecast_data(country_code, city_name, world_cities):\n",
    "    \"\"\"\n",
    "    Retrieves the forecasted temperatures for a given country code and city name.\n",
    "\n",
    "    Parameters:\n",
    "        country_code (str): The country code of the location.\n",
    "        city_name (str): The name of the city.\n",
    "        world_cities (dict): A dictionary containing world cities data.\n",
    "\n",
    "    Returns:\n",
    "        list: A list of 168 hourly forecasted temperatures (in Celsius)\n",
    "              starting from today's date at 00:00.\n",
    "    \"\"\"\n",
    "\n",
    "    latitude, longitude = get_lat_long(country_code, city_name, world_cities)\n",
    "\n",
    "    base_forecast_url = \"https://api.open-meteo.com/v1/forecast?\"\n",
    "    params_lat_long = \"latitude=\" + str(latitude) + \"&longitude=\"  + str(longitude)\n",
    "    params_others = \"&hourly=temperature_2m\"\n",
    "\n",
    "    final_url = base_forecast_url + params_lat_long + params_others\n",
    "\n",
    "    response = requests.get(final_url)\n",
    "\n",
    "    forecast_data = response.json()\n",
    "    forecast_temperatures = forecast_data['hourly']['temperature_2m']\n",
    "    return forecast_temperatures\n",
    "\n",
    "# Demonstrate that the function works as intended\n",
    "london_forecast = get_forecast_data('GB', 'London', world_cities)\n",
    "print(f\"The function returned a list of {len(london_forecast)} elements.\")\n",
    "print(f\"Head of the list: {london_forecast[0:10]}\")\n",
    "print(f\"Tail of the list: {london_forecast[-10:]}\")"
   ]
  },
  {
   "cell_type": "code",
   "execution_count": 7,
   "metadata": {},
   "outputs": [],
   "source": [
    "temperatures = {\n",
    "    'London': get_forecast_data('GB', 'London', world_cities),\n",
    "    'Paris' : get_forecast_data('FR', 'Paris', world_cities)\n",
    "}\n",
    "\n",
    "with open(\"../data/open-meteo/forecasted_temperatures.json\", 'w', encoding=\"UTF-8\") as file:\n",
    "    json.dump(temperatures, file)"
   ]
  },
  {
   "cell_type": "markdown",
   "metadata": {},
   "source": [
    "# 3. Collect historical data\n",
    "\n",
    "Similarly, I went beyond the requirements of the exercise and decided to replace the 'latitude' and 'longitude' parameters from the instructions with the more intuitive 'country_code', 'city_name' parameters. "
   ]
  },
  {
   "cell_type": "code",
   "execution_count": 8,
   "metadata": {},
   "outputs": [
    {
     "name": "stdout",
     "output_type": "stream",
     "text": [
      "The function returned a list of 168 elements.\n",
      "Head of the list: [16.1, 16.6, 17.3, 17.0, 17.6, 17.8, 18.5, 19.0, 19.3, 18.3]\n",
      "Tail of the list: [17.7, 17.3, 16.5, 15.2, 15.2, 14.9, 14.8, 14.4, 14.4, 14.3]\n"
     ]
    }
   ],
   "source": [
    "def get_historical_data(country_code, city_name, start_date, end_date, world_cities):\n",
    "    \"\"\"\n",
    "    Retrieves the historical temperatures for a given country code and city name.\n",
    "\n",
    "    Parameters:\n",
    "        country_code (str): The country code of the location.\n",
    "        city_name (str): The name of the city.\n",
    "        start_date (str): The start date of the historical data in the format 'YYYY-MM-DD'.\n",
    "        end_date (str): The end date of the historical data in the format 'YYYY-MM-DD'.\n",
    "        world_cities (dict): A dictionary containing world cities data.\n",
    "\n",
    "    Returns:\n",
    "        list: A list of historical temperatures (in Celsius) for the given date range, in hourly intervals.\n",
    "    \"\"\"\n",
    "\n",
    "    latitude, longitude = get_lat_long(country_code, city_name, world_cities)\n",
    "\n",
    "    base_historical_url = \"https://archive-api.open-meteo.com/v1/era5?\"\n",
    "    params_lat_long     = \"latitude=\" + str(latitude) + \"&longitude=\"  + str(longitude)\n",
    "    params_date         = \"&start_date=\" + str(start_date) + \"&end_date=\" + str(end_date)\n",
    "    params_others       = \"&hourly=temperature_2m\"\n",
    "\n",
    "    final_url = base_historical_url + params_lat_long + params_date + params_others\n",
    "\n",
    "    response = requests.get(final_url)\n",
    "\n",
    "    historical_data = response.json()\n",
    "    historical_temperatures = historical_data['hourly']['temperature_2m']\n",
    "    return historical_temperatures\n",
    "\n",
    "# Demonstrate the this function works as intended\n",
    "london_historical = get_historical_data('GB', 'London', '2023-10-13', '2023-10-19', world_cities)\n",
    "print(f\"The function returned a list of {len(london_historical)} elements.\")\n",
    "print(f\"Head of the list: {london_historical[0:10]}\")\n",
    "print(f\"Tail of the list: {london_historical[-10:]}\")"
   ]
  },
  {
   "cell_type": "markdown",
   "metadata": {},
   "source": [
    "**Note to self:** Remember to edit the start_date and end_date to match the same dates of the forecast, but a year ago.\n",
    "\n",
    "\\#TODO: In the future, I want for the `get_historical_data()` to calculate the dates automatically, based on today's date."
   ]
  },
  {
   "cell_type": "code",
   "execution_count": 10,
   "metadata": {},
   "outputs": [],
   "source": [
    "temperatures = {\n",
    "    'London': get_historical_data('GB', 'London', '2023-10-20', '2023-10-26', world_cities),\n",
    "    'Paris' : get_historical_data('FR', 'Paris',  '2023-10-20', '2023-10-26', world_cities)\n",
    "}\n",
    "\n",
    "with open(\"../data/open-meteo/historical_temperatures.json\", 'w', encoding=\"UTF-8\") as file:\n",
    "    json.dump(temperatures, file)"
   ]
  },
  {
   "cell_type": "markdown",
   "metadata": {},
   "source": [
    "----\n",
    "\n",
    "**🏆 Challenge**\n",
    "\n",
    "I will collect the same type of data as above, but for the capitals of Western European countries (given the geographical proximity):\n",
    "\n",
    "- London, UK\n",
    "- Vienna, Austria\n",
    "- Brussels, Belgium\n",
    "- Paris, France\n",
    "- Vaduz, Liechtenstein\n",
    "- Luxembourg, Luxembourg\n",
    "- Monaco, Monaco\n",
    "- Amsterdam, Netherlands\n",
    "- Bern, Switzerland\n",
    "\n",
    "Normally, I'd overwrite the same.json files I had created but to make the distinction clearer, I'd call them: `multicity_forecast.json` and `multicity_historical.json` for the forecasted temperatures data and historical temperatures data, respectively.\n",
    "\n",
    "---\n"
   ]
  },
  {
   "cell_type": "markdown",
   "metadata": {},
   "source": [
    "# 4. Repeat for multiple cities\n",
    "\n",
    "Get lat long for all selected cities."
   ]
  },
  {
   "cell_type": "code",
   "execution_count": 11,
   "metadata": {},
   "outputs": [],
   "source": [
    "# Compile lists of latitudes and longitudes for all selected cities\n",
    "# I am using tuples to store the country code and city name\n",
    "cities = [\n",
    "    (\"GB\", \"London\"),\n",
    "    (\"AT\", \"Vienna\"),\n",
    "    (\"BE\", \"Brussels\"),\n",
    "    (\"FR\", \"Paris\"),\n",
    "    (\"LI\", \"Vaduz\"),\n",
    "    (\"LU\", \"Luxembourg\"),\n",
    "    (\"MC\", \"Monaco\"),\n",
    "    (\"NL\", \"Amsterdam\"),\n",
    "    (\"CH\", \"Bern\")\n",
    "]"
   ]
  },
  {
   "cell_type": "markdown",
   "metadata": {},
   "source": [
    "**Compile latitudes and longitudes for all cities**"
   ]
  },
  {
   "cell_type": "code",
   "execution_count": 12,
   "metadata": {},
   "outputs": [
    {
     "data": {
      "text/plain": [
       "[('GB', 'London', '51.50853', '-0.12574'),\n",
       " ('AT', 'Vienna', '48.20849', '16.37208'),\n",
       " ('BE', 'Brussels', '50.85045', '4.34878'),\n",
       " ('FR', 'Paris', '48.85341', '2.3488'),\n",
       " ('LI', 'Vaduz', '47.14151', '9.52154'),\n",
       " ('LU', 'Luxembourg', '49.61167', '6.13'),\n",
       " ('MC', 'Monaco', '43.73718', '7.42145'),\n",
       " ('NL', 'Amsterdam', '52.37403', '4.88969'),\n",
       " ('CH', 'Bern', '46.94809', '7.44744')]"
      ]
     },
     "execution_count": 12,
     "metadata": {},
     "output_type": "execute_result"
    }
   ],
   "source": [
    "geo_data = []\n",
    "\n",
    "for country_code, city_name in cities:\n",
    "    latitude, longitude = get_lat_long(country_code, city_name, world_cities)\n",
    "    geo_data.append((country_code, city_name, latitude, longitude))\n",
    "\n",
    "geo_data"
   ]
  },
  {
   "cell_type": "markdown",
   "metadata": {},
   "source": [
    "## 4.1 Weather Forecast\n",
    "\n",
    "Reference date: 20/10/2024"
   ]
  },
  {
   "cell_type": "code",
   "execution_count": 13,
   "metadata": {},
   "outputs": [],
   "source": [
    "forecast_temperatures = {}\n",
    "\n",
    "for country_code, city_name, _, _ in geo_data:\n",
    "    temperatures = get_forecast_data(country_code, city_name, world_cities)\n",
    "    forecast_temperatures[city_name] = temperatures"
   ]
  },
  {
   "cell_type": "markdown",
   "metadata": {},
   "source": [
    "A few checks to confirm it worked:"
   ]
  },
  {
   "cell_type": "code",
   "execution_count": 14,
   "metadata": {},
   "outputs": [
    {
     "data": {
      "text/plain": [
       "dict_keys(['London', 'Vienna', 'Brussels', 'Paris', 'Vaduz', 'Luxembourg', 'Monaco', 'Amsterdam', 'Bern'])"
      ]
     },
     "execution_count": 14,
     "metadata": {},
     "output_type": "execute_result"
    }
   ],
   "source": [
    "forecast_temperatures.keys()"
   ]
  },
  {
   "cell_type": "code",
   "execution_count": 15,
   "metadata": {},
   "outputs": [
    {
     "name": "stdout",
     "output_type": "stream",
     "text": [
      "The value for key London     is a list of 168 elements\n",
      "The value for key Vienna     is a list of 168 elements\n",
      "The value for key Brussels   is a list of 168 elements\n",
      "The value for key Paris      is a list of 168 elements\n",
      "The value for key Vaduz      is a list of 168 elements\n",
      "The value for key Luxembourg is a list of 168 elements\n",
      "The value for key Monaco     is a list of 168 elements\n",
      "The value for key Amsterdam  is a list of 168 elements\n",
      "The value for key Bern       is a list of 168 elements\n"
     ]
    }
   ],
   "source": [
    "for city, temperatures in forecast_temperatures.items():\n",
    "    print(f\"The value for key {city:10s} is a list of {len(temperatures)} elements\")"
   ]
  },
  {
   "cell_type": "code",
   "execution_count": 16,
   "metadata": {},
   "outputs": [
    {
     "name": "stdout",
     "output_type": "stream",
     "text": [
      "The head of the London     list is [8.3, 8.3, 8.4, 8.2, 8.1, 8.2, 8.1, 8.1, 8.2, 8.3]\n",
      "The head of the Vienna     list is [2.4, 2.4, 2.5, 2.2, 2.0, 2.0, 2.0, 1.9, 2.2, 2.4]\n",
      "The head of the Brussels   list is [6.3, 7.1, 7.0, 5.6, 5.9, 5.7, 5.5, 5.9, 6.7, 7.4]\n",
      "The head of the Paris      list is [9.1, 8.7, 8.1, 8.7, 8.5, 8.1, 8.3, 8.0, 7.9, 8.6]\n",
      "The head of the Vaduz      list is [4.7, 4.4, 4.3, 4.5, 4.6, 4.4, 4.5, 4.4, 4.5, 4.9]\n",
      "The head of the Luxembourg list is [4.2, 3.5, 3.9, 3.3, 3.3, 3.2, 3.7, 3.8, 4.3, 5.1]\n",
      "The head of the Monaco     list is [13.3, 13.1, 13.3, 13.5, 13.4, 13.4, 13.4, 13.5, 14.7, 16.0]\n",
      "The head of the Amsterdam  list is [8.3, 8.6, 8.6, 8.9, 8.4, 9.2, 10.3, 10.3, 10.4, 11.3]\n",
      "The head of the Bern       list is [4.1, 3.5, 3.4, 3.6, 3.8, 3.5, 3.2, 3.2, 3.4, 3.6]\n",
      "-->  I can confirm that the values are different, as expected.\n"
     ]
    }
   ],
   "source": [
    "for city, temperatures in forecast_temperatures.items():\n",
    "    print(f\"The head of the {city:10s} list is {temperatures[:10]}\")\n",
    "\n",
    "print(\"-->  I can confirm that the values are different, as expected.\")"
   ]
  },
  {
   "cell_type": "markdown",
   "metadata": {},
   "source": [
    "**Dump the data to a JSON file**"
   ]
  },
  {
   "cell_type": "code",
   "execution_count": 17,
   "metadata": {},
   "outputs": [],
   "source": [
    "# Save it to JSON file\n",
    "with open('../data/open-meteo/multicity_forecast.json', 'w') as file:\n",
    "    json.dump(forecast_temperatures, file)"
   ]
  },
  {
   "cell_type": "markdown",
   "metadata": {},
   "source": [
    "## 4.2 Historical Temperatures\n",
    "\n",
    "Reference date: 20/Oct/2023 - 26/Oct/2023"
   ]
  },
  {
   "cell_type": "code",
   "execution_count": 18,
   "metadata": {},
   "outputs": [],
   "source": [
    "historical_temperatures = {}\n",
    "\n",
    "# TODO: Find a way to let get_historical_data() calculate the dates for me\n",
    "start_date = '2023-10-20'\n",
    "end_date   = '2023-10-26'\n",
    "\n",
    "for country_code, city_name, _, _ in geo_data:\n",
    "    temperatures = get_historical_data(country_code, city_name, start_date, end_date, world_cities)\n",
    "    historical_temperatures[city_name] = temperatures"
   ]
  },
  {
   "cell_type": "markdown",
   "metadata": {},
   "source": [
    "A few checks to confirm it worked:"
   ]
  },
  {
   "cell_type": "code",
   "execution_count": 19,
   "metadata": {},
   "outputs": [
    {
     "data": {
      "text/plain": [
       "dict_keys(['London', 'Vienna', 'Brussels', 'Paris', 'Vaduz', 'Luxembourg', 'Monaco', 'Amsterdam', 'Bern'])"
      ]
     },
     "execution_count": 19,
     "metadata": {},
     "output_type": "execute_result"
    }
   ],
   "source": [
    "historical_temperatures.keys()"
   ]
  },
  {
   "cell_type": "code",
   "execution_count": 20,
   "metadata": {},
   "outputs": [
    {
     "name": "stdout",
     "output_type": "stream",
     "text": [
      "The value for key London     is a list of 168 elements\n",
      "The value for key Vienna     is a list of 168 elements\n",
      "The value for key Brussels   is a list of 168 elements\n",
      "The value for key Paris      is a list of 168 elements\n",
      "The value for key Vaduz      is a list of 168 elements\n",
      "The value for key Luxembourg is a list of 168 elements\n",
      "The value for key Monaco     is a list of 168 elements\n",
      "The value for key Amsterdam  is a list of 168 elements\n",
      "The value for key Bern       is a list of 168 elements\n"
     ]
    }
   ],
   "source": [
    "for city, temperatures in historical_temperatures.items():\n",
    "    print(f\"The value for key {city:10s} is a list of {len(temperatures)} elements\")"
   ]
  },
  {
   "cell_type": "code",
   "execution_count": 21,
   "metadata": {},
   "outputs": [
    {
     "name": "stdout",
     "output_type": "stream",
     "text": [
      "The head of the London     list is [14.4, 14.3, 14.2, 14.0, 14.1, 14.0, 14.0, 13.9, 14.1, 13.9]\n",
      "The head of the Vienna     list is [9.6, 9.6, 9.6, 9.8, 10.4, 10.6, 10.7, 11.2, 17.3, 21.0]\n",
      "The head of the Brussels   list is [15.6, 15.3, 15.4, 15.2, 15.2, 14.9, 15.1, 15.1, 15.2, 15.1]\n",
      "The head of the Paris      list is [15.6, 15.0, 14.8, 14.5, 14.2, 14.1, 14.0, 13.9, 14.5, 15.3]\n",
      "The head of the Vaduz      list is [17.3, 15.0, 15.1, 14.5, 13.9, 15.5, 16.7, 14.9, 16.3, 17.3]\n",
      "The head of the Luxembourg list is [13.8, 13.9, 14.0, 13.8, 13.7, 13.7, 13.7, 13.6, 13.9, 14.4]\n",
      "The head of the Monaco     list is [18.8, 18.1, 18.4, 18.1, 19.4, 20.0, 19.4, 19.3, 19.4, 18.2]\n",
      "The head of the Amsterdam  list is [13.0, 12.4, 12.0, 11.6, 11.0, 10.3, 9.9, 10.1, 10.3, 10.2]\n",
      "The head of the Bern       list is [13.1, 13.0, 12.6, 12.4, 12.2, 12.7, 12.0, 12.6, 13.2, 14.1]\n",
      "-->  I can confirm that the values are different, as expected.\n"
     ]
    }
   ],
   "source": [
    "for city, temperatures in historical_temperatures.items():\n",
    "    print(f\"The head of the {city:10s} list is {temperatures[:10]}\")\n",
    "\n",
    "print(\"-->  I can confirm that the values are different, as expected.\")"
   ]
  },
  {
   "cell_type": "markdown",
   "metadata": {},
   "source": [
    "**Save to file:**"
   ]
  },
  {
   "cell_type": "code",
   "execution_count": 22,
   "metadata": {},
   "outputs": [],
   "source": [
    "with open('../data/open-meteo/multicity_historical.json', 'w') as file:\n",
    "    json.dump(historical_temperatures, file)"
   ]
  },
  {
   "cell_type": "markdown",
   "metadata": {},
   "source": [
    "---\n",
    "\n",
    "💡 **Ideas for the future**:\n",
    "\n",
    "- Have a single function `get_weather_data(country_code, city_name, world_cities, reference_date)` that returns a single dictionary with the weather forecast **and** historical data for a city.\n",
    "- Maybe this function could even have a parameter `num_years` to get historical data for the last `num_years` years.\n"
   ]
  }
 ],
 "metadata": {
  "kernelspec": {
   "display_name": "base",
   "language": "python",
   "name": "python3"
  },
  "language_info": {
   "codemirror_mode": {
    "name": "ipython",
    "version": 3
   },
   "file_extension": ".py",
   "mimetype": "text/x-python",
   "name": "python",
   "nbconvert_exporter": "python",
   "pygments_lexer": "ipython3",
   "version": "3.10.15"
  }
 },
 "nbformat": 4,
 "nbformat_minor": 2
}
