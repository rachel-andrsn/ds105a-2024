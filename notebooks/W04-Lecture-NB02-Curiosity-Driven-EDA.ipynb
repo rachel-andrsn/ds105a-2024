{
 "cells": [
  {
   "cell_type": "markdown",
   "metadata": {},
   "source": [
    "<font style='font-size:1.5em'>**🧑‍🏫 Week 04 Lecture – (NB02) Your questions, my pandas answers** </font>\n",
    "\n",
    "<font style='font-size:1.2em'>LSE [DS105A](https://lse-dsi.github.io/DS105/autumn-term/index.html){style=\"color:#e26a4f;font-weight:bold\"} – Data for Data Science (2024/25) </font>\n",
    "\n",
    "\n",
    "\n",
    "<div style=\"color: #333333; background-color:rgba(226, 106, 79, 0.075); border-radius: 10px; box-shadow: 0 4px 8px rgba(0, 0, 0, 0.1); padding: 20px 0 20px 10px; margin: 10px 0 10px 0; flex: 1 1 calc(45% - 20px);min-width: 250px;max-width: 350px;align-items:top;min-height: calc(45% - 20px); box-sizing: border-box;font-size:0.9em;\">\n",
    "\n",
    "🗓️ **DATE:** 24 October 2024\n",
    "\n",
    "⌚ **TIME:** 16.00-18.00\n",
    "\n",
    "📍 **LOCATION:** CLM.5.02\n",
    "</div>\n",
    "\n",
    "\n",
    "**AUTHORS:**  Dr. [Jon Cardoso-Silva](https://jonjoncardoso.github.io){style=\"color:#e26a4f;font-weight:bold\"}\n",
    "\n",
    "**DEPARTMENT:** [LSE Data Science Institute](https://lse.ac.uk/dsi){style=\"color:#e26a4f;font-weight:bold\"}\n",
    "\n",
    "**OBJECTIVE**: Make use of the building blocks of the pandas library to answer questions from the audience.\n",
    "\n",
    "**REFERENCES:**\n",
    "\n",
    "- 🌐 [10 minutes to Pandas](https://pandas.pydata.org/pandas-docs/stable/user_guide/10min.html){style=\"color:#e26a4f;font-weight:bold\"}\n",
    "- 📖 [Official pandas documentation](https://pandas.pydata.org/docs/reference/index.html){style=\"color:#e26a4f;font-weight:bold\"}\n",
    "- 📗 [DataFrame page](https://pandas.pydata.org/docs/reference/frame.html){style=\"color:#e26a4f;font-weight:bold\"} in the official docs\n",
    "- 📘 [Series page](https://pandas.pydata.org/docs/reference/series.html){style=\"color:#e26a4f;font-weight:bold\"} in the official docs\n",
    "\n",
    "---"
   ]
  },
  {
   "cell_type": "code",
   "execution_count": 1,
   "metadata": {},
   "outputs": [],
   "source": [
    "import os\n",
    "\n",
    "import numpy as np\n",
    "import pandas as pd\n",
    "\n",
    "from IPython.display import Image"
   ]
  },
  {
   "cell_type": "markdown",
   "metadata": {},
   "source": [
    "# 1. Reading the Data\n",
    "\n",
    "Expand the text below to understand how I collected the data and did a preliminary pre-processing of it for this lecture.\n",
    "\n",
    "<details style=\"border: 1px solid #aaa;border-radius: 4px;padding: .5em .5em 0;width:50%;font-size:0.9em;margin-bottom:1em\">\n",
    "    <summary style=\"font-weight: bold;margin: -.5em -.5em 0;padding: .5em;\">Data Collection</summary>\n",
    "\n",
    "I wrote a script to:\n",
    "\n",
    "1. Visit the Waitrose's ['Browse by Category'](https://www.waitrose.com/ecom/shop/browse/groceries) page\n",
    "2. Click on each unique category\n",
    "3. Scroll down to the bottom of the page and click 'Load More' until reaching the end of the list\n",
    "4. Collect basic information about each one of the products (link, name, quantity, size, price)\n",
    "5. Save collected products of each category to an individual CSV file\n",
    "\n",
    "I checked [Waitrose's bots.txt file](https://www.waitrose.com/robots.txt) to confirm I had their permission for this.\n",
    "\n",
    "</details>\n",
    "\n",
    "<details style=\"border: 1px solid #aaa;border-radius: 4px;padding: .5em .5em 0;width:50%;font-size:0.9em\">\n",
    "    <summary style=\"font-weight: bold;margin: -.5em -.5em 0;padding: .5em;\">Preliminary Data Pre-processing</summary>\n",
    "\n",
    "The data was already kind of clean, but we still need to pre-process it for analysis. \n",
    "\n",
    "I've made the following changes to the data collected as described above:\n",
    "\n",
    "- I combined all the CSV files into a single larger CSV\n",
    "- I transformed the `item-price` column from a string to a float (removing the currency symbol and other characters)\n",
    "- I remove the ranges from the `product-size` column\n",
    "\n",
    "<div style=\"font-size:0.85em;line-height:1.25em;display:block;background-color:#5d9ebc22;padding:0.5em;border-radius:0.5em;margin:1em 0 1em 0;padding:0.75em 0.5em 0.05em 0.75em;width:50%\">\n",
    "\n",
    "I only did the above to make our first lecture about pandas a bit more interesting. I want to show you the cool things you can do with pandas once your data is clean.\n",
    "\n",
    "🤫 However, since the whole point of this course is to learn how to manipulate (clean & pre-process) data I will give you the unclean data so you can exercise your Python function skills!\n",
    "\n",
    "</div>\n",
    "\n",
    "</details>\n"
   ]
  },
  {
   "cell_type": "code",
   "execution_count": 2,
   "metadata": {},
   "outputs": [
    {
     "name": "stdout",
     "output_type": "stream",
     "text": [
      "<class 'pandas.core.frame.DataFrame'>\n",
      "RangeIndex: 25418 entries, 0 to 25417\n",
      "Data columns (total 13 columns):\n",
      " #   Column                 Non-Null Count  Dtype  \n",
      "---  ------                 --------------  -----  \n",
      " 0   data-product-id        25418 non-null  int64  \n",
      " 1   data-product-name      25418 non-null  object \n",
      " 2   data-product-type      25418 non-null  object \n",
      " 3   data-product-on-offer  25418 non-null  bool   \n",
      " 4   data-product-index     25408 non-null  float64\n",
      " 5   image-url              25418 non-null  object \n",
      " 6   product-page           25418 non-null  object \n",
      " 7   product-name           25407 non-null  object \n",
      " 8   product-size           25363 non-null  object \n",
      " 9   item-price             25407 non-null  float64\n",
      " 10  price-per-unit         24976 non-null  object \n",
      " 11  offer-description      7201 non-null   object \n",
      " 12  category               25418 non-null  object \n",
      "dtypes: bool(1), float64(2), int64(1), object(9)\n",
      "memory usage: 2.4+ MB\n"
     ]
    }
   ],
   "source": [
    "df = pd.read_csv('../data/supermarket/waitrose-products-combined-2024-07.csv')\n",
    "df.info()"
   ]
  },
  {
   "cell_type": "markdown",
   "metadata": {},
   "source": [
    "# 2. Selected Questions\n",
    "\n",
    "I will gather your questions and answer them using pandas. \n",
    "\n",
    "For the sake of brevity, I might prioritise questions that does not require massive data processing."
   ]
  },
  {
   "cell_type": "markdown",
   "metadata": {},
   "source": [
    "## Q: What is the share of products by category? "
   ]
  },
  {
   "cell_type": "code",
   "execution_count": 3,
   "metadata": {},
   "outputs": [
    {
     "data": {
      "text/plain": [
       "['Baby, Child & Parent',\n",
       " 'Bakery',\n",
       " 'Beer, Wine & Spirits',\n",
       " 'Best of British',\n",
       " 'Dietary & Lifestyle',\n",
       " 'Everyday Value',\n",
       " 'Food Cupboard',\n",
       " 'Fresh & Chilled',\n",
       " 'Frozen',\n",
       " 'Home',\n",
       " 'Household',\n",
       " 'New',\n",
       " 'Organic Shop',\n",
       " 'Pet',\n",
       " 'Summer',\n",
       " 'Tea, Coffee & Soft Drinks',\n",
       " 'Toiletries, Health & Beauty',\n",
       " 'Waitrose Brands']"
      ]
     },
     "execution_count": 3,
     "metadata": {},
     "output_type": "execute_result"
    }
   ],
   "source": [
    "all_categories = df['category'].unique().tolist()\n",
    "all_categories"
   ]
  },
  {
   "cell_type": "markdown",
   "metadata": {},
   "source": [
    "In pure Python, I would do this:"
   ]
  },
  {
   "cell_type": "code",
   "execution_count": 4,
   "metadata": {},
   "outputs": [],
   "source": [
    "all_categories = df['category'].tolist()\n",
    "categories_count = {}\n",
    "\n",
    "for category in all_categories:\n",
    "\n",
    "    if category in categories_count:\n",
    "        # Update the dictionary value:\n",
    "        categories_count[category] = categories_count[category] + 1\n",
    "    else:\n",
    "        categories_count[category] = 1\n",
    "\n",
    "for category in categories_count.keys():\n",
    "    categories_count[category] = categories_count[category]/len(all_categories)"
   ]
  },
  {
   "cell_type": "code",
   "execution_count": 5,
   "metadata": {},
   "outputs": [
    {
     "data": {
      "text/plain": [
       "{'Baby, Child & Parent': 0.016877803131638995,\n",
       " 'Bakery': 0.019080966244393736,\n",
       " 'Beer, Wine & Spirits': 0.06613423558108428,\n",
       " 'Best of British': 0.01266818789833976,\n",
       " 'Dietary & Lifestyle': 0.13148162719332757,\n",
       " 'Everyday Value': 0.005547249980328901,\n",
       " 'Food Cupboard': 0.164804469273743,\n",
       " 'Fresh & Chilled': 0.14096309701786136,\n",
       " 'Frozen': 0.01699582972696514,\n",
       " 'Home': 0.04241088992052876,\n",
       " 'Household': 0.03662758674954757,\n",
       " 'New': 0.03170981194429145,\n",
       " 'Organic Shop': 0.026477299551498936,\n",
       " 'Pet': 0.014753324415768354,\n",
       " 'Summer': 0.07097332598945628,\n",
       " 'Tea, Coffee & Soft Drinks': 0.05094814698245338,\n",
       " 'Toiletries, Health & Beauty': 0.08883468408214651,\n",
       " 'Waitrose Brands': 0.06271146431662601}"
      ]
     },
     "execution_count": 5,
     "metadata": {},
     "output_type": "execute_result"
    }
   ],
   "source": [
    "categories_count"
   ]
  },
  {
   "cell_type": "markdown",
   "metadata": {},
   "source": [
    "In pandas:"
   ]
  },
  {
   "cell_type": "code",
   "execution_count": 6,
   "metadata": {},
   "outputs": [
    {
     "data": {
      "text/plain": [
       "category\n",
       "Food Cupboard                  0.164804\n",
       "Fresh & Chilled                0.140963\n",
       "Dietary & Lifestyle            0.131482\n",
       "Toiletries, Health & Beauty    0.088835\n",
       "Summer                         0.070973\n",
       "Name: proportion, dtype: float64"
      ]
     },
     "execution_count": 6,
     "metadata": {},
     "output_type": "execute_result"
    }
   ],
   "source": [
    "df['category'].value_counts(normalize=True).head(5)"
   ]
  },
  {
   "cell_type": "markdown",
   "metadata": {},
   "source": [
    "## Q: What fraction of products are on offer?\n",
    "\n",
    " "
   ]
  },
  {
   "cell_type": "code",
   "execution_count": 7,
   "metadata": {},
   "outputs": [
    {
     "data": {
      "text/plain": [
       "0.28330317098119445"
      ]
     },
     "execution_count": 7,
     "metadata": {},
     "output_type": "execute_result"
    }
   ],
   "source": [
    "df['data-product-on-offer'].sum()/len(df)"
   ]
  },
  {
   "cell_type": "markdown",
   "metadata": {},
   "source": [
    "## Q: What is the category with the largest fraction of products on offer?\n"
   ]
  },
  {
   "cell_type": "code",
   "execution_count": 8,
   "metadata": {},
   "outputs": [
    {
     "data": {
      "text/plain": [
       "0.10721649484536082"
      ]
     },
     "execution_count": 8,
     "metadata": {},
     "output_type": "execute_result"
    }
   ],
   "source": [
    "# Example for just one category\n",
    "selected_rows = df['category'] == 'Bakery'\n",
    "\n",
    "# Fitered the df a smaller subset corresponding to bakery products\n",
    "df_bakery = df[selected_rows]\n",
    "\n",
    "# The same code as before\n",
    "df_bakery['data-product-on-offer'].sum()/len(df_bakery)"
   ]
  },
  {
   "cell_type": "code",
   "execution_count": 9,
   "metadata": {},
   "outputs": [
    {
     "data": {
      "text/plain": [
       "category\n",
       "Beer, Wine & Spirits           0.412849\n",
       "New                            0.384615\n",
       "Summer                         0.374169\n",
       "Tea, Coffee & Soft Drinks      0.362162\n",
       "Pet                            0.338667\n",
       "Fresh & Chilled                0.329054\n",
       "Toiletries, Health & Beauty    0.317095\n",
       "Household                      0.300752\n",
       "Frozen                         0.298611\n",
       "Dietary & Lifestyle            0.274985\n",
       "Baby, Child & Parent           0.265734\n",
       "Food Cupboard                  0.240392\n",
       "Best of British                0.223602\n",
       "Organic Shop                   0.206538\n",
       "Home                           0.125232\n",
       "Waitrose Brands                0.111041\n",
       "Bakery                         0.107216\n",
       "Everyday Value                 0.049645\n",
       "dtype: float64"
      ]
     },
     "execution_count": 9,
     "metadata": {},
     "output_type": "execute_result"
    }
   ],
   "source": [
    "def calculate_share(rows):\n",
    "    return rows['data-product-on-offer'].sum()/len(rows)\n",
    "\n",
    "df.groupby(['category']).apply(calculate_share, include_groups=False).sort_values(ascending=False)"
   ]
  },
  {
   "cell_type": "code",
   "execution_count": 10,
   "metadata": {},
   "outputs": [
    {
     "data": {
      "text/plain": [
       "category\n",
       "Beer, Wine & Spirits           0.412849\n",
       "New                            0.384615\n",
       "Summer                         0.374169\n",
       "Tea, Coffee & Soft Drinks      0.362162\n",
       "Pet                            0.338667\n",
       "Fresh & Chilled                0.329054\n",
       "Toiletries, Health & Beauty    0.317095\n",
       "Household                      0.300752\n",
       "Frozen                         0.298611\n",
       "Dietary & Lifestyle            0.274985\n",
       "Baby, Child & Parent           0.265734\n",
       "Food Cupboard                  0.240392\n",
       "Best of British                0.223602\n",
       "Organic Shop                   0.206538\n",
       "Home                           0.125232\n",
       "Waitrose Brands                0.111041\n",
       "Bakery                         0.107216\n",
       "Everyday Value                 0.049645\n",
       "dtype: float64"
      ]
     },
     "execution_count": 10,
     "metadata": {},
     "output_type": "execute_result"
    }
   ],
   "source": [
    "(\n",
    "    df.groupby(['category'])\n",
    "      .apply(lambda rows: rows['data-product-on-offer'].sum()/len(rows), include_groups=False)\n",
    "      .sort_values(ascending=False)\n",
    ")"
   ]
  }
 ],
 "metadata": {
  "kernelspec": {
   "display_name": "base",
   "language": "python",
   "name": "python3"
  },
  "language_info": {
   "codemirror_mode": {
    "name": "ipython",
    "version": 3
   },
   "file_extension": ".py",
   "mimetype": "text/x-python",
   "name": "python",
   "nbconvert_exporter": "python",
   "pygments_lexer": "ipython3",
   "version": "3.10.15"
  }
 },
 "nbformat": 4,
 "nbformat_minor": 2
}
