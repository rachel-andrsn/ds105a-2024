{
 "cells": [
  {
   "cell_type": "markdown",
   "metadata": {},
   "source": [
    "<font style='font-size:1.5em'>**🧑‍🏫 Week 04 Lecture – (NB01) The building blocks of Pandas** </font>\n",
    "\n",
    "<font style='font-size:1.2em'>LSE [DS105A](https://lse-dsi.github.io/DS105/autumn-term/index.html){style=\"color:#e26a4f;font-weight:bold\"} – Data for Data Science (2024/25) </font>\n",
    "\n",
    "\n",
    "\n",
    "<div style=\"color: #333333; background-color:rgba(226, 106, 79, 0.075); border-radius: 10px; box-shadow: 0 4px 8px rgba(0, 0, 0, 0.1); padding: 20px 0 20px 10px; margin: 10px 0 10px 0; flex: 1 1 calc(45% - 20px);min-width: 250px;max-width: 350px;align-items:top;min-height: calc(45% - 20px); box-sizing: border-box;font-size:0.9em;\">\n",
    "\n",
    "🗓️ **DATE:** 24 October 2024\n",
    "\n",
    "⌚ **TIME:** 16.00-18.00\n",
    "\n",
    "📍 **LOCATION:** CLM.5.02\n",
    "</div>\n",
    "\n",
    "\n",
    "**AUTHORS:**  Dr. [Jon Cardoso-Silva](https://jonjoncardoso.github.io){style=\"color:#e26a4f;font-weight:bold\"}\n",
    "\n",
    "**DEPARTMENT:** [LSE Data Science Institute](https://lse.ac.uk/dsi){style=\"color:#e26a4f;font-weight:bold\"}\n",
    "\n",
    "**OBJECTIVE**: Demonstrate the building blocks of the [pandas library](https://pandas.pydata.org){style=\"color:#e26a4f;font-weight:bold\"} and the beautiful things you can do with it\n",
    "\n",
    "**REFERENCES:**\n",
    "\n",
    "- 🌐 [10 minutes to Pandas](https://pandas.pydata.org/pandas-docs/stable/user_guide/10min.html){style=\"color:#e26a4f;font-weight:bold\"}\n",
    "- 📖 [Official pandas documentation](https://pandas.pydata.org/docs/reference/index.html){style=\"color:#e26a4f;font-weight:bold\"}\n",
    "\n",
    "---"
   ]
  },
  {
   "cell_type": "code",
   "execution_count": 1,
   "metadata": {},
   "outputs": [],
   "source": [
    "import os\n",
    "\n",
    "import numpy as np\n",
    "import pandas as pd"
   ]
  },
  {
   "cell_type": "markdown",
   "metadata": {},
   "source": [
    "# 1. Reading the Data\n",
    "\n",
    "Expand the text below to understand how I collected the data and did a preliminary pre-processing of it for this lecture.\n",
    "\n",
    "<details style=\"border: 1px solid #aaa;border-radius: 4px;padding: .5em .5em 0;width:50%;font-size:0.9em;margin-bottom:1em\">\n",
    "    <summary style=\"font-weight: bold;margin: -.5em -.5em 0;padding: .5em;\">Data Collection</summary>\n",
    "\n",
    "I wrote a script to:\n",
    "\n",
    "1. Visit the Waitrose's ['Browse by Category'](https://www.waitrose.com/ecom/shop/browse/groceries) page\n",
    "2. Click on each unique category\n",
    "3. Scroll down to the bottom of the page and click 'Load More' until reaching the end of the list\n",
    "4. Collect basic information about each one of the products (link, name, quantity, size, price)\n",
    "5. Save collected products of each category to an individual CSV file\n",
    "\n",
    "I checked [Waitrose's bots.txt file](https://www.waitrose.com/robots.txt) to confirm I had their permission for this.\n",
    "\n",
    "</details>\n",
    "\n",
    "<details style=\"border: 1px solid #aaa;border-radius: 4px;padding: .5em .5em 0;width:50%;font-size:0.9em\">\n",
    "    <summary style=\"font-weight: bold;margin: -.5em -.5em 0;padding: .5em;\">Preliminary Data Pre-processing</summary>\n",
    "\n",
    "The data was already kind of clean, but we still need to pre-process it for analysis. \n",
    "\n",
    "I've made the following changes to the data collected as described above:\n",
    "\n",
    "- I combined all the CSV files into a single larger CSV\n",
    "- I transformed the `item-price` column from a string to a float (removing the currency symbol and other characters)\n",
    "- I remove the ranges from the `product-size` column\n",
    "\n",
    "<div style=\"font-size:0.85em;line-height:1.25em;display:block;background-color:#5d9ebc22;padding:0.5em;border-radius:0.5em;margin:1em 0 1em 0;padding:0.75em 0.5em 0.05em 0.75em;width:50%\">\n",
    "\n",
    "I only did the above to make our first lecture about pandas a bit more interesting. I want to show you the cool things you can do with pandas once your data is clean.\n",
    "\n",
    "🤫 However, since the whole point of this course is to learn how to manipulate (clean & pre-process) data I will give you the unclean data so you can exercise your Python function skills!\n",
    "\n",
    "</div>\n",
    "\n",
    "</details>\n"
   ]
  },
  {
   "cell_type": "code",
   "execution_count": 2,
   "metadata": {},
   "outputs": [
    {
     "data": {
      "text/html": [
       "<div>\n",
       "<style scoped>\n",
       "    .dataframe tbody tr th:only-of-type {\n",
       "        vertical-align: middle;\n",
       "    }\n",
       "\n",
       "    .dataframe tbody tr th {\n",
       "        vertical-align: top;\n",
       "    }\n",
       "\n",
       "    .dataframe thead th {\n",
       "        text-align: right;\n",
       "    }\n",
       "</style>\n",
       "<table border=\"1\" class=\"dataframe\">\n",
       "  <thead>\n",
       "    <tr style=\"text-align: right;\">\n",
       "      <th></th>\n",
       "      <th>data-product-id</th>\n",
       "      <th>data-product-name</th>\n",
       "      <th>data-product-type</th>\n",
       "      <th>data-product-on-offer</th>\n",
       "      <th>data-product-index</th>\n",
       "      <th>image-url</th>\n",
       "      <th>product-page</th>\n",
       "      <th>product-name</th>\n",
       "      <th>product-size</th>\n",
       "      <th>item-price</th>\n",
       "      <th>price-per-unit</th>\n",
       "      <th>offer-description</th>\n",
       "      <th>category</th>\n",
       "    </tr>\n",
       "  </thead>\n",
       "  <tbody>\n",
       "    <tr>\n",
       "      <th>0</th>\n",
       "      <td>525635</td>\n",
       "      <td>Organix Raspberry &amp; Apple Soft Oaty Bars</td>\n",
       "      <td>G</td>\n",
       "      <td>False</td>\n",
       "      <td>1.0</td>\n",
       "      <td>https://ecom-su-static-prod.wtrecom.com/images...</td>\n",
       "      <td>https://www.waitrose.com/ecom/products/organix...</td>\n",
       "      <td>Organix Raspberry &amp; Apple Soft Oaty Bars</td>\n",
       "      <td>6x23g</td>\n",
       "      <td>3.15</td>\n",
       "      <td>£2.29/100g</td>\n",
       "      <td>NaN</td>\n",
       "      <td>Baby, Child &amp; Parent</td>\n",
       "    </tr>\n",
       "    <tr>\n",
       "      <th>1</th>\n",
       "      <td>557746</td>\n",
       "      <td>Organix Carrot Cake Oaty Bars</td>\n",
       "      <td>G</td>\n",
       "      <td>False</td>\n",
       "      <td>2.0</td>\n",
       "      <td>https://ecom-su-static-prod.wtrecom.com/images...</td>\n",
       "      <td>https://www.waitrose.com/ecom/products/organix...</td>\n",
       "      <td>Organix Carrot Cake Oaty Bars</td>\n",
       "      <td>6x23g</td>\n",
       "      <td>3.15</td>\n",
       "      <td>£2.29/100g</td>\n",
       "      <td>NaN</td>\n",
       "      <td>Baby, Child &amp; Parent</td>\n",
       "    </tr>\n",
       "    <tr>\n",
       "      <th>2</th>\n",
       "      <td>32062</td>\n",
       "      <td>Aptamil 2 Follow On Milk</td>\n",
       "      <td>G</td>\n",
       "      <td>False</td>\n",
       "      <td>394.0</td>\n",
       "      <td>https://ecom-su-static-prod.wtrecom.com/images...</td>\n",
       "      <td>https://www.waitrose.com/ecom/products/aptamil...</td>\n",
       "      <td>Aptamil 2 Follow On Milk</td>\n",
       "      <td>800g</td>\n",
       "      <td>13.50</td>\n",
       "      <td>£16.88/kg</td>\n",
       "      <td>NaN</td>\n",
       "      <td>Baby, Child &amp; Parent</td>\n",
       "    </tr>\n",
       "    <tr>\n",
       "      <th>3</th>\n",
       "      <td>767801</td>\n",
       "      <td>Essential Baby Wipes</td>\n",
       "      <td>G</td>\n",
       "      <td>False</td>\n",
       "      <td>4.0</td>\n",
       "      <td>https://ecom-su-static-prod.wtrecom.com/images...</td>\n",
       "      <td>https://www.waitrose.com/ecom/products/essenti...</td>\n",
       "      <td>Essential Baby Wipes</td>\n",
       "      <td>80s</td>\n",
       "      <td>0.95</td>\n",
       "      <td>1.2p each</td>\n",
       "      <td>NaN</td>\n",
       "      <td>Baby, Child &amp; Parent</td>\n",
       "    </tr>\n",
       "    <tr>\n",
       "      <th>4</th>\n",
       "      <td>514054</td>\n",
       "      <td>Organix Apple Rice Cakes</td>\n",
       "      <td>G</td>\n",
       "      <td>False</td>\n",
       "      <td>5.0</td>\n",
       "      <td>https://ecom-su-static-prod.wtrecom.com/images...</td>\n",
       "      <td>https://www.waitrose.com/ecom/products/organix...</td>\n",
       "      <td>Organix Apple Rice Cakes</td>\n",
       "      <td>40g</td>\n",
       "      <td>1.60</td>\n",
       "      <td>£4/100g</td>\n",
       "      <td>NaN</td>\n",
       "      <td>Baby, Child &amp; Parent</td>\n",
       "    </tr>\n",
       "    <tr>\n",
       "      <th>...</th>\n",
       "      <td>...</td>\n",
       "      <td>...</td>\n",
       "      <td>...</td>\n",
       "      <td>...</td>\n",
       "      <td>...</td>\n",
       "      <td>...</td>\n",
       "      <td>...</td>\n",
       "      <td>...</td>\n",
       "      <td>...</td>\n",
       "      <td>...</td>\n",
       "      <td>...</td>\n",
       "      <td>...</td>\n",
       "      <td>...</td>\n",
       "    </tr>\n",
       "    <tr>\n",
       "      <th>25413</th>\n",
       "      <td>18427</td>\n",
       "      <td>Duchy Organic British Lamb Half Leg</td>\n",
       "      <td>G</td>\n",
       "      <td>False</td>\n",
       "      <td>1590.0</td>\n",
       "      <td>https://ecom-su-static-prod.wtrecom.com/images...</td>\n",
       "      <td>https://www.waitrose.com/ecom/products/duchy-o...</td>\n",
       "      <td>Duchy Organic British Lamb Half Leg</td>\n",
       "      <td>Typical weight 0.94kg</td>\n",
       "      <td>24.31</td>\n",
       "      <td>£26.00/kg</td>\n",
       "      <td>NaN</td>\n",
       "      <td>Waitrose Brands</td>\n",
       "    </tr>\n",
       "    <tr>\n",
       "      <th>25414</th>\n",
       "      <td>11606</td>\n",
       "      <td>Cooks' Ingredients Wok Oil</td>\n",
       "      <td>G</td>\n",
       "      <td>False</td>\n",
       "      <td>1591.0</td>\n",
       "      <td>https://ecom-su-static-prod.wtrecom.com/images...</td>\n",
       "      <td>https://www.waitrose.com/ecom/products/cooks-i...</td>\n",
       "      <td>Cooks' Ingredients Wok Oil</td>\n",
       "      <td>250ml</td>\n",
       "      <td>2.40</td>\n",
       "      <td>96p/100ml</td>\n",
       "      <td>NaN</td>\n",
       "      <td>Waitrose Brands</td>\n",
       "    </tr>\n",
       "    <tr>\n",
       "      <th>25415</th>\n",
       "      <td>6903</td>\n",
       "      <td>No. 1 Badoz Vacherin Du Haut-Doubs AOP French ...</td>\n",
       "      <td>G</td>\n",
       "      <td>False</td>\n",
       "      <td>1592.0</td>\n",
       "      <td>https://ecom-su-static-prod.wtrecom.com/images...</td>\n",
       "      <td>https://www.waitrose.com/ecom/products/no-1-ba...</td>\n",
       "      <td>No. 1 Badoz Vacherin Du Haut-Doubs AOP French ...</td>\n",
       "      <td>350g</td>\n",
       "      <td>10.00</td>\n",
       "      <td>£28.58/kg</td>\n",
       "      <td>NaN</td>\n",
       "      <td>Waitrose Brands</td>\n",
       "    </tr>\n",
       "    <tr>\n",
       "      <th>25416</th>\n",
       "      <td>6125</td>\n",
       "      <td>Cooks' Ingredients White Marzipan</td>\n",
       "      <td>G</td>\n",
       "      <td>False</td>\n",
       "      <td>1593.0</td>\n",
       "      <td>https://ecom-su-static-prod.wtrecom.com/images...</td>\n",
       "      <td>https://www.waitrose.com/ecom/products/cooks-i...</td>\n",
       "      <td>Cooks' Ingredients White Marzipan</td>\n",
       "      <td>500g</td>\n",
       "      <td>2.50</td>\n",
       "      <td>£5/kg</td>\n",
       "      <td>NaN</td>\n",
       "      <td>Waitrose Brands</td>\n",
       "    </tr>\n",
       "    <tr>\n",
       "      <th>25417</th>\n",
       "      <td>707668</td>\n",
       "      <td>Duchy Organic Pinot Grigio Bag in Box</td>\n",
       "      <td>W</td>\n",
       "      <td>False</td>\n",
       "      <td>1594.0</td>\n",
       "      <td>https://ecom-su-static-prod.wtrecom.com/images...</td>\n",
       "      <td>https://www.waitrose.com/ecom/products/duchy-o...</td>\n",
       "      <td>Duchy Organic Pinot Grigio Bag in Box</td>\n",
       "      <td>2.25L</td>\n",
       "      <td>21.49</td>\n",
       "      <td>£7.17/75cl</td>\n",
       "      <td>NaN</td>\n",
       "      <td>Waitrose Brands</td>\n",
       "    </tr>\n",
       "  </tbody>\n",
       "</table>\n",
       "<p>25418 rows × 13 columns</p>\n",
       "</div>"
      ],
      "text/plain": [
       "       data-product-id                                  data-product-name  \\\n",
       "0               525635           Organix Raspberry & Apple Soft Oaty Bars   \n",
       "1               557746                      Organix Carrot Cake Oaty Bars   \n",
       "2                32062                           Aptamil 2 Follow On Milk   \n",
       "3               767801                               Essential Baby Wipes   \n",
       "4               514054                           Organix Apple Rice Cakes   \n",
       "...                ...                                                ...   \n",
       "25413            18427                Duchy Organic British Lamb Half Leg   \n",
       "25414            11606                         Cooks' Ingredients Wok Oil   \n",
       "25415             6903  No. 1 Badoz Vacherin Du Haut-Doubs AOP French ...   \n",
       "25416             6125                  Cooks' Ingredients White Marzipan   \n",
       "25417           707668              Duchy Organic Pinot Grigio Bag in Box   \n",
       "\n",
       "      data-product-type  data-product-on-offer  data-product-index  \\\n",
       "0                     G                  False                 1.0   \n",
       "1                     G                  False                 2.0   \n",
       "2                     G                  False               394.0   \n",
       "3                     G                  False                 4.0   \n",
       "4                     G                  False                 5.0   \n",
       "...                 ...                    ...                 ...   \n",
       "25413                 G                  False              1590.0   \n",
       "25414                 G                  False              1591.0   \n",
       "25415                 G                  False              1592.0   \n",
       "25416                 G                  False              1593.0   \n",
       "25417                 W                  False              1594.0   \n",
       "\n",
       "                                               image-url  \\\n",
       "0      https://ecom-su-static-prod.wtrecom.com/images...   \n",
       "1      https://ecom-su-static-prod.wtrecom.com/images...   \n",
       "2      https://ecom-su-static-prod.wtrecom.com/images...   \n",
       "3      https://ecom-su-static-prod.wtrecom.com/images...   \n",
       "4      https://ecom-su-static-prod.wtrecom.com/images...   \n",
       "...                                                  ...   \n",
       "25413  https://ecom-su-static-prod.wtrecom.com/images...   \n",
       "25414  https://ecom-su-static-prod.wtrecom.com/images...   \n",
       "25415  https://ecom-su-static-prod.wtrecom.com/images...   \n",
       "25416  https://ecom-su-static-prod.wtrecom.com/images...   \n",
       "25417  https://ecom-su-static-prod.wtrecom.com/images...   \n",
       "\n",
       "                                            product-page  \\\n",
       "0      https://www.waitrose.com/ecom/products/organix...   \n",
       "1      https://www.waitrose.com/ecom/products/organix...   \n",
       "2      https://www.waitrose.com/ecom/products/aptamil...   \n",
       "3      https://www.waitrose.com/ecom/products/essenti...   \n",
       "4      https://www.waitrose.com/ecom/products/organix...   \n",
       "...                                                  ...   \n",
       "25413  https://www.waitrose.com/ecom/products/duchy-o...   \n",
       "25414  https://www.waitrose.com/ecom/products/cooks-i...   \n",
       "25415  https://www.waitrose.com/ecom/products/no-1-ba...   \n",
       "25416  https://www.waitrose.com/ecom/products/cooks-i...   \n",
       "25417  https://www.waitrose.com/ecom/products/duchy-o...   \n",
       "\n",
       "                                            product-name  \\\n",
       "0               Organix Raspberry & Apple Soft Oaty Bars   \n",
       "1                          Organix Carrot Cake Oaty Bars   \n",
       "2                               Aptamil 2 Follow On Milk   \n",
       "3                                   Essential Baby Wipes   \n",
       "4                               Organix Apple Rice Cakes   \n",
       "...                                                  ...   \n",
       "25413                Duchy Organic British Lamb Half Leg   \n",
       "25414                         Cooks' Ingredients Wok Oil   \n",
       "25415  No. 1 Badoz Vacherin Du Haut-Doubs AOP French ...   \n",
       "25416                  Cooks' Ingredients White Marzipan   \n",
       "25417              Duchy Organic Pinot Grigio Bag in Box   \n",
       "\n",
       "                product-size  item-price price-per-unit offer-description  \\\n",
       "0                      6x23g        3.15     £2.29/100g               NaN   \n",
       "1                      6x23g        3.15     £2.29/100g               NaN   \n",
       "2                       800g       13.50      £16.88/kg               NaN   \n",
       "3                        80s        0.95      1.2p each               NaN   \n",
       "4                        40g        1.60        £4/100g               NaN   \n",
       "...                      ...         ...            ...               ...   \n",
       "25413  Typical weight 0.94kg       24.31      £26.00/kg               NaN   \n",
       "25414                  250ml        2.40      96p/100ml               NaN   \n",
       "25415                   350g       10.00      £28.58/kg               NaN   \n",
       "25416                   500g        2.50          £5/kg               NaN   \n",
       "25417                  2.25L       21.49     £7.17/75cl               NaN   \n",
       "\n",
       "                   category  \n",
       "0      Baby, Child & Parent  \n",
       "1      Baby, Child & Parent  \n",
       "2      Baby, Child & Parent  \n",
       "3      Baby, Child & Parent  \n",
       "4      Baby, Child & Parent  \n",
       "...                     ...  \n",
       "25413       Waitrose Brands  \n",
       "25414       Waitrose Brands  \n",
       "25415       Waitrose Brands  \n",
       "25416       Waitrose Brands  \n",
       "25417       Waitrose Brands  \n",
       "\n",
       "[25418 rows x 13 columns]"
      ]
     },
     "execution_count": 2,
     "metadata": {},
     "output_type": "execute_result"
    }
   ],
   "source": [
    "# The item-price column has already been cleaned up\n",
    "df = pd.read_csv('../data/supermarket/waitrose-products-combined-2024-07.csv')\n",
    "df"
   ]
  },
  {
   "cell_type": "code",
   "execution_count": 3,
   "metadata": {},
   "outputs": [
    {
     "data": {
      "text/plain": [
       "pandas.core.frame.DataFrame"
      ]
     },
     "execution_count": 3,
     "metadata": {},
     "output_type": "execute_result"
    }
   ],
   "source": [
    "# Pandas is its own type\n",
    "type(df)"
   ]
  },
  {
   "cell_type": "markdown",
   "metadata": {},
   "source": [
    "[💡 Isn't it beautiful to be able to read a CSV file with a single line of code?]{style=\"display:block;background-color:rgba(200, 144, 32, 0.05);padding:0.5em;font-size:0.85em;margin-left:0em;margin-bottom:1em;border-radius:0.5em;width:50%\"}\n",
    "\n",
    "<details style=\"border: 1px solid #aaa;border-radius: 4px;padding: .5em .5em 0;width:50%;font-size:0.9em\">\n",
    "    <summary style=\"font-weight: bold;margin: -.5em -.5em 0;padding: .5em;\">How would that look like in just pure Python?</summary>\n",
    "\n",
    "```python\n",
    "\n",
    "with open('../data/waitrose-products-2024-07.csv', 'r', encoding='utf-8') as file:\n",
    "    # I'd have to read the file content as a string first\n",
    "    data_as_str  = file.read()\n",
    "\n",
    "# Then, I'd have to split the lines\n",
    "data_as_list = data_as_str.split('\\n')\n",
    "\n",
    "# I'd have to pre-process the first line to get the column names\n",
    "column_names = data_as_list[0].split(',')\n",
    "\n",
    "# I'd have to be careful and remove the first line from the data\n",
    "data_as_list = data_as_list[1:]\n",
    "\n",
    "# I'd have to check the last line and remove it if it's empty\n",
    "if data_as_list[-1] == '':\n",
    "    data_as_list = data_as_list[:-1]\n",
    "\n",
    "# I'd have to split each line by the comma\n",
    "data_as_list = [line.split(',') for line in data_as_list]\n",
    "\n",
    "# The above would probably throw an error if there were commas in the product name\n",
    "# I'd have to stop and think about how to fix that\n",
    "\n",
    "# Eventually, I'd be able to create a dictionary with the data\n",
    "data = {column: [] for column in column_names}\n",
    "\n",
    "# Then I'd fill up the dictionary with the data\n",
    "for line in data_as_list:\n",
    "    for i, column in enumerate(column_names):\n",
    "        data[column].append(line[i])\n",
    "\n",
    "\n",
    "\n",
    "```"
   ]
  },
  {
   "cell_type": "markdown",
   "metadata": {},
   "source": [
    "# 2. What is in a DataFrame?\n",
    "\n",
    "At a conceptual level, you can think of a Data Frame as a table in a spreadsheet. \n",
    "\n",
    "- It has rows and columns. \n",
    "- Each column has a name and each row has an index (that can be anything, not just a number).\n",
    "- You can do operations on the entire table, on subsets of the table, or on individual rows or columns.\n",
    "\n",
    "Let's look closer."
   ]
  },
  {
   "cell_type": "markdown",
   "metadata": {},
   "source": [
    "## 2.1 Operations on the entire DataFrame\n",
    "\n",
    "See all DataFrame operations on the 📖 [DataFrame page of the pandas documentation](https://pandas.pydata.org/docs/reference/frame.html){style=\"color:#e26a4f;font-weight:bold\"}. \n",
    "\n",
    "[⭐ **Pro-tip:** By the way, if you want to become a pro, you may want to learn how to read official package documentation. It will give you better proficiency than any ChatGPT query in the long run.]{style=\"display:block;background-color:rgba(200, 144, 32, 0.1);padding:0.5em;font-size:0.85em;margin-left:0em;margin-bottom:1em;border-radius:0.5em;width:55%\"}\n",
    "\n",
    "Let's look at the [`DataFrame.info()` method](https://pandas.pydata.org/docs/reference/api/pandas.DataFrame.info.html). It gives you a summary of the data in the DataFrame.\n"
   ]
  },
  {
   "cell_type": "code",
   "execution_count": 4,
   "metadata": {},
   "outputs": [
    {
     "name": "stdout",
     "output_type": "stream",
     "text": [
      "<class 'pandas.core.frame.DataFrame'>\n",
      "RangeIndex: 25418 entries, 0 to 25417\n",
      "Data columns (total 13 columns):\n",
      " #   Column                 Non-Null Count  Dtype  \n",
      "---  ------                 --------------  -----  \n",
      " 0   data-product-id        25418 non-null  int64  \n",
      " 1   data-product-name      25418 non-null  object \n",
      " 2   data-product-type      25418 non-null  object \n",
      " 3   data-product-on-offer  25418 non-null  bool   \n",
      " 4   data-product-index     25408 non-null  float64\n",
      " 5   image-url              25418 non-null  object \n",
      " 6   product-page           25418 non-null  object \n",
      " 7   product-name           25407 non-null  object \n",
      " 8   product-size           25363 non-null  object \n",
      " 9   item-price             25407 non-null  float64\n",
      " 10  price-per-unit         24976 non-null  object \n",
      " 11  offer-description      7201 non-null   object \n",
      " 12  category               25418 non-null  object \n",
      "dtypes: bool(1), float64(2), int64(1), object(9)\n",
      "memory usage: 2.4+ MB\n"
     ]
    }
   ],
   "source": [
    "df.info()"
   ]
  },
  {
   "cell_type": "markdown",
   "metadata": {},
   "source": [
    "I find myself using `df.shape` a lot too:"
   ]
  },
  {
   "cell_type": "code",
   "execution_count": 5,
   "metadata": {},
   "outputs": [
    {
     "name": "stdout",
     "output_type": "stream",
     "text": [
      "There are 25418 products in this data frame\n"
     ]
    }
   ],
   "source": [
    "print(f\"There are {df.shape[0]} products in this data frame\")"
   ]
  },
  {
   "cell_type": "markdown",
   "metadata": {},
   "source": [
    "[💡 Notice we don't do `df.shape()` here. This is because shape is an **attribute**, not a method. To fully understand the distinction, you'd have to study Object-Oriented Programming (a bit out of the scope of this course)]{style=\"display:block;background-color:rgba(200, 144, 32, 0.05);padding:0.5em;font-size:0.85em;margin-left:0em;margin-bottom:0em;border-radius:0.5em;width:50%\"}"
   ]
  },
  {
   "cell_type": "markdown",
   "metadata": {},
   "source": [
    "If you have numerical data types, then [`DataFrame.describe()`](https://pandas.pydata.org/docs/reference/api/pandas.DataFrame.describe.html) can also be very useful:"
   ]
  },
  {
   "cell_type": "code",
   "execution_count": 6,
   "metadata": {},
   "outputs": [
    {
     "data": {
      "text/html": [
       "<div>\n",
       "<style scoped>\n",
       "    .dataframe tbody tr th:only-of-type {\n",
       "        vertical-align: middle;\n",
       "    }\n",
       "\n",
       "    .dataframe tbody tr th {\n",
       "        vertical-align: top;\n",
       "    }\n",
       "\n",
       "    .dataframe thead th {\n",
       "        text-align: right;\n",
       "    }\n",
       "</style>\n",
       "<table border=\"1\" class=\"dataframe\">\n",
       "  <thead>\n",
       "    <tr style=\"text-align: right;\">\n",
       "      <th></th>\n",
       "      <th>data-product-id</th>\n",
       "      <th>data-product-index</th>\n",
       "      <th>item-price</th>\n",
       "    </tr>\n",
       "  </thead>\n",
       "  <tbody>\n",
       "    <tr>\n",
       "      <th>count</th>\n",
       "      <td>25418.000000</td>\n",
       "      <td>25408.000000</td>\n",
       "      <td>25407.000000</td>\n",
       "    </tr>\n",
       "    <tr>\n",
       "      <th>mean</th>\n",
       "      <td>536251.868479</td>\n",
       "      <td>1199.865436</td>\n",
       "      <td>5.216279</td>\n",
       "    </tr>\n",
       "    <tr>\n",
       "      <th>std</th>\n",
       "      <td>292018.730465</td>\n",
       "      <td>1015.953401</td>\n",
       "      <td>7.404634</td>\n",
       "    </tr>\n",
       "    <tr>\n",
       "      <th>min</th>\n",
       "      <td>1023.000000</td>\n",
       "      <td>1.000000</td>\n",
       "      <td>0.100000</td>\n",
       "    </tr>\n",
       "    <tr>\n",
       "      <th>25%</th>\n",
       "      <td>412938.000000</td>\n",
       "      <td>370.000000</td>\n",
       "      <td>2.000000</td>\n",
       "    </tr>\n",
       "    <tr>\n",
       "      <th>50%</th>\n",
       "      <td>597341.000000</td>\n",
       "      <td>905.000000</td>\n",
       "      <td>3.100000</td>\n",
       "    </tr>\n",
       "    <tr>\n",
       "      <th>75%</th>\n",
       "      <td>783957.250000</td>\n",
       "      <td>1764.250000</td>\n",
       "      <td>5.250000</td>\n",
       "    </tr>\n",
       "    <tr>\n",
       "      <th>max</th>\n",
       "      <td>999942.000000</td>\n",
       "      <td>4189.000000</td>\n",
       "      <td>299.990000</td>\n",
       "    </tr>\n",
       "  </tbody>\n",
       "</table>\n",
       "</div>"
      ],
      "text/plain": [
       "       data-product-id  data-product-index    item-price\n",
       "count     25418.000000        25408.000000  25407.000000\n",
       "mean     536251.868479         1199.865436      5.216279\n",
       "std      292018.730465         1015.953401      7.404634\n",
       "min        1023.000000            1.000000      0.100000\n",
       "25%      412938.000000          370.000000      2.000000\n",
       "50%      597341.000000          905.000000      3.100000\n",
       "75%      783957.250000         1764.250000      5.250000\n",
       "max      999942.000000         4189.000000    299.990000"
      ]
     },
     "execution_count": 6,
     "metadata": {},
     "output_type": "execute_result"
    }
   ],
   "source": [
    "df.describe()"
   ]
  },
  {
   "cell_type": "markdown",
   "metadata": {},
   "source": [
    "I can look at the first or the last rows of the DataFrame with the [`DataFrame.head()`](https://pandas.pydata.org/docs/reference/api/pandas.DataFrame.head.html) or [`DataFrame.tail()`](https://pandas.pydata.org/docs/reference/api/pandas.DataFrame.tail.html) methods.\n",
    "\n",
    "[💡 The default number of rows to show is 5. You can change that by passing a number as an argument to the method.]{style=\"display:block;background-color:rgba(200, 144, 32, 0.05);padding:0.5em;font-size:0.85em;margin-left:0em;margin-bottom:1em;border-radius:0.5em;width:50%\"}"
   ]
  },
  {
   "cell_type": "code",
   "execution_count": 7,
   "metadata": {},
   "outputs": [
    {
     "data": {
      "text/html": [
       "<div>\n",
       "<style scoped>\n",
       "    .dataframe tbody tr th:only-of-type {\n",
       "        vertical-align: middle;\n",
       "    }\n",
       "\n",
       "    .dataframe tbody tr th {\n",
       "        vertical-align: top;\n",
       "    }\n",
       "\n",
       "    .dataframe thead th {\n",
       "        text-align: right;\n",
       "    }\n",
       "</style>\n",
       "<table border=\"1\" class=\"dataframe\">\n",
       "  <thead>\n",
       "    <tr style=\"text-align: right;\">\n",
       "      <th></th>\n",
       "      <th>data-product-id</th>\n",
       "      <th>data-product-name</th>\n",
       "      <th>data-product-type</th>\n",
       "      <th>data-product-on-offer</th>\n",
       "      <th>data-product-index</th>\n",
       "      <th>image-url</th>\n",
       "      <th>product-page</th>\n",
       "      <th>product-name</th>\n",
       "      <th>product-size</th>\n",
       "      <th>item-price</th>\n",
       "      <th>price-per-unit</th>\n",
       "      <th>offer-description</th>\n",
       "      <th>category</th>\n",
       "    </tr>\n",
       "  </thead>\n",
       "  <tbody>\n",
       "    <tr>\n",
       "      <th>0</th>\n",
       "      <td>525635</td>\n",
       "      <td>Organix Raspberry &amp; Apple Soft Oaty Bars</td>\n",
       "      <td>G</td>\n",
       "      <td>False</td>\n",
       "      <td>1.0</td>\n",
       "      <td>https://ecom-su-static-prod.wtrecom.com/images...</td>\n",
       "      <td>https://www.waitrose.com/ecom/products/organix...</td>\n",
       "      <td>Organix Raspberry &amp; Apple Soft Oaty Bars</td>\n",
       "      <td>6x23g</td>\n",
       "      <td>3.15</td>\n",
       "      <td>£2.29/100g</td>\n",
       "      <td>NaN</td>\n",
       "      <td>Baby, Child &amp; Parent</td>\n",
       "    </tr>\n",
       "    <tr>\n",
       "      <th>1</th>\n",
       "      <td>557746</td>\n",
       "      <td>Organix Carrot Cake Oaty Bars</td>\n",
       "      <td>G</td>\n",
       "      <td>False</td>\n",
       "      <td>2.0</td>\n",
       "      <td>https://ecom-su-static-prod.wtrecom.com/images...</td>\n",
       "      <td>https://www.waitrose.com/ecom/products/organix...</td>\n",
       "      <td>Organix Carrot Cake Oaty Bars</td>\n",
       "      <td>6x23g</td>\n",
       "      <td>3.15</td>\n",
       "      <td>£2.29/100g</td>\n",
       "      <td>NaN</td>\n",
       "      <td>Baby, Child &amp; Parent</td>\n",
       "    </tr>\n",
       "    <tr>\n",
       "      <th>2</th>\n",
       "      <td>32062</td>\n",
       "      <td>Aptamil 2 Follow On Milk</td>\n",
       "      <td>G</td>\n",
       "      <td>False</td>\n",
       "      <td>394.0</td>\n",
       "      <td>https://ecom-su-static-prod.wtrecom.com/images...</td>\n",
       "      <td>https://www.waitrose.com/ecom/products/aptamil...</td>\n",
       "      <td>Aptamil 2 Follow On Milk</td>\n",
       "      <td>800g</td>\n",
       "      <td>13.50</td>\n",
       "      <td>£16.88/kg</td>\n",
       "      <td>NaN</td>\n",
       "      <td>Baby, Child &amp; Parent</td>\n",
       "    </tr>\n",
       "  </tbody>\n",
       "</table>\n",
       "</div>"
      ],
      "text/plain": [
       "   data-product-id                         data-product-name  \\\n",
       "0           525635  Organix Raspberry & Apple Soft Oaty Bars   \n",
       "1           557746             Organix Carrot Cake Oaty Bars   \n",
       "2            32062                  Aptamil 2 Follow On Milk   \n",
       "\n",
       "  data-product-type  data-product-on-offer  data-product-index  \\\n",
       "0                 G                  False                 1.0   \n",
       "1                 G                  False                 2.0   \n",
       "2                 G                  False               394.0   \n",
       "\n",
       "                                           image-url  \\\n",
       "0  https://ecom-su-static-prod.wtrecom.com/images...   \n",
       "1  https://ecom-su-static-prod.wtrecom.com/images...   \n",
       "2  https://ecom-su-static-prod.wtrecom.com/images...   \n",
       "\n",
       "                                        product-page  \\\n",
       "0  https://www.waitrose.com/ecom/products/organix...   \n",
       "1  https://www.waitrose.com/ecom/products/organix...   \n",
       "2  https://www.waitrose.com/ecom/products/aptamil...   \n",
       "\n",
       "                               product-name product-size  item-price  \\\n",
       "0  Organix Raspberry & Apple Soft Oaty Bars        6x23g        3.15   \n",
       "1             Organix Carrot Cake Oaty Bars        6x23g        3.15   \n",
       "2                  Aptamil 2 Follow On Milk         800g       13.50   \n",
       "\n",
       "  price-per-unit offer-description              category  \n",
       "0     £2.29/100g               NaN  Baby, Child & Parent  \n",
       "1     £2.29/100g               NaN  Baby, Child & Parent  \n",
       "2      £16.88/kg               NaN  Baby, Child & Parent  "
      ]
     },
     "execution_count": 7,
     "metadata": {},
     "output_type": "execute_result"
    }
   ],
   "source": [
    "df.head(3) # Swap it for df.tail(3) to see the last 3 rows"
   ]
  },
  {
   "cell_type": "markdown",
   "metadata": {},
   "source": [
    "What you just care about the name of the columns? Use `DataFrame.columns`:"
   ]
  },
  {
   "cell_type": "code",
   "execution_count": 8,
   "metadata": {},
   "outputs": [
    {
     "data": {
      "text/plain": [
       "Index(['data-product-id', 'data-product-name', 'data-product-type',\n",
       "       'data-product-on-offer', 'data-product-index', 'image-url',\n",
       "       'product-page', 'product-name', 'product-size', 'item-price',\n",
       "       'price-per-unit', 'offer-description', 'category'],\n",
       "      dtype='object')"
      ]
     },
     "execution_count": 8,
     "metadata": {},
     "output_type": "execute_result"
    }
   ],
   "source": [
    "df.columns"
   ]
  },
  {
   "cell_type": "code",
   "execution_count": 9,
   "metadata": {},
   "outputs": [
    {
     "data": {
      "text/plain": [
       "pandas.core.indexes.base.Index"
      ]
     },
     "execution_count": 9,
     "metadata": {},
     "output_type": "execute_result"
    }
   ],
   "source": [
    "# Wait what is this?\n",
    "type(df.columns)"
   ]
  },
  {
   "cell_type": "markdown",
   "metadata": {},
   "source": [
    "## 2.2 Little detour to highlight the notion of an Index\n",
    "\n",
    "You can think of an [Index](https://pandas.pydata.org/docs/reference/api/pandas.Index.html) as a powerful list.\n",
    "\n",
    "You can do the same things you do with a list:"
   ]
  },
  {
   "cell_type": "code",
   "execution_count": 10,
   "metadata": {},
   "outputs": [
    {
     "data": {
      "text/plain": [
       "13"
      ]
     },
     "execution_count": 10,
     "metadata": {},
     "output_type": "execute_result"
    }
   ],
   "source": [
    "len(df.columns)"
   ]
  },
  {
   "cell_type": "markdown",
   "metadata": {},
   "source": [
    "But you can do much more with it:\n",
    "\n"
   ]
  },
  {
   "cell_type": "code",
   "execution_count": 11,
   "metadata": {},
   "outputs": [
    {
     "data": {
      "text/plain": [
       "False"
      ]
     },
     "execution_count": 11,
     "metadata": {},
     "output_type": "execute_result"
    }
   ],
   "source": [
    "df.columns.has_duplicates"
   ]
  },
  {
   "cell_type": "markdown",
   "metadata": {},
   "source": [
    "You can convert it back to a list if you want (not sure why you'd want to do that, but you can):"
   ]
  },
  {
   "cell_type": "code",
   "execution_count": 12,
   "metadata": {},
   "outputs": [
    {
     "data": {
      "text/plain": [
       "['data-product-id',\n",
       " 'data-product-name',\n",
       " 'data-product-type',\n",
       " 'data-product-on-offer',\n",
       " 'data-product-index',\n",
       " 'image-url',\n",
       " 'product-page',\n",
       " 'product-name',\n",
       " 'product-size',\n",
       " 'item-price',\n",
       " 'price-per-unit',\n",
       " 'offer-description',\n",
       " 'category']"
      ]
     },
     "execution_count": 12,
     "metadata": {},
     "output_type": "execute_result"
    }
   ],
   "source": [
    "df.columns.tolist()"
   ]
  },
  {
   "cell_type": "markdown",
   "metadata": {},
   "source": [
    "## 2.3 Filtering the DataFrame\n",
    "\n",
    "### Selecting a single column\n",
    "\n",
    "You can **select columns** by their names:"
   ]
  },
  {
   "cell_type": "code",
   "execution_count": 13,
   "metadata": {},
   "outputs": [
    {
     "data": {
      "text/plain": [
       "0                 Organix Raspberry & Apple Soft Oaty Bars\n",
       "1                            Organix Carrot Cake Oaty Bars\n",
       "2                                 Aptamil 2 Follow On Milk\n",
       "3                                     Essential Baby Wipes\n",
       "4                                 Organix Apple Rice Cakes\n",
       "                               ...                        \n",
       "25413                  Duchy Organic British Lamb Half Leg\n",
       "25414                           Cooks' Ingredients Wok Oil\n",
       "25415    No. 1 Badoz Vacherin Du Haut-Doubs AOP French ...\n",
       "25416                    Cooks' Ingredients White Marzipan\n",
       "25417                Duchy Organic Pinot Grigio Bag in Box\n",
       "Name: data-product-name, Length: 25418, dtype: object"
      ]
     },
     "execution_count": 13,
     "metadata": {},
     "output_type": "execute_result"
    }
   ],
   "source": [
    "# What if I just care about the product name?\n",
    "df['data-product-name']"
   ]
  },
  {
   "cell_type": "markdown",
   "metadata": {},
   "source": [
    "**Does that way of selecting items of an object look familiar?** \n",
    "\n",
    "That's because we also use square brackets when we want to **access** elements in a list or a dictionary.\n",
    "\n",
    "```python\n",
    "some_list[0] # We access elements of a list by their index\n",
    "\n",
    "some_dictionary['key'] # We access elements of a dictionary by their key\n",
    "```"
   ]
  },
  {
   "cell_type": "markdown",
   "metadata": {},
   "source": [
    "Another question: why does the output look a bit different when I select a single column?"
   ]
  },
  {
   "cell_type": "code",
   "execution_count": 14,
   "metadata": {},
   "outputs": [
    {
     "data": {
      "text/plain": [
       "pandas.core.series.Series"
      ]
     },
     "execution_count": 14,
     "metadata": {},
     "output_type": "execute_result"
    }
   ],
   "source": [
    "type(df['data-product-name']) # That's because this is not a DataFrame, but a Series"
   ]
  },
  {
   "cell_type": "markdown",
   "metadata": {},
   "source": [
    "### Selecting multiple columns\n",
    "\n",
    "If you want to look at a subset of the columns, you can pass a list of column names to the DataFrame:\n"
   ]
  },
  {
   "cell_type": "code",
   "execution_count": 15,
   "metadata": {},
   "outputs": [
    {
     "data": {
      "text/html": [
       "<div>\n",
       "<style scoped>\n",
       "    .dataframe tbody tr th:only-of-type {\n",
       "        vertical-align: middle;\n",
       "    }\n",
       "\n",
       "    .dataframe tbody tr th {\n",
       "        vertical-align: top;\n",
       "    }\n",
       "\n",
       "    .dataframe thead th {\n",
       "        text-align: right;\n",
       "    }\n",
       "</style>\n",
       "<table border=\"1\" class=\"dataframe\">\n",
       "  <thead>\n",
       "    <tr style=\"text-align: right;\">\n",
       "      <th></th>\n",
       "      <th>data-product-name</th>\n",
       "      <th>product-size</th>\n",
       "      <th>item-price</th>\n",
       "    </tr>\n",
       "  </thead>\n",
       "  <tbody>\n",
       "    <tr>\n",
       "      <th>0</th>\n",
       "      <td>Organix Raspberry &amp; Apple Soft Oaty Bars</td>\n",
       "      <td>6x23g</td>\n",
       "      <td>3.15</td>\n",
       "    </tr>\n",
       "    <tr>\n",
       "      <th>1</th>\n",
       "      <td>Organix Carrot Cake Oaty Bars</td>\n",
       "      <td>6x23g</td>\n",
       "      <td>3.15</td>\n",
       "    </tr>\n",
       "    <tr>\n",
       "      <th>2</th>\n",
       "      <td>Aptamil 2 Follow On Milk</td>\n",
       "      <td>800g</td>\n",
       "      <td>13.50</td>\n",
       "    </tr>\n",
       "    <tr>\n",
       "      <th>3</th>\n",
       "      <td>Essential Baby Wipes</td>\n",
       "      <td>80s</td>\n",
       "      <td>0.95</td>\n",
       "    </tr>\n",
       "    <tr>\n",
       "      <th>4</th>\n",
       "      <td>Organix Apple Rice Cakes</td>\n",
       "      <td>40g</td>\n",
       "      <td>1.60</td>\n",
       "    </tr>\n",
       "    <tr>\n",
       "      <th>...</th>\n",
       "      <td>...</td>\n",
       "      <td>...</td>\n",
       "      <td>...</td>\n",
       "    </tr>\n",
       "    <tr>\n",
       "      <th>25413</th>\n",
       "      <td>Duchy Organic British Lamb Half Leg</td>\n",
       "      <td>Typical weight 0.94kg</td>\n",
       "      <td>24.31</td>\n",
       "    </tr>\n",
       "    <tr>\n",
       "      <th>25414</th>\n",
       "      <td>Cooks' Ingredients Wok Oil</td>\n",
       "      <td>250ml</td>\n",
       "      <td>2.40</td>\n",
       "    </tr>\n",
       "    <tr>\n",
       "      <th>25415</th>\n",
       "      <td>No. 1 Badoz Vacherin Du Haut-Doubs AOP French ...</td>\n",
       "      <td>350g</td>\n",
       "      <td>10.00</td>\n",
       "    </tr>\n",
       "    <tr>\n",
       "      <th>25416</th>\n",
       "      <td>Cooks' Ingredients White Marzipan</td>\n",
       "      <td>500g</td>\n",
       "      <td>2.50</td>\n",
       "    </tr>\n",
       "    <tr>\n",
       "      <th>25417</th>\n",
       "      <td>Duchy Organic Pinot Grigio Bag in Box</td>\n",
       "      <td>2.25L</td>\n",
       "      <td>21.49</td>\n",
       "    </tr>\n",
       "  </tbody>\n",
       "</table>\n",
       "<p>25418 rows × 3 columns</p>\n",
       "</div>"
      ],
      "text/plain": [
       "                                       data-product-name  \\\n",
       "0               Organix Raspberry & Apple Soft Oaty Bars   \n",
       "1                          Organix Carrot Cake Oaty Bars   \n",
       "2                               Aptamil 2 Follow On Milk   \n",
       "3                                   Essential Baby Wipes   \n",
       "4                               Organix Apple Rice Cakes   \n",
       "...                                                  ...   \n",
       "25413                Duchy Organic British Lamb Half Leg   \n",
       "25414                         Cooks' Ingredients Wok Oil   \n",
       "25415  No. 1 Badoz Vacherin Du Haut-Doubs AOP French ...   \n",
       "25416                  Cooks' Ingredients White Marzipan   \n",
       "25417              Duchy Organic Pinot Grigio Bag in Box   \n",
       "\n",
       "                product-size  item-price  \n",
       "0                      6x23g        3.15  \n",
       "1                      6x23g        3.15  \n",
       "2                       800g       13.50  \n",
       "3                        80s        0.95  \n",
       "4                        40g        1.60  \n",
       "...                      ...         ...  \n",
       "25413  Typical weight 0.94kg       24.31  \n",
       "25414                  250ml        2.40  \n",
       "25415                   350g       10.00  \n",
       "25416                   500g        2.50  \n",
       "25417                  2.25L       21.49  \n",
       "\n",
       "[25418 rows x 3 columns]"
      ]
     },
     "execution_count": 15,
     "metadata": {},
     "output_type": "execute_result"
    }
   ],
   "source": [
    "selected_columns = ['data-product-name', 'product-size', 'item-price']\n",
    "df[selected_columns]"
   ]
  },
  {
   "cell_type": "code",
   "execution_count": 16,
   "metadata": {},
   "outputs": [
    {
     "data": {
      "text/html": [
       "<div>\n",
       "<style scoped>\n",
       "    .dataframe tbody tr th:only-of-type {\n",
       "        vertical-align: middle;\n",
       "    }\n",
       "\n",
       "    .dataframe tbody tr th {\n",
       "        vertical-align: top;\n",
       "    }\n",
       "\n",
       "    .dataframe thead th {\n",
       "        text-align: right;\n",
       "    }\n",
       "</style>\n",
       "<table border=\"1\" class=\"dataframe\">\n",
       "  <thead>\n",
       "    <tr style=\"text-align: right;\">\n",
       "      <th></th>\n",
       "      <th>data-product-name</th>\n",
       "      <th>product-size</th>\n",
       "      <th>item-price</th>\n",
       "    </tr>\n",
       "  </thead>\n",
       "  <tbody>\n",
       "    <tr>\n",
       "      <th>0</th>\n",
       "      <td>Organix Raspberry &amp; Apple Soft Oaty Bars</td>\n",
       "      <td>6x23g</td>\n",
       "      <td>3.15</td>\n",
       "    </tr>\n",
       "    <tr>\n",
       "      <th>1</th>\n",
       "      <td>Organix Carrot Cake Oaty Bars</td>\n",
       "      <td>6x23g</td>\n",
       "      <td>3.15</td>\n",
       "    </tr>\n",
       "    <tr>\n",
       "      <th>2</th>\n",
       "      <td>Aptamil 2 Follow On Milk</td>\n",
       "      <td>800g</td>\n",
       "      <td>13.50</td>\n",
       "    </tr>\n",
       "    <tr>\n",
       "      <th>3</th>\n",
       "      <td>Essential Baby Wipes</td>\n",
       "      <td>80s</td>\n",
       "      <td>0.95</td>\n",
       "    </tr>\n",
       "    <tr>\n",
       "      <th>4</th>\n",
       "      <td>Organix Apple Rice Cakes</td>\n",
       "      <td>40g</td>\n",
       "      <td>1.60</td>\n",
       "    </tr>\n",
       "    <tr>\n",
       "      <th>...</th>\n",
       "      <td>...</td>\n",
       "      <td>...</td>\n",
       "      <td>...</td>\n",
       "    </tr>\n",
       "    <tr>\n",
       "      <th>25413</th>\n",
       "      <td>Duchy Organic British Lamb Half Leg</td>\n",
       "      <td>Typical weight 0.94kg</td>\n",
       "      <td>24.31</td>\n",
       "    </tr>\n",
       "    <tr>\n",
       "      <th>25414</th>\n",
       "      <td>Cooks' Ingredients Wok Oil</td>\n",
       "      <td>250ml</td>\n",
       "      <td>2.40</td>\n",
       "    </tr>\n",
       "    <tr>\n",
       "      <th>25415</th>\n",
       "      <td>No. 1 Badoz Vacherin Du Haut-Doubs AOP French ...</td>\n",
       "      <td>350g</td>\n",
       "      <td>10.00</td>\n",
       "    </tr>\n",
       "    <tr>\n",
       "      <th>25416</th>\n",
       "      <td>Cooks' Ingredients White Marzipan</td>\n",
       "      <td>500g</td>\n",
       "      <td>2.50</td>\n",
       "    </tr>\n",
       "    <tr>\n",
       "      <th>25417</th>\n",
       "      <td>Duchy Organic Pinot Grigio Bag in Box</td>\n",
       "      <td>2.25L</td>\n",
       "      <td>21.49</td>\n",
       "    </tr>\n",
       "  </tbody>\n",
       "</table>\n",
       "<p>25418 rows × 3 columns</p>\n",
       "</div>"
      ],
      "text/plain": [
       "                                       data-product-name  \\\n",
       "0               Organix Raspberry & Apple Soft Oaty Bars   \n",
       "1                          Organix Carrot Cake Oaty Bars   \n",
       "2                               Aptamil 2 Follow On Milk   \n",
       "3                                   Essential Baby Wipes   \n",
       "4                               Organix Apple Rice Cakes   \n",
       "...                                                  ...   \n",
       "25413                Duchy Organic British Lamb Half Leg   \n",
       "25414                         Cooks' Ingredients Wok Oil   \n",
       "25415  No. 1 Badoz Vacherin Du Haut-Doubs AOP French ...   \n",
       "25416                  Cooks' Ingredients White Marzipan   \n",
       "25417              Duchy Organic Pinot Grigio Bag in Box   \n",
       "\n",
       "                product-size  item-price  \n",
       "0                      6x23g        3.15  \n",
       "1                      6x23g        3.15  \n",
       "2                       800g       13.50  \n",
       "3                        80s        0.95  \n",
       "4                        40g        1.60  \n",
       "...                      ...         ...  \n",
       "25413  Typical weight 0.94kg       24.31  \n",
       "25414                  250ml        2.40  \n",
       "25415                   350g       10.00  \n",
       "25416                   500g        2.50  \n",
       "25417                  2.25L       21.49  \n",
       "\n",
       "[25418 rows x 3 columns]"
      ]
     },
     "execution_count": 16,
     "metadata": {},
     "output_type": "execute_result"
    }
   ],
   "source": [
    "# or simply:\n",
    "df[['data-product-name', 'product-size', 'item-price']]"
   ]
  },
  {
   "cell_type": "markdown",
   "metadata": {},
   "source": [
    "☝️ When using this syntax, notice that the outermost square brackets represents an **accessor** while the one inside is simply to indicate a list. "
   ]
  },
  {
   "cell_type": "markdown",
   "metadata": {},
   "source": [
    "# 3. What is a Series?\n",
    "\n",
    "Just like you can think of an Index as a powerful list, you can think of a [Series](https://pandas.pydata.org/docs/reference/api/pandas.Series.html) as a powerful dictionary. It has a name (the column name) and an index (the row index), but it also has a lot of methods and attributes that make it **a lot more powerful than a dictionary**!\n",
    "\n",
    "See all Series operations on the 📖 [Series page of the pandas documentation](https://pandas.pydata.org/docs/reference/series.html){style=\"color:#e26a4f;font-weight:bold\"}. \n",
    "\n",
    "[⭐ **Pro-tip:** By the way, if you want to become a pro, you may want to learn how to read official package documentation. It will give you better proficiency than any ChatGPT query in the long run.]{style=\"display:block;background-color:rgba(200, 144, 32, 0.1);padding:0.5em;font-size:0.85em;margin-left:0em;margin-bottom:1em;border-radius:0.5em;width:55%\"}\n"
   ]
  },
  {
   "cell_type": "markdown",
   "metadata": {},
   "source": [
    "### The `dtype` attribute\n",
    "\n",
    "Check the data type of a Series with the `dtype` attribute:"
   ]
  },
  {
   "cell_type": "code",
   "execution_count": 17,
   "metadata": {},
   "outputs": [
    {
     "data": {
      "text/plain": [
       "dtype('float64')"
      ]
     },
     "execution_count": 17,
     "metadata": {},
     "output_type": "execute_result"
    }
   ],
   "source": [
    "df['item-price'].dtype"
   ]
  },
  {
   "cell_type": "markdown",
   "metadata": {},
   "source": [
    "### Each Series object has an `index` attribute\n",
    "\n",
    "Check the index of a Series with the `index` attribute:"
   ]
  },
  {
   "cell_type": "code",
   "execution_count": 18,
   "metadata": {},
   "outputs": [
    {
     "data": {
      "text/plain": [
       "RangeIndex(start=0, stop=25418, step=1)"
      ]
     },
     "execution_count": 18,
     "metadata": {},
     "output_type": "execute_result"
    }
   ],
   "source": [
    "df['item-price'].index"
   ]
  },
  {
   "cell_type": "markdown",
   "metadata": {},
   "source": [
    "[💡 All columns of a DataFrame share the same index! Confirm that by changing the name of the column above and re-running the cell.]{style=\"display:block;background-color:rgba(200, 144, 32, 0.05);padding:0.5em;font-size:0.85em;margin-left:0em;margin-bottom:0em;border-radius:0.5em;width:40%\"}"
   ]
  },
  {
   "cell_type": "markdown",
   "metadata": {},
   "source": [
    "### Mathematical operations\n",
    "\n",
    "You can calculate the mean, median, sum, etc. of a Series that is numerical:"
   ]
  },
  {
   "cell_type": "code",
   "execution_count": 19,
   "metadata": {},
   "outputs": [
    {
     "data": {
      "text/plain": [
       "3.1"
      ]
     },
     "execution_count": 19,
     "metadata": {},
     "output_type": "execute_result"
    }
   ],
   "source": [
    "df['item-price'].median()"
   ]
  },
  {
   "cell_type": "markdown",
   "metadata": {},
   "source": [
    "## Describe numerical types\n",
    "\n",
    "If the Series has numerical data, you can use the `Series.describe()` method to get a summary of the data:"
   ]
  },
  {
   "cell_type": "code",
   "execution_count": 20,
   "metadata": {},
   "outputs": [
    {
     "data": {
      "text/plain": [
       "count    25407.000000\n",
       "mean         5.216279\n",
       "std          7.404634\n",
       "min          0.100000\n",
       "25%          2.000000\n",
       "50%          3.100000\n",
       "75%          5.250000\n",
       "max        299.990000\n",
       "Name: item-price, dtype: float64"
      ]
     },
     "execution_count": 20,
     "metadata": {},
     "output_type": "execute_result"
    }
   ],
   "source": [
    "df['item-price'].describe()"
   ]
  },
  {
   "cell_type": "markdown",
   "metadata": {},
   "source": [
    "[💡 The output of a `Series.describe()` method is another Series object! This is the key difference between `Series.describe()` and `DataFrame.describe()`.]{style=\"display:block;background-color:rgba(200, 144, 32, 0.05);padding:0.5em;font-size:0.85em;margin-left:0em;margin-bottom:0em;border-radius:0.5em;width:50%\"}"
   ]
  },
  {
   "cell_type": "markdown",
   "metadata": {},
   "source": [
    "### Quick dirty plot\n",
    "\n",
    "**(This is not how we will do plots in this course! But it's good for quick checks)**\n",
    "\n",
    "To understand how you can customise the plot, you can check the [Series.plot() documentation](https://pandas.pydata.org/docs/reference/api/pandas.Series.plot.html)."
   ]
  },
  {
   "cell_type": "code",
   "execution_count": 21,
   "metadata": {},
   "outputs": [
    {
     "data": {
      "text/plain": [
       "<Axes: ylabel='Frequency'>"
      ]
     },
     "execution_count": 21,
     "metadata": {},
     "output_type": "execute_result"
    },
    {
     "data": {
      "image/png": "[encoded data removed]",
      "text/plain": [
       "<Figure size 640x480 with 1 Axes>"
      ]
     },
     "metadata": {},
     "output_type": "display_data"
    }
   ],
   "source": [
    "# Take a quick look at the distribution of the prices\n",
    "df['item-price'].plot(x='index', y='item-price', kind='hist', bins=50)"
   ]
  },
  {
   "cell_type": "markdown",
   "metadata": {},
   "source": [
    "### Use the `value_counts()` method\n",
    "\n",
    "This is perhaps one of the most useful methods in pandas. It gives you the frequency of each unique value in the Series:\n",
    "\n",
    "[💡 The `value_counts()` method is a Series method, not a DataFrame method.]{style=\"display:block;background-color:rgba(200, 144, 32, 0.05);padding:0.5em;font-size:0.85em;margin-left:0em;margin-bottom:0em;border-radius:0.5em;width:50%\"}"
   ]
  },
  {
   "cell_type": "code",
   "execution_count": 22,
   "metadata": {},
   "outputs": [
    {
     "data": {
      "text/plain": [
       "data-product-name\n",
       "Evian Still Mineral Water                           13\n",
       "Essential Still Natural Mineral Water               12\n",
       "Essential Sweetcorn                                 11\n",
       "Cooks' Ingredients Flat Leaf Parsley                11\n",
       "Essential Limes                                     10\n",
       "                                                    ..\n",
       "Colmans Singapore Noodles                            1\n",
       "McCoy's Thai Sweet Chicken Crisps                    1\n",
       "Betty Crocker Classic Coffee Icing                   1\n",
       "Willie's Cacao Sea Salt Caramel Black Pearls         1\n",
       "Cooks' Ingredients Frozen Stir Fry Vegetable Mix     1\n",
       "Name: count, Length: 15419, dtype: int64"
      ]
     },
     "execution_count": 22,
     "metadata": {},
     "output_type": "execute_result"
    }
   ],
   "source": [
    "# How many times does a product name appear?\n",
    "df['data-product-name'].value_counts()"
   ]
  },
  {
   "cell_type": "markdown",
   "metadata": {},
   "source": [
    "### Use the `unique()` and `nunique()` methods\n",
    "\n",
    "Sometimes you want to know how many unique values there are in a Series, or you want to see what those unique values are:\n",
    "\n",
    "[💡 The `unique()` and `nunique()` methods are Series methods, not DataFrame methods.]{style=\"display:block;background-color:rgba(200, 144, 32, 0.05);padding:0.5em;font-size:0.85em;margin-left:0em;margin-bottom:0em;border-radius:0.5em;width:50%\"}"
   ]
  },
  {
   "cell_type": "code",
   "execution_count": 23,
   "metadata": {},
   "outputs": [
    {
     "data": {
      "text/plain": [
       "15419"
      ]
     },
     "execution_count": 23,
     "metadata": {},
     "output_type": "execute_result"
    }
   ],
   "source": [
    "# How many unique product names are there?\n",
    "df['data-product-name'].nunique()"
   ]
  },
  {
   "cell_type": "code",
   "execution_count": 24,
   "metadata": {},
   "outputs": [
    {
     "data": {
      "text/plain": [
       "array(['Organix Raspberry & Apple Soft Oaty Bars',\n",
       "       'Organix Carrot Cake Oaty Bars', 'Aptamil 2 Follow On Milk', ...,\n",
       "       \"Cooks' Ingredients Frozen Herby Chimichurri Portions\",\n",
       "       \"Cooks' Ingredients Artichokes in Oil\",\n",
       "       \"Cooks' Ingredients Frozen Stir Fry Vegetable Mix\"], dtype=object)"
      ]
     },
     "execution_count": 24,
     "metadata": {},
     "output_type": "execute_result"
    }
   ],
   "source": [
    "# What are the unique product names?\n",
    "df['data-product-name'].unique()"
   ]
  },
  {
   "cell_type": "markdown",
   "metadata": {},
   "source": [
    "### Use string operations on a Series\n",
    "\n",
    "When working with strings, you can use the `str` accessor to apply string methods to the entire Series.\n",
    "\n",
    "[⭐ **Pro-tip:** This means you don't need to write a `for` loop to go through every single string in the Series. You do it all at once!]{style=\"display:block;background-color:rgba(200, 144, 32, 0.1);padding:0.5em;font-size:0.85em;margin-left:0em;margin-bottom:1em;border-radius:0.5em;width:55%\"}\n",
    "\n",
    "Take a look at all the things you can do with the `str` accessor in the [Series String Methods documentation](https://pandas.pydata.org/docs/reference/series.html#string-handling){style=\"color:#e26a4f;font-weight:bold\"}."
   ]
  },
  {
   "cell_type": "code",
   "execution_count": 25,
   "metadata": {},
   "outputs": [
    {
     "data": {
      "text/plain": [
       "0                 ORGANIX RASPBERRY & APPLE SOFT OATY BARS\n",
       "1                            ORGANIX CARROT CAKE OATY BARS\n",
       "2                                 APTAMIL 2 FOLLOW ON MILK\n",
       "3                                     ESSENTIAL BABY WIPES\n",
       "4                                 ORGANIX APPLE RICE CAKES\n",
       "                               ...                        \n",
       "25413                  DUCHY ORGANIC BRITISH LAMB HALF LEG\n",
       "25414                           COOKS' INGREDIENTS WOK OIL\n",
       "25415    NO. 1 BADOZ VACHERIN DU HAUT-DOUBS AOP FRENCH ...\n",
       "25416                    COOKS' INGREDIENTS WHITE MARZIPAN\n",
       "25417                DUCHY ORGANIC PINOT GRIGIO BAG IN BOX\n",
       "Name: data-product-name, Length: 25418, dtype: object"
      ]
     },
     "execution_count": 25,
     "metadata": {},
     "output_type": "execute_result"
    }
   ],
   "source": [
    "# Make everything upper case for an screaming effect\n",
    "df['data-product-name'].str.upper()"
   ]
  },
  {
   "cell_type": "markdown",
   "metadata": {},
   "source": [
    "**Remember the split() method we used before?**\n",
    "\n",
    "If I have the need to split the names of products into individual words, I can do it with the `str.split()` method:"
   ]
  },
  {
   "cell_type": "code",
   "execution_count": 26,
   "metadata": {},
   "outputs": [
    {
     "data": {
      "text/plain": [
       "0         [Organix, Raspberry, &, Apple, Soft, Oaty, Bars]\n",
       "1                      [Organix, Carrot, Cake, Oaty, Bars]\n",
       "2                           [Aptamil, 2, Follow, On, Milk]\n",
       "3                                 [Essential, Baby, Wipes]\n",
       "4                            [Organix, Apple, Rice, Cakes]\n",
       "                               ...                        \n",
       "25413           [Duchy, Organic, British, Lamb, Half, Leg]\n",
       "25414                      [Cooks', Ingredients, Wok, Oil]\n",
       "25415    [No., 1, Badoz, Vacherin, Du, Haut-Doubs, AOP,...\n",
       "25416               [Cooks', Ingredients, White, Marzipan]\n",
       "25417        [Duchy, Organic, Pinot, Grigio, Bag, in, Box]\n",
       "Name: data-product-name, Length: 25418, dtype: object"
      ]
     },
     "execution_count": 26,
     "metadata": {},
     "output_type": "execute_result"
    }
   ],
   "source": [
    "df['data-product-name'].str.split(\" \")"
   ]
  },
  {
   "cell_type": "markdown",
   "metadata": {},
   "source": [
    "☝️ This renders a pandas Series that is made out of lists. There is no dtype list in pandas, so the dtype of the Series is `object`."
   ]
  },
  {
   "cell_type": "markdown",
   "metadata": {},
   "source": [
    "# 4. Creating our own operations\n"
   ]
  },
  {
   "cell_type": "markdown",
   "metadata": {},
   "source": [
    "## 4.1 Column-wise operations with the `Series.apply()` method\n",
    "\n",
    "Say you want to produce a modified version of a column. \n",
    "\n",
    "You don't want to change the original column, you just want to use it to create a new one."
   ]
  },
  {
   "cell_type": "code",
   "execution_count": 27,
   "metadata": {},
   "outputs": [
    {
     "data": {
      "text/plain": [
       "0     3.15\n",
       "1     3.15\n",
       "2    13.50\n",
       "3     0.95\n",
       "4     1.60\n",
       "Name: item-price, dtype: float64"
      ]
     },
     "execution_count": 27,
     "metadata": {},
     "output_type": "execute_result"
    }
   ],
   "source": [
    "df['item-price'].head()"
   ]
  },
  {
   "cell_type": "code",
   "execution_count": 28,
   "metadata": {},
   "outputs": [
    {
     "data": {
      "text/plain": [
       "0         £ 3.15\n",
       "1         £ 3.15\n",
       "2        £ 13.50\n",
       "3         £ 0.95\n",
       "4         £ 1.60\n",
       "          ...   \n",
       "25413    £ 24.31\n",
       "25414     £ 2.40\n",
       "25415    £ 10.00\n",
       "25416     £ 2.50\n",
       "25417    £ 21.49\n",
       "Name: item-price, Length: 25418, dtype: object"
      ]
     },
     "execution_count": 28,
     "metadata": {},
     "output_type": "execute_result"
    }
   ],
   "source": [
    "def make_currency(value: float):\n",
    "    return f\"£ {value:.2f}\"\n",
    "\n",
    "# Apply a function to EVERY SINGLE ELEMENT of a column\n",
    "df['item-price'].apply(make_currency)"
   ]
  },
  {
   "cell_type": "markdown",
   "metadata": {},
   "source": [
    "For operations this small, we don't want to write a full named function.\n",
    "\n",
    "We can use a lambda function for this:"
   ]
  },
  {
   "cell_type": "code",
   "execution_count": 29,
   "metadata": {},
   "outputs": [
    {
     "data": {
      "text/plain": [
       "0         £ 3.15\n",
       "1         £ 3.15\n",
       "2        £ 13.50\n",
       "3         £ 0.95\n",
       "4         £ 1.60\n",
       "          ...   \n",
       "25413    £ 24.31\n",
       "25414     £ 2.40\n",
       "25415    £ 10.00\n",
       "25416     £ 2.50\n",
       "25417    £ 21.49\n",
       "Name: item-price, Length: 25418, dtype: object"
      ]
     },
     "execution_count": 29,
     "metadata": {},
     "output_type": "execute_result"
    }
   ],
   "source": [
    "df['item-price'].apply(lambda price_as_float: f\"£ {price_as_float:.2f}\")"
   ]
  },
  {
   "cell_type": "markdown",
   "metadata": {},
   "source": [
    "[⭐ **Pro-tip:** a lambda function works the same way as a regular function, it just doesn't have a name!]{style=\"display:block;background-color:rgba(200, 144, 32, 0.1);padding:0.5em;font-size:0.85em;margin-left:0em;margin-bottom:0em;border-radius:0.5em;width:55%\"}"
   ]
  },
  {
   "cell_type": "markdown",
   "metadata": {},
   "source": [
    "## 4.2 Add new columns to the DataFrame\n",
    "\n",
    "There are many ways to add new columns to a DataFrame:\n",
    "\n",
    "\n",
    "```python\n",
    "# Method 1: directly assign a value to a new column with the square bracket notation\n",
    "df['new-column'] = df['column-1'].apply(some_function)\n",
    "```\n",
    "\n",
    "```python\n",
    "# Method 2: use the DataFrame.assign() method\n",
    "df = df.assign(new_column = df['column-1'] + df['column-2'])\n",
    "```\n",
    "\n",
    "Eventually, I'd love for you to use the `assign()` method, but for now, I'll show you the first method because it's simpler."
   ]
  },
  {
   "cell_type": "code",
   "execution_count": 30,
   "metadata": {},
   "outputs": [],
   "source": [
    "df['price-label'] = df['item-price'].apply(lambda price_as_float: f\"£ {price_as_float:.2f}\")"
   ]
  },
  {
   "cell_type": "code",
   "execution_count": 31,
   "metadata": {},
   "outputs": [
    {
     "data": {
      "text/plain": [
       "Index(['data-product-id', 'data-product-name', 'data-product-type',\n",
       "       'data-product-on-offer', 'data-product-index', 'image-url',\n",
       "       'product-page', 'product-name', 'product-size', 'item-price',\n",
       "       'price-per-unit', 'offer-description', 'category', 'price-label'],\n",
       "      dtype='object')"
      ]
     },
     "execution_count": 31,
     "metadata": {},
     "output_type": "execute_result"
    }
   ],
   "source": [
    "df.columns"
   ]
  },
  {
   "cell_type": "code",
   "execution_count": 32,
   "metadata": {},
   "outputs": [
    {
     "data": {
      "text/html": [
       "<div>\n",
       "<style scoped>\n",
       "    .dataframe tbody tr th:only-of-type {\n",
       "        vertical-align: middle;\n",
       "    }\n",
       "\n",
       "    .dataframe tbody tr th {\n",
       "        vertical-align: top;\n",
       "    }\n",
       "\n",
       "    .dataframe thead th {\n",
       "        text-align: right;\n",
       "    }\n",
       "</style>\n",
       "<table border=\"1\" class=\"dataframe\">\n",
       "  <thead>\n",
       "    <tr style=\"text-align: right;\">\n",
       "      <th></th>\n",
       "      <th>data-product-name</th>\n",
       "      <th>product-size</th>\n",
       "      <th>item-price</th>\n",
       "      <th>price-label</th>\n",
       "    </tr>\n",
       "  </thead>\n",
       "  <tbody>\n",
       "    <tr>\n",
       "      <th>0</th>\n",
       "      <td>Organix Raspberry &amp; Apple Soft Oaty Bars</td>\n",
       "      <td>6x23g</td>\n",
       "      <td>3.15</td>\n",
       "      <td>£ 3.15</td>\n",
       "    </tr>\n",
       "    <tr>\n",
       "      <th>1</th>\n",
       "      <td>Organix Carrot Cake Oaty Bars</td>\n",
       "      <td>6x23g</td>\n",
       "      <td>3.15</td>\n",
       "      <td>£ 3.15</td>\n",
       "    </tr>\n",
       "    <tr>\n",
       "      <th>2</th>\n",
       "      <td>Aptamil 2 Follow On Milk</td>\n",
       "      <td>800g</td>\n",
       "      <td>13.50</td>\n",
       "      <td>£ 13.50</td>\n",
       "    </tr>\n",
       "    <tr>\n",
       "      <th>3</th>\n",
       "      <td>Essential Baby Wipes</td>\n",
       "      <td>80s</td>\n",
       "      <td>0.95</td>\n",
       "      <td>£ 0.95</td>\n",
       "    </tr>\n",
       "    <tr>\n",
       "      <th>4</th>\n",
       "      <td>Organix Apple Rice Cakes</td>\n",
       "      <td>40g</td>\n",
       "      <td>1.60</td>\n",
       "      <td>£ 1.60</td>\n",
       "    </tr>\n",
       "    <tr>\n",
       "      <th>5</th>\n",
       "      <td>Pampers Baby Wipes</td>\n",
       "      <td>52s</td>\n",
       "      <td>1.50</td>\n",
       "      <td>£ 1.50</td>\n",
       "    </tr>\n",
       "    <tr>\n",
       "      <th>6</th>\n",
       "      <td>Kendamil First Infant Milk Ready To Feed</td>\n",
       "      <td>250ml</td>\n",
       "      <td>1.20</td>\n",
       "      <td>£ 1.20</td>\n",
       "    </tr>\n",
       "    <tr>\n",
       "      <th>7</th>\n",
       "      <td>Ella's Kitchen Puree Prunes</td>\n",
       "      <td>70g</td>\n",
       "      <td>1.00</td>\n",
       "      <td>£ 1.00</td>\n",
       "    </tr>\n",
       "    <tr>\n",
       "      <th>8</th>\n",
       "      <td>Waterwipes Biodegradable</td>\n",
       "      <td>60s</td>\n",
       "      <td>2.50</td>\n",
       "      <td>£ 2.50</td>\n",
       "    </tr>\n",
       "    <tr>\n",
       "      <th>9</th>\n",
       "      <td>Waitrose Mini Nappy Sacks</td>\n",
       "      <td>75s</td>\n",
       "      <td>1.00</td>\n",
       "      <td>£ 1.00</td>\n",
       "    </tr>\n",
       "  </tbody>\n",
       "</table>\n",
       "</div>"
      ],
      "text/plain": [
       "                          data-product-name product-size  item-price  \\\n",
       "0  Organix Raspberry & Apple Soft Oaty Bars        6x23g        3.15   \n",
       "1             Organix Carrot Cake Oaty Bars        6x23g        3.15   \n",
       "2                  Aptamil 2 Follow On Milk         800g       13.50   \n",
       "3                      Essential Baby Wipes          80s        0.95   \n",
       "4                  Organix Apple Rice Cakes          40g        1.60   \n",
       "5                        Pampers Baby Wipes          52s        1.50   \n",
       "6  Kendamil First Infant Milk Ready To Feed        250ml        1.20   \n",
       "7               Ella's Kitchen Puree Prunes          70g        1.00   \n",
       "8                  Waterwipes Biodegradable          60s        2.50   \n",
       "9                 Waitrose Mini Nappy Sacks          75s        1.00   \n",
       "\n",
       "  price-label  \n",
       "0      £ 3.15  \n",
       "1      £ 3.15  \n",
       "2     £ 13.50  \n",
       "3      £ 0.95  \n",
       "4      £ 1.60  \n",
       "5      £ 1.50  \n",
       "6      £ 1.20  \n",
       "7      £ 1.00  \n",
       "8      £ 2.50  \n",
       "9      £ 1.00  "
      ]
     },
     "execution_count": 32,
     "metadata": {},
     "output_type": "execute_result"
    }
   ],
   "source": [
    "df[['data-product-name', 'product-size', 'item-price', 'price-label']].head(10)"
   ]
  },
  {
   "cell_type": "markdown",
   "metadata": {},
   "source": [
    "## 4.3 Row-wise operations with the `DataFrame.apply()` method\n",
    "\n",
    "Say we want to create, **for each product** (each row), a short description that includes the product name, size, and price.\n",
    "\n",
    "We can use the [`DataFrame.apply()`](https://pandas.pydata.org/docs/reference/api/pandas.DataFrame.apply.html) method to apply a function to each row of the DataFrame. In this case, you must specify the `axis=1` argument to indicate that the function should be applied to each row, not columns (the default):"
   ]
  },
  {
   "cell_type": "code",
   "execution_count": 33,
   "metadata": {},
   "outputs": [
    {
     "data": {
      "text/plain": [
       "0        Organix Raspberry & Apple Soft Oaty Bars (6x23...\n",
       "1           Organix Carrot Cake Oaty Bars (6x23g) (£ 3.15)\n",
       "2                Aptamil 2 Follow On Milk (800g) (£ 13.50)\n",
       "3                      Essential Baby Wipes (80s) (£ 0.95)\n",
       "4                  Organix Apple Rice Cakes (40g) (£ 1.60)\n",
       "                               ...                        \n",
       "25413    Duchy Organic British Lamb Half Leg (Typical w...\n",
       "25414          Cooks' Ingredients Wok Oil (250ml) (£ 2.40)\n",
       "25415    No. 1 Badoz Vacherin Du Haut-Doubs AOP French ...\n",
       "25416    Cooks' Ingredients White Marzipan (500g) (£ 2.50)\n",
       "25417    Duchy Organic Pinot Grigio Bag in Box (2.25L) ...\n",
       "Length: 25418, dtype: object"
      ]
     },
     "execution_count": 33,
     "metadata": {},
     "output_type": "execute_result"
    }
   ],
   "source": [
    "df.apply(lambda x: f'{x[\"data-product-name\"]} ({x[\"product-size\"]}) (£ {x[\"item-price\"]:.2f})', axis=1)"
   ]
  },
  {
   "cell_type": "markdown",
   "metadata": {},
   "source": [
    "[💭 **Think about it:** why did the pandas developers decided to make it so the output of `DataFrame.apply()` is a Series and not another DataFrame?]{style=\"display:block;background-color:rgba(93, 158, 188, 0.1);padding:0.5em;font-size:0.85em;margin-left:0em;margin-bottom:1em;border-radius:0.5em;\"}\n"
   ]
  },
  {
   "cell_type": "markdown",
   "metadata": {},
   "source": [
    "# 5. Saving the DataFrame\n",
    "\n",
    "Say you've written a lot of code to make changes to the DataFrame and you do not want to re-run the same code every time you open your notebook. \n",
    "\n",
    "You can just save the DataFrame to one of the many file formats pandas supports:\n",
    "\n",
    "```python\n",
    "# CSV is the most natural format for tabular data\n",
    "df.to_csv(some_location, index=False)\n",
    "\n",
    "# You can also save to an Excel file. You might need to install the openpyxl package first\n",
    "df.to_excel(some_location, index=False)\n",
    "\n",
    "# You can also save it to a JSON file\n",
    "df.to_json(some_location, orient='records')\n",
    "```\n",
    "\n",
    "[💡 The `index=False` argument is there to avoid saving the index as a column in the CSV file.]{style=\"display:block;background-color:rgba(200, 144, 32, 0.05);padding:0.5em;font-size:0.85em;margin-left:0em;margin-bottom:1em;border-radius:0.5em;width:70%\"}\n",
    "\n",
    "[💡 The `orient='records'` argument is there to save the JSON file in a format that is easy to read and load back into a DataFrame.]{style=\"display:block;background-color:rgba(200, 144, 32, 0.05);padding:0.5em;font-size:0.85em;margin-left:0em;margin-bottom:1em;border-radius:0.5em;width:70%\"}"
   ]
  }
 ],
 "metadata": {
  "kernelspec": {
   "display_name": "base",
   "language": "python",
   "name": "python3"
  },
  "language_info": {
   "codemirror_mode": {
    "name": "ipython",
    "version": 3
   },
   "file_extension": ".py",
   "mimetype": "text/x-python",
   "name": "python",
   "nbconvert_exporter": "python",
   "pygments_lexer": "ipython3",
   "version": "3.10.15"
  }
 },
 "nbformat": 4,
 "nbformat_minor": 2
}
