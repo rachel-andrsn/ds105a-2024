{
 "cells": [
  {
   "cell_type": "markdown",
   "metadata": {},
   "source": [
    "<font style='font-size:1.5em'>**🧑‍🏫 Week 05 Lecture – NB02 - Pandas tips for W06 Summative** </font>\n",
    "\n",
    "<font style='font-size:1.2em'>LSE [DS105A](https://lse-dsi.github.io/DS105/autumn-term/index.html){style=\"color:#e26a4f;font-weight:bold\"} – Data for Data Science (2024/25) </font>\n",
    "\n",
    "\n",
    "\n",
    "<div style=\"color: #333333; background-color:rgba(226, 106, 79, 0.075); border-radius: 10px; box-shadow: 0 4px 8px rgba(0, 0, 0, 0.1); padding: 20px 0 20px 10px; margin: 10px 0 10px 0; flex: 1 1 calc(45% - 20px);min-width: 250px;max-width: 350px;align-items:top;min-height: calc(45% - 20px); box-sizing: border-box;font-size:0.9em;\">\n",
    "\n",
    "🗓️ **DATE:** 31 October 2024 \n",
    "\n",
    "⌚ **TIME:** 16.00-18.00\n",
    "\n",
    "📍 **LOCATION:** CLM.5.02\n",
    "</div>🎃\n",
    "\n",
    "\n",
    "**AUTHORS:**  Dr. [Jon Cardoso-Silva](https://jonjoncardoso.github.io){style=\"color:#e26a4f;font-weight:bold\"}\n",
    "\n",
    "**DEPARTMENT:** [LSE Data Science Institute](https://lse.ac.uk/dsi){style=\"color:#e26a4f;font-weight:bold\"}\n",
    "\n",
    "**OBJECTIVE**: Show a few things about the OpenMeteo API, the `requests` and the `pandas` package that might help you with your W06 Summative assignment. I expanded the code created on the spot during the second hour of the lecture and added commentary to make it more useful for studying.\n",
    "\n",
    "---"
   ]
  },
  {
   "cell_type": "code",
   "execution_count": 1,
   "metadata": {},
   "outputs": [
    {
     "data": {
      "text/html": [
       "\n",
       "            <div id=\"yF412H\"></div>\n",
       "            <script type=\"text/javascript\" data-lets-plot-script=\"library\">\n",
       "                if(!window.letsPlotCallQueue) {\n",
       "                    window.letsPlotCallQueue = [];\n",
       "                }; \n",
       "                window.letsPlotCall = function(f) {\n",
       "                    window.letsPlotCallQueue.push(f);\n",
       "                };\n",
       "                (function() {\n",
       "                    var script = document.createElement(\"script\");\n",
       "                    script.type = \"text/javascript\";\n",
       "                    script.src = \"https://cdn.jsdelivr.net/gh/JetBrains/lets-plot@v4.4.1/js-package/distr/lets-plot.min.js\";\n",
       "                    script.onload = function() {\n",
       "                        window.letsPlotCall = function(f) {f();};\n",
       "                        window.letsPlotCallQueue.forEach(function(f) {f();});\n",
       "                        window.letsPlotCallQueue = [];\n",
       "                        \n",
       "                    };\n",
       "                    script.onerror = function(event) {\n",
       "                        window.letsPlotCall = function(f) {};    // noop\n",
       "                        window.letsPlotCallQueue = [];\n",
       "                        var div = document.createElement(\"div\");\n",
       "                        div.style.color = 'darkred';\n",
       "                        div.textContent = 'Error loading Lets-Plot JS';\n",
       "                        document.getElementById(\"yF412H\").appendChild(div);\n",
       "                    };\n",
       "                    var e = document.getElementById(\"yF412H\");\n",
       "                    e.appendChild(script);\n",
       "                })()\n",
       "            </script>\n",
       "            "
      ]
     },
     "metadata": {},
     "output_type": "display_data"
    }
   ],
   "source": [
    "# Import requests to get data from websites\n",
    "import requests\n",
    "\n",
    "import pandas as pd\n",
    "\n",
    "from lets_plot import *\n",
    "LetsPlot.setup_html()\n",
    "\n",
    "from IPython.display import Image"
   ]
  },
  {
   "cell_type": "markdown",
   "metadata": {},
   "source": [
    "# 1. About URLs"
   ]
  },
  {
   "cell_type": "markdown",
   "metadata": {},
   "source": [
    "When we go to OpenMeteo's [Historical Weather API](https://open-meteo.com/en/docs/historical-weather-api) and fiddle with the parameters, we discover the full URL we can use to submit a request about historical daily rain data:"
   ]
  },
  {
   "cell_type": "code",
   "execution_count": 2,
   "metadata": {},
   "outputs": [],
   "source": [
    "url = 'https://archive-api.open-meteo.com/v1/archive?latitude=52.52&longitude=13.41&start_date=2024-10-15&end_date=2024-10-29&daily=rain_sum'"
   ]
  },
  {
   "cell_type": "markdown",
   "metadata": {},
   "source": [
    "Why is the URL like that? Because the developers of Open-Meteo decided so.\n",
    "\n",
    "When we interact with an API, we have to adhere to the restrictions and rules imposed by the maintainers of that API service. Every API is different and not all of them have an easy to browse website with well-documented parameters like Open-Meteo."
   ]
  },
  {
   "cell_type": "markdown",
   "metadata": {},
   "source": [
    "## Splitting long strings with the `+` operator"
   ]
  },
  {
   "cell_type": "markdown",
   "metadata": {},
   "source": [
    "I particularly don't like having this URL in a single line like that. It's too long and requires scrolling horizontally to understand the list of parameters we passed. \n",
    "\n",
    "This is why I've been recommending you split this huge URL into smaller pieces: "
   ]
  },
  {
   "cell_type": "code",
   "execution_count": 3,
   "metadata": {},
   "outputs": [],
   "source": [
    "endpoint            = \"https://archive-api.open-meteo.com/v1/archive?\"\n",
    "\n",
    "geo_parameters      = 'latitude=52.52&longitude=13.41'\n",
    "date_parameters     = '&start_date=2024-10-15&end_date=2024-10-29'\n",
    "variable_parameters = '&daily=rain_sum'\n",
    "\n",
    "# Here's another way to assemble the URL above\n",
    "url = endpoint + geo_parameters + date_parameters + variable_parameters"
   ]
  },
  {
   "cell_type": "markdown",
   "metadata": {},
   "source": [
    "## Saving parameters as a dictionary instead\n",
    "\n",
    "Ultimately, we want to send a GET request to the API URL.\n",
    "\n",
    "But, we don't need to use the URL as this huge string. There is a more professional way to send requests to APIs.\n",
    "\n",
    "You can put all parameters (`latitude`, `longitude`, `start_date`, etc.) on a dictionary and pass it to the `requests.get()` function:"
   ]
  },
  {
   "cell_type": "code",
   "execution_count": 4,
   "metadata": {},
   "outputs": [],
   "source": [
    "all_parameters = {\n",
    "    'latitude'      : 52.52,\n",
    "    'longitude'     : 13.41,\n",
    "    'start_date'    : '2024-10-15',\n",
    "    'end_date'      : '2024-10-29',\n",
    "    'daily'         : 'rain_sum'\n",
    "}\n",
    "\n",
    "endpoint            = \"https://archive-api.open-meteo.com/v1/archive?\"\n",
    "\n",
    "response = requests.get(endpoint, params=all_parameters)"
   ]
  },
  {
   "cell_type": "markdown",
   "metadata": {},
   "source": [
    "# 2. Get to pandas as quick as possible\n",
    "\n",
    "Data analysis will be much simpler and you will be more productive on the long run if you manage to convert whatever data you have to pandas as quick as you can.\n",
    "\n",
    "Pandas allows us to build a DataFrame from python dictionaries so, because our OpenMeteo data comes in the form of a dictionary (it's what JSON data format becomes when translated to Python objects), we can get the OpenMeteo data we care about in DataFrame as soon as we get the response from the API:"
   ]
  },
  {
   "cell_type": "code",
   "execution_count": 5,
   "metadata": {},
   "outputs": [
    {
     "data": {
      "text/plain": [
       "dict_keys(['latitude', 'longitude', 'generationtime_ms', 'utc_offset_seconds', 'timezone', 'timezone_abbreviation', 'elevation', 'daily_units', 'daily'])"
      ]
     },
     "execution_count": 5,
     "metadata": {},
     "output_type": "execute_result"
    }
   ],
   "source": [
    "data = response.json()\n",
    "\n",
    "# This is a Python dictionary\n",
    "data.keys()"
   ]
  },
  {
   "cell_type": "markdown",
   "metadata": {},
   "source": [
    "I know that the data I care about is inside the `daily` key and, right now, I don't care about the other keys in that dictionary. Therefore, I can convert the dictionary at `data['daily']` to a Pandas DataFrame:"
   ]
  },
  {
   "cell_type": "code",
   "execution_count": 6,
   "metadata": {},
   "outputs": [
    {
     "data": {
      "text/html": [
       "<div>\n",
       "<style scoped>\n",
       "    .dataframe tbody tr th:only-of-type {\n",
       "        vertical-align: middle;\n",
       "    }\n",
       "\n",
       "    .dataframe tbody tr th {\n",
       "        vertical-align: top;\n",
       "    }\n",
       "\n",
       "    .dataframe thead th {\n",
       "        text-align: right;\n",
       "    }\n",
       "</style>\n",
       "<table border=\"1\" class=\"dataframe\">\n",
       "  <thead>\n",
       "    <tr style=\"text-align: right;\">\n",
       "      <th></th>\n",
       "      <th>time</th>\n",
       "      <th>rain_sum</th>\n",
       "    </tr>\n",
       "  </thead>\n",
       "  <tbody>\n",
       "    <tr>\n",
       "      <th>0</th>\n",
       "      <td>2024-10-15</td>\n",
       "      <td>0.0</td>\n",
       "    </tr>\n",
       "    <tr>\n",
       "      <th>1</th>\n",
       "      <td>2024-10-16</td>\n",
       "      <td>0.0</td>\n",
       "    </tr>\n",
       "    <tr>\n",
       "      <th>2</th>\n",
       "      <td>2024-10-17</td>\n",
       "      <td>0.0</td>\n",
       "    </tr>\n",
       "    <tr>\n",
       "      <th>3</th>\n",
       "      <td>2024-10-18</td>\n",
       "      <td>0.0</td>\n",
       "    </tr>\n",
       "    <tr>\n",
       "      <th>4</th>\n",
       "      <td>2024-10-19</td>\n",
       "      <td>0.0</td>\n",
       "    </tr>\n",
       "  </tbody>\n",
       "</table>\n",
       "</div>"
      ],
      "text/plain": [
       "         time  rain_sum\n",
       "0  2024-10-15       0.0\n",
       "1  2024-10-16       0.0\n",
       "2  2024-10-17       0.0\n",
       "3  2024-10-18       0.0\n",
       "4  2024-10-19       0.0"
      ]
     },
     "execution_count": 6,
     "metadata": {},
     "output_type": "execute_result"
    }
   ],
   "source": [
    "df = pd.DataFrame(data['daily'])\n",
    "df.head()"
   ]
  },
  {
   "cell_type": "markdown",
   "metadata": {},
   "source": [
    "Now that I have data represented as a DataFrame, I can do more things and with fewer lines of code."
   ]
  },
  {
   "cell_type": "markdown",
   "metadata": {},
   "source": [
    "**Get a statistical description of numerical data:**"
   ]
  },
  {
   "cell_type": "code",
   "execution_count": 7,
   "metadata": {},
   "outputs": [
    {
     "data": {
      "text/plain": [
       "count    15.000000\n",
       "mean      0.280000\n",
       "std       0.800179\n",
       "min       0.000000\n",
       "25%       0.000000\n",
       "50%       0.000000\n",
       "75%       0.050000\n",
       "max       3.100000\n",
       "Name: rain_sum, dtype: float64"
      ]
     },
     "execution_count": 7,
     "metadata": {},
     "output_type": "execute_result"
    }
   ],
   "source": [
    "df['rain_sum'].describe()"
   ]
  },
  {
   "cell_type": "markdown",
   "metadata": {},
   "source": [
    "**Create plots:**"
   ]
  },
  {
   "cell_type": "code",
   "execution_count": 8,
   "metadata": {},
   "outputs": [
    {
     "data": {
      "text/plain": [
       "<Axes: >"
      ]
     },
     "execution_count": 8,
     "metadata": {},
     "output_type": "execute_result"
    },
    {
     "data": {
      "image/png": "[encoded data removed]",
      "text/plain": [
       "<Figure size 640x480 with 1 Axes>"
      ]
     },
     "metadata": {},
     "output_type": "display_data"
    }
   ],
   "source": [
    "# Use pandas built-in matplotlib plots for a quick check of the data\n",
    "df['rain_sum'].plot()"
   ]
  },
  {
   "cell_type": "code",
   "execution_count": 9,
   "metadata": {},
   "outputs": [
    {
     "data": {
      "text/html": [
       "   <div id=\"InBm85\"></div>\n",
       "   <script type=\"text/javascript\" data-lets-plot-script=\"plot\">\n",
       "       (function() {\n",
       "           var plotSpec={\n",
       "\"data\":{\n",
       "\"time\":[1.7289504E12,1.7290368E12,1.7291232E12,1.7292096E12,1.729296E12,1.7293824E12,1.7294688E12,1.7295552E12,1.7296416E12,1.729728E12,1.7298144E12,1.7299008E12,1.7299872E12,1.7300736E12,1.73016E12],\n",
       "\"rain_sum\":[0.0,0.0,0.0,0.0,0.0,0.0,3.1,0.0,0.0,0.0,0.0,0.0,0.1,0.6,0.4]\n",
       "},\n",
       "\"mapping\":{\n",
       "\"x\":\"time\",\n",
       "\"y\":\"rain_sum\"\n",
       "},\n",
       "\"data_meta\":{\n",
       "\"series_annotations\":[{\n",
       "\"type\":\"datetime\",\n",
       "\"column\":\"time\"\n",
       "},{\n",
       "\"type\":\"float\",\n",
       "\"column\":\"rain_sum\"\n",
       "}]\n",
       "},\n",
       "\"ggtitle\":{\n",
       "\"text\":\"There were four days with run during the mapped period\"\n",
       "},\n",
       "\"guides\":{\n",
       "\"x\":{\n",
       "\"title\":\"Date\"\n",
       "},\n",
       "\"y\":{\n",
       "\"title\":\"Rain (mm)\"\n",
       "}\n",
       "},\n",
       "\"ggsize\":{\n",
       "\"width\":700.0,\n",
       "\"height\":200.0\n",
       "},\n",
       "\"kind\":\"plot\",\n",
       "\"scales\":[{\n",
       "\"aesthetic\":\"x\",\n",
       "\"format\":\"%d/%b\",\n",
       "\"datetime\":true\n",
       "},{\n",
       "\"aesthetic\":\"y\",\n",
       "\"breaks\":[0.0,2.0,4.0],\n",
       "\"limits\":[0.0,4.0]\n",
       "}],\n",
       "\"layers\":[{\n",
       "\"geom\":\"bar\",\n",
       "\"stat\":\"identity\",\n",
       "\"mapping\":{\n",
       "},\n",
       "\"data_meta\":{\n",
       "},\n",
       "\"data\":{\n",
       "}\n",
       "}],\n",
       "\"metainfo_list\":[]\n",
       "};\n",
       "           var plotContainer = document.getElementById(\"InBm85\");\n",
       "           window.letsPlotCall(function() {{\n",
       "               LetsPlot.buildPlotFromProcessedSpecs(plotSpec, -1, -1, plotContainer);\n",
       "           }});\n",
       "       })();\n",
       "   </script>"
      ],
      "text/plain": [
       "<lets_plot.plot.core.PlotSpec at 0x27d1f0ded40>"
      ]
     },
     "execution_count": 9,
     "metadata": {},
     "output_type": "execute_result"
    }
   ],
   "source": [
    "# Or using the grammar-of-graphics \n",
    "#  for more principled data manipulation skills\n",
    "#  and to maximise customisation\n",
    "\n",
    "df['time'] = pd.to_datetime(df['time'])\n",
    "\n",
    "g = (\n",
    "    ggplot(df, aes(x='time', y='rain_sum')) +\n",
    "    geom_bar(stat='identity') +\n",
    "    labs(title=\"There were four days with run during the mapped period\",\n",
    "         x=\"Date\", y=\"Rain (mm)\") +\n",
    "    scale_x_datetime(format=\"%d/%b\") +\n",
    "    scale_y_continuous(breaks=[0, 2, 4], limits=[0, 4]) +\n",
    "    ggsize(700, 200)\n",
    ")\n",
    "\n",
    "ggsave(g, \"rainfall.png\", path=\"../figures/weather/\")\n",
    "\n",
    "g"
   ]
  },
  {
   "cell_type": "code",
   "execution_count": 10,
   "metadata": {},
   "outputs": [
    {
     "data": {
      "image/png": "[encoded data removed]",
      "text/plain": [
       "<IPython.core.display.Image object>"
      ]
     },
     "execution_count": 10,
     "metadata": {},
     "output_type": "execute_result"
    }
   ],
   "source": [
    "Image(filename=\"../figures/weather/rainfall.png\")"
   ]
  },
  {
   "cell_type": "markdown",
   "metadata": {},
   "source": [
    "# 3. Tip: OpenMeteo lets you query multiple locations at once \n",
    "\n",
    "Instead of passing just a single latitude and longitude to the URL, like:\n",
    "\n",
    "```\n",
    "latitude=48.85341&longitude=2.34880\n",
    "```\n",
    "\n",
    "You can combine two cities in the same request. This is done bey separating the latitudes by commas (same for longitudes):\n",
    "\n",
    "```\n",
    "latitude=48.85341,51.50853&longitude=2.34880,-0.12574\n",
    "```\n",
    "\n",
    "You can use this to submit a single request about multiple cities at once!"
   ]
  },
  {
   "cell_type": "markdown",
   "metadata": {},
   "source": [
    "# 4. Multiple ways of filtering a DataFrame\n",
    "\n",
    "Some of you when you learned about the possibility to add multiple cities to the same request naturally thought: '_how can I get data about multiple selected cities from the world cities CSV'_?\n",
    "\n",
    "Let's see how to get that to work."
   ]
  },
  {
   "cell_type": "markdown",
   "metadata": {},
   "source": [
    "## 4.1 How to filter a DataFrame\n",
    "\n",
    "Firstly, let me show how you would filter a dataframe to collect a single row that matches some conditions.\n",
    "\n",
    "Let me read the dataframe first:"
   ]
  },
  {
   "cell_type": "code",
   "execution_count": 11,
   "metadata": {},
   "outputs": [],
   "source": [
    "filepath = '../data/world_cities.csv'\n",
    "world_cities = pd.read_csv(filepath)"
   ]
  },
  {
   "cell_type": "code",
   "execution_count": 12,
   "metadata": {},
   "outputs": [
    {
     "data": {
      "text/html": [
       "<div>\n",
       "<style scoped>\n",
       "    .dataframe tbody tr th:only-of-type {\n",
       "        vertical-align: middle;\n",
       "    }\n",
       "\n",
       "    .dataframe tbody tr th {\n",
       "        vertical-align: top;\n",
       "    }\n",
       "\n",
       "    .dataframe thead th {\n",
       "        text-align: right;\n",
       "    }\n",
       "</style>\n",
       "<table border=\"1\" class=\"dataframe\">\n",
       "  <thead>\n",
       "    <tr style=\"text-align: right;\">\n",
       "      <th></th>\n",
       "      <th>country</th>\n",
       "      <th>name</th>\n",
       "      <th>lat</th>\n",
       "      <th>lng</th>\n",
       "    </tr>\n",
       "  </thead>\n",
       "  <tbody>\n",
       "    <tr>\n",
       "      <th>48111</th>\n",
       "      <td>FR</td>\n",
       "      <td>Sainte-Marie-des-Champs</td>\n",
       "      <td>49.62120</td>\n",
       "      <td>0.77904</td>\n",
       "    </tr>\n",
       "    <tr>\n",
       "      <th>134271</th>\n",
       "      <td>US</td>\n",
       "      <td>Greensboro</td>\n",
       "      <td>36.07264</td>\n",
       "      <td>-79.79198</td>\n",
       "    </tr>\n",
       "    <tr>\n",
       "      <th>32481</th>\n",
       "      <td>DE</td>\n",
       "      <td>Laußig</td>\n",
       "      <td>51.54676</td>\n",
       "      <td>12.62930</td>\n",
       "    </tr>\n",
       "    <tr>\n",
       "      <th>39928</th>\n",
       "      <td>ES</td>\n",
       "      <td>Arjona</td>\n",
       "      <td>37.93493</td>\n",
       "      <td>-4.05478</td>\n",
       "    </tr>\n",
       "    <tr>\n",
       "      <th>75776</th>\n",
       "      <td>IT</td>\n",
       "      <td>Panighina</td>\n",
       "      <td>44.17162</td>\n",
       "      <td>12.16324</td>\n",
       "    </tr>\n",
       "  </tbody>\n",
       "</table>\n",
       "</div>"
      ],
      "text/plain": [
       "       country                     name       lat       lng\n",
       "48111       FR  Sainte-Marie-des-Champs  49.62120   0.77904\n",
       "134271      US               Greensboro  36.07264 -79.79198\n",
       "32481       DE                   Laußig  51.54676  12.62930\n",
       "39928       ES                   Arjona  37.93493  -4.05478\n",
       "75776       IT                Panighina  44.17162  12.16324"
      ]
     },
     "execution_count": 12,
     "metadata": {},
     "output_type": "execute_result"
    }
   ],
   "source": [
    "# Show some random 5 rows of the data frame\n",
    "world_cities.sample(n=5)"
   ]
  },
  {
   "cell_type": "markdown",
   "metadata": {},
   "source": [
    "**Which rows contains the latitude and longitude of London?**\n",
    "\n",
    "We can use [logical operators](https://pandas.pydata.org/docs/user_guide/indexing.html#boolean-indexing) to understand which rows of a pandas Series match a condition we specify:"
   ]
  },
  {
   "cell_type": "code",
   "execution_count": 13,
   "metadata": {},
   "outputs": [
    {
     "data": {
      "text/plain": [
       "0         False\n",
       "1         False\n",
       "2         False\n",
       "3         False\n",
       "4         False\n",
       "          ...  \n",
       "149832    False\n",
       "149833    False\n",
       "149834    False\n",
       "149835    False\n",
       "149836    False\n",
       "Name: name, Length: 149837, dtype: bool"
      ]
     },
     "execution_count": 13,
     "metadata": {},
     "output_type": "execute_result"
    }
   ],
   "source": [
    "world_cities['name'] == 'Paris'"
   ]
  },
  {
   "cell_type": "markdown",
   "metadata": {},
   "source": [
    "☝️ This returns a Series of True/False values that I can use to **subset** my entire DataFrame.\n",
    "\n",
    "We use square brackets `[ ]` to filter a DataFrame based on logical conditions:"
   ]
  },
  {
   "cell_type": "code",
   "execution_count": 14,
   "metadata": {},
   "outputs": [
    {
     "data": {
      "text/html": [
       "<div>\n",
       "<style scoped>\n",
       "    .dataframe tbody tr th:only-of-type {\n",
       "        vertical-align: middle;\n",
       "    }\n",
       "\n",
       "    .dataframe tbody tr th {\n",
       "        vertical-align: top;\n",
       "    }\n",
       "\n",
       "    .dataframe thead th {\n",
       "        text-align: right;\n",
       "    }\n",
       "</style>\n",
       "<table border=\"1\" class=\"dataframe\">\n",
       "  <thead>\n",
       "    <tr style=\"text-align: right;\">\n",
       "      <th></th>\n",
       "      <th>country</th>\n",
       "      <th>name</th>\n",
       "      <th>lat</th>\n",
       "      <th>lng</th>\n",
       "    </tr>\n",
       "  </thead>\n",
       "  <tbody>\n",
       "    <tr>\n",
       "      <th>15400</th>\n",
       "      <td>CA</td>\n",
       "      <td>Paris</td>\n",
       "      <td>43.20000</td>\n",
       "      <td>-80.38333</td>\n",
       "    </tr>\n",
       "    <tr>\n",
       "      <th>49226</th>\n",
       "      <td>FR</td>\n",
       "      <td>Paris</td>\n",
       "      <td>48.85341</td>\n",
       "      <td>2.34880</td>\n",
       "    </tr>\n",
       "    <tr>\n",
       "      <th>130904</th>\n",
       "      <td>US</td>\n",
       "      <td>Paris</td>\n",
       "      <td>35.29203</td>\n",
       "      <td>-93.72992</td>\n",
       "    </tr>\n",
       "    <tr>\n",
       "      <th>132257</th>\n",
       "      <td>US</td>\n",
       "      <td>Paris</td>\n",
       "      <td>39.61115</td>\n",
       "      <td>-87.69614</td>\n",
       "    </tr>\n",
       "    <tr>\n",
       "      <th>132854</th>\n",
       "      <td>US</td>\n",
       "      <td>Paris</td>\n",
       "      <td>38.20980</td>\n",
       "      <td>-84.25299</td>\n",
       "    </tr>\n",
       "    <tr>\n",
       "      <th>133783</th>\n",
       "      <td>US</td>\n",
       "      <td>Paris</td>\n",
       "      <td>39.48087</td>\n",
       "      <td>-92.00128</td>\n",
       "    </tr>\n",
       "    <tr>\n",
       "      <th>135812</th>\n",
       "      <td>US</td>\n",
       "      <td>Paris</td>\n",
       "      <td>36.30200</td>\n",
       "      <td>-88.32671</td>\n",
       "    </tr>\n",
       "    <tr>\n",
       "      <th>136484</th>\n",
       "      <td>US</td>\n",
       "      <td>Paris</td>\n",
       "      <td>33.66094</td>\n",
       "      <td>-95.55551</td>\n",
       "    </tr>\n",
       "    <tr>\n",
       "      <th>139025</th>\n",
       "      <td>US</td>\n",
       "      <td>Paris</td>\n",
       "      <td>44.25979</td>\n",
       "      <td>-70.50062</td>\n",
       "    </tr>\n",
       "    <tr>\n",
       "      <th>145471</th>\n",
       "      <td>US</td>\n",
       "      <td>Paris</td>\n",
       "      <td>42.22715</td>\n",
       "      <td>-111.40104</td>\n",
       "    </tr>\n",
       "  </tbody>\n",
       "</table>\n",
       "</div>"
      ],
      "text/plain": [
       "       country   name       lat        lng\n",
       "15400       CA  Paris  43.20000  -80.38333\n",
       "49226       FR  Paris  48.85341    2.34880\n",
       "130904      US  Paris  35.29203  -93.72992\n",
       "132257      US  Paris  39.61115  -87.69614\n",
       "132854      US  Paris  38.20980  -84.25299\n",
       "133783      US  Paris  39.48087  -92.00128\n",
       "135812      US  Paris  36.30200  -88.32671\n",
       "136484      US  Paris  33.66094  -95.55551\n",
       "139025      US  Paris  44.25979  -70.50062\n",
       "145471      US  Paris  42.22715 -111.40104"
      ]
     },
     "execution_count": 14,
     "metadata": {},
     "output_type": "execute_result"
    }
   ],
   "source": [
    "world_cities[world_cities['name'] == 'Paris']"
   ]
  },
  {
   "cell_type": "markdown",
   "metadata": {},
   "source": [
    "**Ops!** There are many cities called Paris around the world. \n",
    "\n",
    "If I just want the one that is in France, I'd have to also specify a logical condition for the `country`:"
   ]
  },
  {
   "cell_type": "code",
   "execution_count": 15,
   "metadata": {},
   "outputs": [
    {
     "data": {
      "text/plain": [
       "0         False\n",
       "1         False\n",
       "2         False\n",
       "3         False\n",
       "4         False\n",
       "          ...  \n",
       "149832    False\n",
       "149833    False\n",
       "149834    False\n",
       "149835    False\n",
       "149836    False\n",
       "Name: country, Length: 149837, dtype: bool"
      ]
     },
     "execution_count": 15,
     "metadata": {},
     "output_type": "execute_result"
    }
   ],
   "source": [
    "world_cities['country'] == 'FR'"
   ]
  },
  {
   "cell_type": "markdown",
   "metadata": {},
   "source": [
    "We can put both conditions together by using the `&` operator:"
   ]
  },
  {
   "cell_type": "code",
   "execution_count": 16,
   "metadata": {},
   "outputs": [
    {
     "data": {
      "text/plain": [
       "0         False\n",
       "1         False\n",
       "2         False\n",
       "3         False\n",
       "4         False\n",
       "          ...  \n",
       "149832    False\n",
       "149833    False\n",
       "149834    False\n",
       "149835    False\n",
       "149836    False\n",
       "Length: 149837, dtype: bool"
      ]
     },
     "execution_count": 16,
     "metadata": {},
     "output_type": "execute_result"
    }
   ],
   "source": [
    "(world_cities['country'] == 'FR') & (world_cities['name'] == 'Paris')"
   ]
  },
  {
   "cell_type": "markdown",
   "metadata": {},
   "source": [
    "The code above can be read as:\n",
    "\n",
    "> 'Does this row have a `country` value equals to 'FR' **AND** a `name` value equals to 'Paris'?'"
   ]
  },
  {
   "cell_type": "markdown",
   "metadata": {},
   "source": [
    "We can check how many rows match the condition by summing the number of Trues in the logical condition above:"
   ]
  },
  {
   "cell_type": "code",
   "execution_count": 17,
   "metadata": {},
   "outputs": [
    {
     "data": {
      "text/plain": [
       "1"
      ]
     },
     "execution_count": 17,
     "metadata": {},
     "output_type": "execute_result"
    }
   ],
   "source": [
    "sum((world_cities['country'] == 'FR') & (world_cities['name'] == 'Paris'))"
   ]
  },
  {
   "cell_type": "markdown",
   "metadata": {},
   "source": [
    "Ok, this condition is guaranteed to return just one matching row.\n",
    "\n",
    "Let's use it within the square brackets now:"
   ]
  },
  {
   "cell_type": "code",
   "execution_count": 18,
   "metadata": {},
   "outputs": [
    {
     "data": {
      "text/html": [
       "<div>\n",
       "<style scoped>\n",
       "    .dataframe tbody tr th:only-of-type {\n",
       "        vertical-align: middle;\n",
       "    }\n",
       "\n",
       "    .dataframe tbody tr th {\n",
       "        vertical-align: top;\n",
       "    }\n",
       "\n",
       "    .dataframe thead th {\n",
       "        text-align: right;\n",
       "    }\n",
       "</style>\n",
       "<table border=\"1\" class=\"dataframe\">\n",
       "  <thead>\n",
       "    <tr style=\"text-align: right;\">\n",
       "      <th></th>\n",
       "      <th>country</th>\n",
       "      <th>name</th>\n",
       "      <th>lat</th>\n",
       "      <th>lng</th>\n",
       "    </tr>\n",
       "  </thead>\n",
       "  <tbody>\n",
       "    <tr>\n",
       "      <th>49226</th>\n",
       "      <td>FR</td>\n",
       "      <td>Paris</td>\n",
       "      <td>48.85341</td>\n",
       "      <td>2.3488</td>\n",
       "    </tr>\n",
       "  </tbody>\n",
       "</table>\n",
       "</div>"
      ],
      "text/plain": [
       "      country   name       lat     lng\n",
       "49226      FR  Paris  48.85341  2.3488"
      ]
     },
     "execution_count": 18,
     "metadata": {},
     "output_type": "execute_result"
    }
   ],
   "source": [
    "world_cities[(world_cities['country'] == 'FR') & (world_cities['name'] == 'Paris')]"
   ]
  },
  {
   "cell_type": "markdown",
   "metadata": {},
   "source": [
    "What if I wanted to match France's Paris and Great Britain's London?\n",
    "\n",
    "I could combine the Paris condition with an `|` (the OR operator):"
   ]
  },
  {
   "cell_type": "code",
   "execution_count": 19,
   "metadata": {},
   "outputs": [
    {
     "data": {
      "text/html": [
       "<div>\n",
       "<style scoped>\n",
       "    .dataframe tbody tr th:only-of-type {\n",
       "        vertical-align: middle;\n",
       "    }\n",
       "\n",
       "    .dataframe tbody tr th {\n",
       "        vertical-align: top;\n",
       "    }\n",
       "\n",
       "    .dataframe thead th {\n",
       "        text-align: right;\n",
       "    }\n",
       "</style>\n",
       "<table border=\"1\" class=\"dataframe\">\n",
       "  <thead>\n",
       "    <tr style=\"text-align: right;\">\n",
       "      <th></th>\n",
       "      <th>country</th>\n",
       "      <th>name</th>\n",
       "      <th>lat</th>\n",
       "      <th>lng</th>\n",
       "    </tr>\n",
       "  </thead>\n",
       "  <tbody>\n",
       "    <tr>\n",
       "      <th>49226</th>\n",
       "      <td>FR</td>\n",
       "      <td>Paris</td>\n",
       "      <td>48.85341</td>\n",
       "      <td>2.34880</td>\n",
       "    </tr>\n",
       "    <tr>\n",
       "      <th>56726</th>\n",
       "      <td>GB</td>\n",
       "      <td>London</td>\n",
       "      <td>51.50853</td>\n",
       "      <td>-0.12574</td>\n",
       "    </tr>\n",
       "  </tbody>\n",
       "</table>\n",
       "</div>"
      ],
      "text/plain": [
       "      country    name       lat      lng\n",
       "49226      FR   Paris  48.85341  2.34880\n",
       "56726      GB  London  51.50853 -0.12574"
      ]
     },
     "execution_count": 19,
     "metadata": {},
     "output_type": "execute_result"
    }
   ],
   "source": [
    "world_cities[\n",
    "    (world_cities['country'] == 'FR') & (world_cities['name'] == 'Paris')\n",
    "    |\n",
    "    (world_cities['country'] == 'GB') & (world_cities['name'] == 'London')\n",
    "]"
   ]
  },
  {
   "cell_type": "markdown",
   "metadata": {},
   "source": [
    "💡 **How can I use this smaller DataFrame to build the list of latitudes and list of longitudes the way OpenMeteo expects?**"
   ]
  },
  {
   "cell_type": "code",
   "execution_count": 20,
   "metadata": {},
   "outputs": [],
   "source": [
    "# Save the filtered DataFrame to a different variable\n",
    "\n",
    "df_subset = world_cities[\n",
    "    (world_cities['country'] == 'FR') & (world_cities['name'] == 'Paris')\n",
    "    |\n",
    "    (world_cities['country'] == 'GB') & (world_cities['name'] == 'London')\n",
    "]\n"
   ]
  },
  {
   "cell_type": "markdown",
   "metadata": {},
   "source": [
    "To get both latitudes in a single list, all I need to do is get the column `lat`:"
   ]
  },
  {
   "cell_type": "code",
   "execution_count": 21,
   "metadata": {},
   "outputs": [
    {
     "data": {
      "text/plain": [
       "49226    48.85341\n",
       "56726    51.50853\n",
       "Name: lat, dtype: float64"
      ]
     },
     "execution_count": 21,
     "metadata": {},
     "output_type": "execute_result"
    }
   ],
   "source": [
    "df_subset['lat']"
   ]
  },
  {
   "cell_type": "markdown",
   "metadata": {},
   "source": [
    "The above is a Series, but I could just as easily have it as a regular Python list:"
   ]
  },
  {
   "cell_type": "code",
   "execution_count": 22,
   "metadata": {},
   "outputs": [
    {
     "data": {
      "text/plain": [
       "[48.85341, 51.50853]"
      ]
     },
     "execution_count": 22,
     "metadata": {},
     "output_type": "execute_result"
    }
   ],
   "source": [
    "df_subset['lat'].tolist()"
   ]
  },
  {
   "cell_type": "markdown",
   "metadata": {},
   "source": [
    "To get it in the format that OpenMeteo wants, I could do this:"
   ]
  },
  {
   "cell_type": "code",
   "execution_count": 23,
   "metadata": {},
   "outputs": [
    {
     "data": {
      "text/plain": [
       "'48.85341,51.50853'"
      ]
     },
     "execution_count": 23,
     "metadata": {},
     "output_type": "execute_result"
    }
   ],
   "source": [
    "# This doesn't scale very well but it works\n",
    "latitude_list = df_subset['lat'].tolist()\n",
    "str(latitude_list[0]) + ',' + str(latitude_list[1])"
   ]
  },
  {
   "cell_type": "markdown",
   "metadata": {},
   "source": [
    "But here's a new trick. If you have a list of strings, you can **join** them together:"
   ]
  },
  {
   "cell_type": "code",
   "execution_count": 24,
   "metadata": {},
   "outputs": [
    {
     "data": {
      "text/plain": [
       "'48.85341,51.50853'"
      ]
     },
     "execution_count": 24,
     "metadata": {},
     "output_type": "execute_result"
    }
   ],
   "source": [
    "# This joins all the items in my list and add the comma character in between\n",
    "\",\".join([\"48.85341\",\"51.50853\"])"
   ]
  },
  {
   "cell_type": "markdown",
   "metadata": {},
   "source": [
    "A more generalisable way would be this:"
   ]
  },
  {
   "cell_type": "code",
   "execution_count": 25,
   "metadata": {},
   "outputs": [],
   "source": [
    "# pandas Series are essentially lists, so I can use them straight way\n",
    "# in the join() function (provided that the Series is definitely a str type)\n",
    "latitudes       = \",\".join(df_subset['lat'].astype(str))\n",
    "longitudes      = \",\".join(df_subset['lng'].astype(str))\n",
    "\n",
    "# Then I can override the latitude and longitude parameters of my request:\n",
    "all_parameters = {\n",
    "    'latitude'      : latitudes,\n",
    "    'longitude'     : longitudes,\n",
    "    'start_date'    : '2024-10-15',\n",
    "    'end_date'      : '2024-10-29',\n",
    "    'daily'         : 'rain_sum'\n",
    "}\n",
    "\n",
    "endpoint            = \"https://archive-api.open-meteo.com/v1/archive?\"\n",
    "\n",
    "data = requests.get(endpoint, params=all_parameters).json()"
   ]
  },
  {
   "cell_type": "markdown",
   "metadata": {},
   "source": [
    "Remember: JSON is a mix of lists and dictionaries. \n",
    "\n",
    "This time around we no longer get `data` as dictionary. Instead, it is a list!"
   ]
  },
  {
   "cell_type": "code",
   "execution_count": 26,
   "metadata": {},
   "outputs": [
    {
     "data": {
      "text/plain": [
       "list"
      ]
     },
     "execution_count": 26,
     "metadata": {},
     "output_type": "execute_result"
    }
   ],
   "source": [
    "type(data)"
   ]
  },
  {
   "cell_type": "markdown",
   "metadata": {},
   "source": [
    "Our list has two elements, the first is Paris and the second represents London:"
   ]
  },
  {
   "cell_type": "code",
   "execution_count": 27,
   "metadata": {},
   "outputs": [
    {
     "data": {
      "text/plain": [
       "2"
      ]
     },
     "execution_count": 27,
     "metadata": {},
     "output_type": "execute_result"
    }
   ],
   "source": [
    "len(data)"
   ]
  },
  {
   "cell_type": "markdown",
   "metadata": {},
   "source": [
    "I can treat each element of the list separately and add a third column to the data frame, to represent the city.\n",
    "\n",
    "(otherwise, how would I know which city the row represents?)"
   ]
  },
  {
   "cell_type": "code",
   "execution_count": 28,
   "metadata": {},
   "outputs": [],
   "source": [
    "df_london         = pd.DataFrame(data[0]['daily'])\n",
    "df_london['city'] = 'London'\n",
    "\n",
    "df_paris          = pd.DataFrame(data[1]['daily'])\n",
    "df_paris['city']  = 'Paris'"
   ]
  },
  {
   "cell_type": "markdown",
   "metadata": {},
   "source": [
    "Here's how you stack up two dataframes (concatenate) to make a single one:"
   ]
  },
  {
   "cell_type": "code",
   "execution_count": 29,
   "metadata": {},
   "outputs": [],
   "source": [
    "df = pd.concat([df_london, df_paris])"
   ]
  },
  {
   "cell_type": "code",
   "execution_count": 30,
   "metadata": {},
   "outputs": [
    {
     "data": {
      "text/html": [
       "<div>\n",
       "<style scoped>\n",
       "    .dataframe tbody tr th:only-of-type {\n",
       "        vertical-align: middle;\n",
       "    }\n",
       "\n",
       "    .dataframe tbody tr th {\n",
       "        vertical-align: top;\n",
       "    }\n",
       "\n",
       "    .dataframe thead th {\n",
       "        text-align: right;\n",
       "    }\n",
       "</style>\n",
       "<table border=\"1\" class=\"dataframe\">\n",
       "  <thead>\n",
       "    <tr style=\"text-align: right;\">\n",
       "      <th></th>\n",
       "      <th>time</th>\n",
       "      <th>rain_sum</th>\n",
       "      <th>city</th>\n",
       "    </tr>\n",
       "  </thead>\n",
       "  <tbody>\n",
       "    <tr>\n",
       "      <th>0</th>\n",
       "      <td>2024-10-15</td>\n",
       "      <td>0.2</td>\n",
       "      <td>London</td>\n",
       "    </tr>\n",
       "    <tr>\n",
       "      <th>1</th>\n",
       "      <td>2024-10-16</td>\n",
       "      <td>9.1</td>\n",
       "      <td>London</td>\n",
       "    </tr>\n",
       "    <tr>\n",
       "      <th>2</th>\n",
       "      <td>2024-10-17</td>\n",
       "      <td>9.7</td>\n",
       "      <td>London</td>\n",
       "    </tr>\n",
       "    <tr>\n",
       "      <th>3</th>\n",
       "      <td>2024-10-18</td>\n",
       "      <td>7.4</td>\n",
       "      <td>London</td>\n",
       "    </tr>\n",
       "    <tr>\n",
       "      <th>4</th>\n",
       "      <td>2024-10-19</td>\n",
       "      <td>2.7</td>\n",
       "      <td>London</td>\n",
       "    </tr>\n",
       "  </tbody>\n",
       "</table>\n",
       "</div>"
      ],
      "text/plain": [
       "         time  rain_sum    city\n",
       "0  2024-10-15       0.2  London\n",
       "1  2024-10-16       9.1  London\n",
       "2  2024-10-17       9.7  London\n",
       "3  2024-10-18       7.4  London\n",
       "4  2024-10-19       2.7  London"
      ]
     },
     "execution_count": 30,
     "metadata": {},
     "output_type": "execute_result"
    }
   ],
   "source": [
    "df.head()"
   ]
  },
  {
   "cell_type": "code",
   "execution_count": 31,
   "metadata": {},
   "outputs": [
    {
     "data": {
      "text/html": [
       "<div>\n",
       "<style scoped>\n",
       "    .dataframe tbody tr th:only-of-type {\n",
       "        vertical-align: middle;\n",
       "    }\n",
       "\n",
       "    .dataframe tbody tr th {\n",
       "        vertical-align: top;\n",
       "    }\n",
       "\n",
       "    .dataframe thead th {\n",
       "        text-align: right;\n",
       "    }\n",
       "</style>\n",
       "<table border=\"1\" class=\"dataframe\">\n",
       "  <thead>\n",
       "    <tr style=\"text-align: right;\">\n",
       "      <th></th>\n",
       "      <th>time</th>\n",
       "      <th>rain_sum</th>\n",
       "      <th>city</th>\n",
       "    </tr>\n",
       "  </thead>\n",
       "  <tbody>\n",
       "    <tr>\n",
       "      <th>10</th>\n",
       "      <td>2024-10-25</td>\n",
       "      <td>4.2</td>\n",
       "      <td>Paris</td>\n",
       "    </tr>\n",
       "    <tr>\n",
       "      <th>11</th>\n",
       "      <td>2024-10-26</td>\n",
       "      <td>0.0</td>\n",
       "      <td>Paris</td>\n",
       "    </tr>\n",
       "    <tr>\n",
       "      <th>12</th>\n",
       "      <td>2024-10-27</td>\n",
       "      <td>0.1</td>\n",
       "      <td>Paris</td>\n",
       "    </tr>\n",
       "    <tr>\n",
       "      <th>13</th>\n",
       "      <td>2024-10-28</td>\n",
       "      <td>0.4</td>\n",
       "      <td>Paris</td>\n",
       "    </tr>\n",
       "    <tr>\n",
       "      <th>14</th>\n",
       "      <td>2024-10-29</td>\n",
       "      <td>0.6</td>\n",
       "      <td>Paris</td>\n",
       "    </tr>\n",
       "  </tbody>\n",
       "</table>\n",
       "</div>"
      ],
      "text/plain": [
       "          time  rain_sum   city\n",
       "10  2024-10-25       4.2  Paris\n",
       "11  2024-10-26       0.0  Paris\n",
       "12  2024-10-27       0.1  Paris\n",
       "13  2024-10-28       0.4  Paris\n",
       "14  2024-10-29       0.6  Paris"
      ]
     },
     "execution_count": 31,
     "metadata": {},
     "output_type": "execute_result"
    }
   ],
   "source": [
    "df.tail()"
   ]
  },
  {
   "cell_type": "markdown",
   "metadata": {},
   "source": [
    "But you can do better! Ideally, you should write a `for` loop to add the name of the city automatically and not manually like I did above (I'll leave that as an exercise to the reader)."
   ]
  },
  {
   "cell_type": "markdown",
   "metadata": {},
   "source": [
    "## 4.2 How to do this with a merge?\n",
    "\n",
    "If you wanted to collect data about a lot of cities, you would have to manually build the logical conditions to recreate the `df_subset`. This would be tedious and error-prone.\n",
    "\n",
    "Several of you came across the pandas `merge()` function and indeed, this is a more robust alternative for the set of logical conditions. \n",
    "\n",
    "`merge()` uses the column names shared by two DataFrames to produce a resulting 'merged' DataFrame that adds information from both data frames. "
   ]
  },
  {
   "cell_type": "markdown",
   "metadata": {},
   "source": [
    "**Let me create a DataFrame with just the info I care about.**\n",
    "\n",
    "Suppose I'm interested in the three cities below:"
   ]
  },
  {
   "cell_type": "code",
   "execution_count": 32,
   "metadata": {},
   "outputs": [
    {
     "data": {
      "text/html": [
       "<div>\n",
       "<style scoped>\n",
       "    .dataframe tbody tr th:only-of-type {\n",
       "        vertical-align: middle;\n",
       "    }\n",
       "\n",
       "    .dataframe tbody tr th {\n",
       "        vertical-align: top;\n",
       "    }\n",
       "\n",
       "    .dataframe thead th {\n",
       "        text-align: right;\n",
       "    }\n",
       "</style>\n",
       "<table border=\"1\" class=\"dataframe\">\n",
       "  <thead>\n",
       "    <tr style=\"text-align: right;\">\n",
       "      <th></th>\n",
       "      <th>country</th>\n",
       "      <th>name</th>\n",
       "    </tr>\n",
       "  </thead>\n",
       "  <tbody>\n",
       "    <tr>\n",
       "      <th>0</th>\n",
       "      <td>GB</td>\n",
       "      <td>London</td>\n",
       "    </tr>\n",
       "    <tr>\n",
       "      <th>1</th>\n",
       "      <td>FR</td>\n",
       "      <td>Paris</td>\n",
       "    </tr>\n",
       "    <tr>\n",
       "      <th>2</th>\n",
       "      <td>US</td>\n",
       "      <td>Washington</td>\n",
       "    </tr>\n",
       "  </tbody>\n",
       "</table>\n",
       "</div>"
      ],
      "text/plain": [
       "  country        name\n",
       "0      GB      London\n",
       "1      FR       Paris\n",
       "2      US  Washington"
      ]
     },
     "execution_count": 32,
     "metadata": {},
     "output_type": "execute_result"
    }
   ],
   "source": [
    "selected_countries = ['GB', 'FR', 'US']\n",
    "selected_cities    = ['London', 'Paris', 'Washington']\n",
    "\n",
    "\n",
    "df_selected_cities = pd.DataFrame({'country': selected_countries, \n",
    "                                   'name': selected_cities})\n",
    "df_selected_cities"
   ]
  },
  {
   "cell_type": "markdown",
   "metadata": {},
   "source": [
    "**I could merge this with the `world_cities` DataFrame**\n"
   ]
  },
  {
   "cell_type": "code",
   "execution_count": 33,
   "metadata": {},
   "outputs": [
    {
     "data": {
      "text/html": [
       "<div>\n",
       "<style scoped>\n",
       "    .dataframe tbody tr th:only-of-type {\n",
       "        vertical-align: middle;\n",
       "    }\n",
       "\n",
       "    .dataframe tbody tr th {\n",
       "        vertical-align: top;\n",
       "    }\n",
       "\n",
       "    .dataframe thead th {\n",
       "        text-align: right;\n",
       "    }\n",
       "</style>\n",
       "<table border=\"1\" class=\"dataframe\">\n",
       "  <thead>\n",
       "    <tr style=\"text-align: right;\">\n",
       "      <th></th>\n",
       "      <th>country</th>\n",
       "      <th>name</th>\n",
       "      <th>lat</th>\n",
       "      <th>lng</th>\n",
       "    </tr>\n",
       "  </thead>\n",
       "  <tbody>\n",
       "    <tr>\n",
       "      <th>0</th>\n",
       "      <td>GB</td>\n",
       "      <td>London</td>\n",
       "      <td>51.50853</td>\n",
       "      <td>-0.12574</td>\n",
       "    </tr>\n",
       "    <tr>\n",
       "      <th>1</th>\n",
       "      <td>FR</td>\n",
       "      <td>Paris</td>\n",
       "      <td>48.85341</td>\n",
       "      <td>2.34880</td>\n",
       "    </tr>\n",
       "    <tr>\n",
       "      <th>2</th>\n",
       "      <td>US</td>\n",
       "      <td>Washington</td>\n",
       "      <td>38.89511</td>\n",
       "      <td>-77.03637</td>\n",
       "    </tr>\n",
       "    <tr>\n",
       "      <th>3</th>\n",
       "      <td>US</td>\n",
       "      <td>Washington</td>\n",
       "      <td>33.73679</td>\n",
       "      <td>-82.73931</td>\n",
       "    </tr>\n",
       "    <tr>\n",
       "      <th>4</th>\n",
       "      <td>US</td>\n",
       "      <td>Washington</td>\n",
       "      <td>38.65922</td>\n",
       "      <td>-87.17279</td>\n",
       "    </tr>\n",
       "    <tr>\n",
       "      <th>5</th>\n",
       "      <td>US</td>\n",
       "      <td>Washington</td>\n",
       "      <td>39.81806</td>\n",
       "      <td>-97.05086</td>\n",
       "    </tr>\n",
       "    <tr>\n",
       "      <th>6</th>\n",
       "      <td>US</td>\n",
       "      <td>Washington</td>\n",
       "      <td>38.55811</td>\n",
       "      <td>-91.01209</td>\n",
       "    </tr>\n",
       "    <tr>\n",
       "      <th>7</th>\n",
       "      <td>US</td>\n",
       "      <td>Washington</td>\n",
       "      <td>35.54655</td>\n",
       "      <td>-77.05217</td>\n",
       "    </tr>\n",
       "    <tr>\n",
       "      <th>8</th>\n",
       "      <td>US</td>\n",
       "      <td>Washington</td>\n",
       "      <td>38.71345</td>\n",
       "      <td>-78.15944</td>\n",
       "    </tr>\n",
       "    <tr>\n",
       "      <th>9</th>\n",
       "      <td>US</td>\n",
       "      <td>Washington</td>\n",
       "      <td>39.26119</td>\n",
       "      <td>-81.67180</td>\n",
       "    </tr>\n",
       "    <tr>\n",
       "      <th>10</th>\n",
       "      <td>US</td>\n",
       "      <td>Washington</td>\n",
       "      <td>41.63148</td>\n",
       "      <td>-73.31067</td>\n",
       "    </tr>\n",
       "    <tr>\n",
       "      <th>11</th>\n",
       "      <td>US</td>\n",
       "      <td>Washington</td>\n",
       "      <td>41.29918</td>\n",
       "      <td>-91.69294</td>\n",
       "    </tr>\n",
       "    <tr>\n",
       "      <th>12</th>\n",
       "      <td>US</td>\n",
       "      <td>Washington</td>\n",
       "      <td>40.70365</td>\n",
       "      <td>-89.40731</td>\n",
       "    </tr>\n",
       "    <tr>\n",
       "      <th>13</th>\n",
       "      <td>US</td>\n",
       "      <td>Washington</td>\n",
       "      <td>44.27369</td>\n",
       "      <td>-69.36727</td>\n",
       "    </tr>\n",
       "    <tr>\n",
       "      <th>14</th>\n",
       "      <td>US</td>\n",
       "      <td>Washington</td>\n",
       "      <td>40.75843</td>\n",
       "      <td>-74.97934</td>\n",
       "    </tr>\n",
       "    <tr>\n",
       "      <th>15</th>\n",
       "      <td>US</td>\n",
       "      <td>Washington</td>\n",
       "      <td>40.17396</td>\n",
       "      <td>-80.24617</td>\n",
       "    </tr>\n",
       "    <tr>\n",
       "      <th>16</th>\n",
       "      <td>US</td>\n",
       "      <td>Washington</td>\n",
       "      <td>44.10562</td>\n",
       "      <td>-72.43260</td>\n",
       "    </tr>\n",
       "    <tr>\n",
       "      <th>17</th>\n",
       "      <td>US</td>\n",
       "      <td>Washington</td>\n",
       "      <td>37.13054</td>\n",
       "      <td>-113.50829</td>\n",
       "    </tr>\n",
       "  </tbody>\n",
       "</table>\n",
       "</div>"
      ],
      "text/plain": [
       "   country        name       lat        lng\n",
       "0       GB      London  51.50853   -0.12574\n",
       "1       FR       Paris  48.85341    2.34880\n",
       "2       US  Washington  38.89511  -77.03637\n",
       "3       US  Washington  33.73679  -82.73931\n",
       "4       US  Washington  38.65922  -87.17279\n",
       "5       US  Washington  39.81806  -97.05086\n",
       "6       US  Washington  38.55811  -91.01209\n",
       "7       US  Washington  35.54655  -77.05217\n",
       "8       US  Washington  38.71345  -78.15944\n",
       "9       US  Washington  39.26119  -81.67180\n",
       "10      US  Washington  41.63148  -73.31067\n",
       "11      US  Washington  41.29918  -91.69294\n",
       "12      US  Washington  40.70365  -89.40731\n",
       "13      US  Washington  44.27369  -69.36727\n",
       "14      US  Washington  40.75843  -74.97934\n",
       "15      US  Washington  40.17396  -80.24617\n",
       "16      US  Washington  44.10562  -72.43260\n",
       "17      US  Washington  37.13054 -113.50829"
      ]
     },
     "execution_count": 33,
     "metadata": {},
     "output_type": "execute_result"
    }
   ],
   "source": [
    "# Merge two data frames: df_selected_cities (left) and world_cities(right)\n",
    "#  This works like this:\n",
    "#  - pandas identify the column names both DFs share (country and name)\n",
    "#  - pandas find the rows that has the same matching values in both data frames\n",
    "#  - pandas puts everything together, adding extra columns to the resulting DF\n",
    "df_selected_cities.merge(world_cities)"
   ]
  },
  {
   "cell_type": "markdown",
   "metadata": {},
   "source": [
    "Wait! There are just one Paris and just one London, but there are dozens of cities named Washington in the US!\n",
    "\n",
    "There's no other way around this: we'll need to do a bit of Google search to discover which one represents Washington DC and then remove all the other Washingtons we don't care about.\n",
    "\n",
    "My Google search reveals that Washington, DC is located at the coordinates: 38°54′17″N 77°00′59″W\n",
    "\n",
    "54′ is actually 54/60 which represents ~ 0.9. **This means the Washington I want is the third one in the DataFrame**\n",
    "\n",
    "Therefore, if I just select `.head(3)`, I'll have all the relevant rows:"
   ]
  },
  {
   "cell_type": "code",
   "execution_count": 34,
   "metadata": {},
   "outputs": [
    {
     "data": {
      "text/html": [
       "<div>\n",
       "<style scoped>\n",
       "    .dataframe tbody tr th:only-of-type {\n",
       "        vertical-align: middle;\n",
       "    }\n",
       "\n",
       "    .dataframe tbody tr th {\n",
       "        vertical-align: top;\n",
       "    }\n",
       "\n",
       "    .dataframe thead th {\n",
       "        text-align: right;\n",
       "    }\n",
       "</style>\n",
       "<table border=\"1\" class=\"dataframe\">\n",
       "  <thead>\n",
       "    <tr style=\"text-align: right;\">\n",
       "      <th></th>\n",
       "      <th>country</th>\n",
       "      <th>name</th>\n",
       "      <th>lat</th>\n",
       "      <th>lng</th>\n",
       "    </tr>\n",
       "  </thead>\n",
       "  <tbody>\n",
       "    <tr>\n",
       "      <th>0</th>\n",
       "      <td>GB</td>\n",
       "      <td>London</td>\n",
       "      <td>51.50853</td>\n",
       "      <td>-0.12574</td>\n",
       "    </tr>\n",
       "    <tr>\n",
       "      <th>1</th>\n",
       "      <td>FR</td>\n",
       "      <td>Paris</td>\n",
       "      <td>48.85341</td>\n",
       "      <td>2.34880</td>\n",
       "    </tr>\n",
       "    <tr>\n",
       "      <th>2</th>\n",
       "      <td>US</td>\n",
       "      <td>Washington</td>\n",
       "      <td>38.89511</td>\n",
       "      <td>-77.03637</td>\n",
       "    </tr>\n",
       "  </tbody>\n",
       "</table>\n",
       "</div>"
      ],
      "text/plain": [
       "  country        name       lat       lng\n",
       "0      GB      London  51.50853  -0.12574\n",
       "1      FR       Paris  48.85341   2.34880\n",
       "2      US  Washington  38.89511 -77.03637"
      ]
     },
     "execution_count": 34,
     "metadata": {},
     "output_type": "execute_result"
    }
   ],
   "source": [
    "df_subset = df_selected_cities.merge(world_cities).head(3)\n",
    "df_subset"
   ]
  },
  {
   "cell_type": "markdown",
   "metadata": {},
   "source": [
    "What if Washington, DC, wasn't placed first?\n",
    "\n",
    "I'd have to do something like this:"
   ]
  },
  {
   "cell_type": "code",
   "execution_count": 35,
   "metadata": {},
   "outputs": [
    {
     "data": {
      "text/html": [
       "<div>\n",
       "<style scoped>\n",
       "    .dataframe tbody tr th:only-of-type {\n",
       "        vertical-align: middle;\n",
       "    }\n",
       "\n",
       "    .dataframe tbody tr th {\n",
       "        vertical-align: top;\n",
       "    }\n",
       "\n",
       "    .dataframe thead th {\n",
       "        text-align: right;\n",
       "    }\n",
       "</style>\n",
       "<table border=\"1\" class=\"dataframe\">\n",
       "  <thead>\n",
       "    <tr style=\"text-align: right;\">\n",
       "      <th></th>\n",
       "      <th>country</th>\n",
       "      <th>name</th>\n",
       "      <th>lat</th>\n",
       "      <th>lng</th>\n",
       "    </tr>\n",
       "  </thead>\n",
       "  <tbody>\n",
       "    <tr>\n",
       "      <th>0</th>\n",
       "      <td>GB</td>\n",
       "      <td>London</td>\n",
       "      <td>51.50853</td>\n",
       "      <td>-0.12574</td>\n",
       "    </tr>\n",
       "    <tr>\n",
       "      <th>1</th>\n",
       "      <td>FR</td>\n",
       "      <td>Paris</td>\n",
       "      <td>48.85341</td>\n",
       "      <td>2.34880</td>\n",
       "    </tr>\n",
       "    <tr>\n",
       "      <th>2</th>\n",
       "      <td>US</td>\n",
       "      <td>Washington</td>\n",
       "      <td>38.89511</td>\n",
       "      <td>-77.03637</td>\n",
       "    </tr>\n",
       "  </tbody>\n",
       "</table>\n",
       "</div>"
      ],
      "text/plain": [
       "  country        name       lat       lng\n",
       "0      GB      London  51.50853  -0.12574\n",
       "1      FR       Paris  48.85341   2.34880\n",
       "2      US  Washington  38.89511 -77.03637"
      ]
     },
     "execution_count": 35,
     "metadata": {},
     "output_type": "execute_result"
    }
   ],
   "source": [
    "df_subset = df_selected_cities.merge(world_cities)\n",
    "\n",
    "# Name is either part of the list ['Paris', 'London']\n",
    "#                OR if matches the latitude specified\n",
    "logical_cond = (\n",
    "    df_subset['name'].isin(['Paris', 'London']) | \n",
    "    (df_subset['lat'] > 38.8) & (df_subset['lat'] < 39)\n",
    ")\n",
    "\n",
    "df_subset = df_subset[logical_cond]\n",
    "\n",
    "df_subset"
   ]
  }
 ],
 "metadata": {
  "kernelspec": {
   "display_name": "base",
   "language": "python",
   "name": "python3"
  },
  "language_info": {
   "codemirror_mode": {
    "name": "ipython",
    "version": 3
   },
   "file_extension": ".py",
   "mimetype": "text/x-python",
   "name": "python",
   "nbconvert_exporter": "python",
   "pygments_lexer": "ipython3",
   "version": "3.10.15"
  }
 },
 "nbformat": 4,
 "nbformat_minor": 2
}
