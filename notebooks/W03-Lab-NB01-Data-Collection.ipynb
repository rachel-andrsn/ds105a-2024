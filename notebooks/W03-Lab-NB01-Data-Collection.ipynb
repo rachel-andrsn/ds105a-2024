{
 "cells": [
  {
   "cell_type": "markdown",
   "metadata": {},
   "source": [
    "<font style='font-size:1.5em'>**💻 Week 03 Lab (✅ Solutions)** </font>\n",
    "\n",
    "<font style='font-size:1.2em'>LSE DS105A – Data for Data Science (2024/25)</font>\n",
    "\n",
    "**DATE:** 21 October 2024\n",
    "\n",
    "**AUTHORS:**  \n",
    "\n",
    "- Jon\n",
    "\n",
    "**OBJECTIVE**: Provide a possible solution to the Week 03 Lab using lots of Python functions.\n",
    "\n",
    "\n",
    "<div style=\"background-color: #fff; margin-top:1em;border-radius: 10px; box-shadow: 0 4px 8px rgba(0, 0, 0, 0.1); padding: 0.75em; flex: 1 1 calc(45% - 20px);align-items:middle;box-sizing: border-box;font-size:0.9em;width:300px\">\n",
    "\n",
    "📝 **Note:** there won't be any solutions for the Bonus Task or Challenge Task. \n",
    "\n",
    "But we will be more than happy to assist you in solving those. Just post your questions to Slack or attend a support session.\n",
    "\n",
    "</div>\n",
    "\n",
    "---"
   ]
  },
  {
   "cell_type": "code",
   "execution_count": 1,
   "metadata": {},
   "outputs": [],
   "source": [
    "import os\n",
    "import json\n",
    "\n",
    "import requests\n",
    "\n",
    "import pandas as pd"
   ]
  },
  {
   "cell_type": "markdown",
   "metadata": {},
   "source": [
    "<details style=\"width:70%;font-size:0.9em;border: 1px solid #aaa;border-radius: 4px;padding: .5em;margin-left:1.5em\"><summary style=\"    font-weight: bold;margin: -.5em -.5em 0;padding: .5em;border-bottom: 1px solid #aaa;\">🔵 Click here if you got an error with the cell above</summary>\n",
    "\n",
    "If the cell above throws an error when you run it, it's because you need to install additional Python libraries.\n",
    "\n",
    "In that case, go to the menu and click \"Terminal\" -> \"New Terminal\". Then, on the terminal run:\n",
    "\n",
    "```bash\n",
    "pip install requests numpy pandas lets-plot\n",
    "```\n",
    "\n",
    "OR\n",
    "\n",
    "```bash\n",
    "python -m pip install requests numpy pandas lets-plot\n",
    "```\n",
    "\n",
    "Wait for it to complete, then come back here (you can close the Terminal window), click \"Restart\" at the top of this notebook and try again.\n",
    "\n",
    "⭐ Pro-Tip: Alternatively, you can run Terminal commands from here! Open a new Python cell below and add a `!` to your prompt, like this:\n",
    "\n",
    "```bash\n",
    "! pwd\n",
    "```\n",
    "\n",
    "</details>"
   ]
  },
  {
   "cell_type": "markdown",
   "metadata": {},
   "source": [
    "# 1. ⚙️ Setup\n",
    "\n",
    "## 1.1 Data Collection Strategy\n",
    "\n",
    "My focus here is just to collect daily min/max temperature data for the city <CITY> over the year 2023. I will analyse the data later in NB02.\n",
    "\n",
    " (_I will not work with forecast data in this notebook._)\n",
    "\n",
    "\n",
    "For this, I will use the [Open-Meteo API](https://open-meteo.com/en/docs):\n",
    "\n",
    "| Endpoint         | URL starts with                      |\n",
    "|------------------|--------------------------------------|\n",
    "| [Historical Weather Data](https://open-meteo.com/en/docs/historical-weather-api) | `https://archive-api.open-meteo.com/v1/archive`   |\n",
    "\n",
    "\n",
    "<div style=\"background-color:white;padding:0.5em;border-radius:0.5em;font-family: monospace;border: 1px solid #eda291;font-size:1.05em;width:600px;margin-top:20px\" id=\"yui_3_17_2_1_1729500472157_68\">\n",
    "<p style=\"margin-top: 0;margin-bottom: 1rem;\">💽 <strong>DATA SPECIFICATION CARD:</strong></p>\n",
    "<ul style=\"margin-top: 0;margin-bottom: 1rem;padding-left: 2rem;\">\n",
    "<li><strong>City:</strong> A selected city from the <code style=\"background-color: #f6f6f6;padding: .2em;font-size: 0.875em;color: #9753b8;white-space: pre-wrap;border-radius: .25rem;word-wrap: break-word;font-family:'SFMono-Regular','Menlo';direction: ltr;unicode-bidi: bidi-override;\">world_cities.csv</code> file.</li>\n",
    "<li><strong>Date Period:</strong> Every single day of the year 2023.</li>\n",
    "<li><strong>Variables:</strong> Daily minimum and maximum temperatures.</li>\n",
    "</ul>\n",
    "</div>\n"
   ]
  },
  {
   "cell_type": "markdown",
   "metadata": {},
   "source": [
    "## 1.2 Definitions\n"
   ]
  },
  {
   "cell_type": "code",
   "execution_count": 2,
   "metadata": {},
   "outputs": [],
   "source": [
    "selected_country = 'GB'\n",
    "selected_city    = 'London'"
   ]
  },
  {
   "cell_type": "markdown",
   "metadata": {},
   "source": [
    "## 1.3 Helpful functions\n",
    "\n",
    "If I create functions, I will place them here at the beginning of the notebook, so that I can reuse them later.\n"
   ]
  },
  {
   "cell_type": "markdown",
   "metadata": {},
   "source": [
    "<div style=\"font-size:0.75em;margin-left:0.5em;width:60%;border: 1px solid #ddd;padding: .5em\">\n",
    "\n",
    "Note from Jon: I already left a function here to read the world cities data and return the latitude and longitude of a city. You can use it to get the coordinates of the city you want to analyse.\n",
    "\n",
    "</div>"
   ]
  },
  {
   "cell_type": "code",
   "execution_count": 3,
   "metadata": {},
   "outputs": [],
   "source": [
    "def get_lat_lon(country_code, city):\n",
    "    \n",
    "    filepath = '../data/world_cities.csv'\n",
    "    world_cities = pd.read_csv(filepath)\n",
    "\n",
    "    # This is how we filter data in pandas\n",
    "    city_data = world_cities[(world_cities['country'] == country_code) & \n",
    "                             (world_cities['name'] == city)]\n",
    "    \n",
    "    # Convert the data to a list of dictionaries\n",
    "    city_data = city_data.to_dict('records')\n",
    "    \n",
    "    if len(city_data) == 0:\n",
    "        raise ValueError(f\"No records found for {city}, {country_code} in {filepath}\")\n",
    "\n",
    "    latitude = city_data[0]['lat']\n",
    "    longitude = city_data[0]['lng']\n",
    "\n",
    "    return latitude, longitude"
   ]
  },
  {
   "cell_type": "markdown",
   "metadata": {},
   "source": [
    "I wrote a function to construct the URL for me. This way I can call it anytime inside or outside another function:"
   ]
  },
  {
   "cell_type": "code",
   "execution_count": 4,
   "metadata": {},
   "outputs": [],
   "source": [
    "def build_url(latitude: float, longitude: float, start_date:str , end_date: str):\n",
    "    base_historical_url = \"https://archive-api.open-meteo.com/v1/era5?\"\n",
    "    params_lat_long     = \"latitude=\" + str(latitude) + \"&longitude=\"  + str(longitude)\n",
    "    params_date         = \"&start_date=\" + start_date + \"&end_date=\" + end_date\n",
    "\n",
    "    # I want the daily min and max temperatures\n",
    "    # Setting the timezone to Europe/London\n",
    "    params_others       = \"&daily=temperature_2m_max,temperature_2m_min&timezone=Europe%2FLondon\"\n",
    "\n",
    "    final_url = base_historical_url + params_lat_long + params_date + params_others\n",
    "\n",
    "    return final_url"
   ]
  },
  {
   "cell_type": "markdown",
   "metadata": {},
   "source": [
    "Below is an adapted version of the `get_historical_data()` function from the ✅ [W03 Formative Exercise solutions](https://moodle.lse.ac.uk/mod/page/view.php?id=1538617).\n",
    "\n",
    "I tweaked it so I can reuse the useful functions above:\n",
    "\n",
    "- `get_lat_lon()`\n",
    "\n",
    "- `build_url()`\n",
    "\n",
    "And, as I am not sure if the same dictionary keys would work, this version of the code returns the original dictionary representing the JSON data. \n",
    "\n",
    "I will still have to filter out to get the min max temperatures."
   ]
  },
  {
   "cell_type": "code",
   "execution_count": 5,
   "metadata": {},
   "outputs": [],
   "source": [
    "def get_historical_data(country_code, city_name, start_date, end_date):\n",
    "    \"\"\"\n",
    "    Retrieves the JSON that comes out of the OpenMeteo Historical\n",
    "\n",
    "    Parameters:\n",
    "        country_code (str): The country code of the location.\n",
    "        city_name (str): The name of the city.\n",
    "        start_date (str): The start date of the historical data in the format 'YYYY-MM-DD'.\n",
    "        end_date (str): The end date of the historical data in the format 'YYYY-MM-DD'.\n",
    "        world_cities (dict): A dictionary containing world cities data.\n",
    "\n",
    "    Returns:\n",
    "        dict: A dictionary representing a JSON file\n",
    "    \"\"\"\n",
    "\n",
    "    latitude, longitude = get_lat_lon(country_code, city_name)\n",
    "\n",
    "    url = build_url(latitude, longitude, start_date, end_date)\n",
    "\n",
    "    response = requests.get(url)\n",
    "\n",
    "    historical_data = response.json()\n",
    "    return historical_data\n"
   ]
  },
  {
   "cell_type": "code",
   "execution_count": 6,
   "metadata": {},
   "outputs": [
    {
     "name": "stdout",
     "output_type": "stream",
     "text": [
      "The function returned an object of type: <class 'dict'>\n",
      "This dictionary has the following keys: dict_keys(['latitude', 'longitude', 'generationtime_ms', 'utc_offset_seconds', 'timezone', 'timezone_abbreviation', 'elevation', 'daily_units', 'daily'])\n",
      "The information I want is under the following keys:\n",
      "  sample_historical_data['daily']['time'] \t\t\t- Sample: ['2023-10-13', '2023-10-14', '2023-10-15']\n",
      "  sample_historical_data['daily']['temperature_2m_min'] \t- Sample: [9.8, 6.7, 4.3]\n",
      "  sample_historical_data['daily']['temperature_2m_max'] \t- Sample: [20.5, 13.3, 10.5]\n"
     ]
    }
   ],
   "source": [
    "# Demonstrate the this function works as intended\n",
    "sample_historical_data = get_historical_data('GB', 'London', '2023-10-13', '2023-10-19')\n",
    "print(f\"The function returned an object of type: {type(sample_historical_data)}\")\n",
    "print(f\"This dictionary has the following keys: {sample_historical_data.keys()}\")\n",
    "print(f\"The information I want is under the following keys:\")\n",
    "print(f\"  sample_historical_data['daily']['time'] \\t\\t\\t- Sample: {sample_historical_data['daily']['time'][0:3]}\")\n",
    "print(f\"  sample_historical_data['daily']['temperature_2m_min'] \\t- Sample: {sample_historical_data['daily']['temperature_2m_min'][0:3]}\")\n",
    "print(f\"  sample_historical_data['daily']['temperature_2m_max'] \\t- Sample: {sample_historical_data['daily']['temperature_2m_max'][0:3]}\")"
   ]
  },
  {
   "cell_type": "markdown",
   "metadata": {},
   "source": [
    "## 1.4 Get latitude and longitude"
   ]
  },
  {
   "cell_type": "code",
   "execution_count": 7,
   "metadata": {},
   "outputs": [],
   "source": [
    "latitude, longitude = get_lat_lon(selected_country, selected_city)"
   ]
  },
  {
   "cell_type": "markdown",
   "metadata": {},
   "source": [
    "Checking that the function works:"
   ]
  },
  {
   "cell_type": "code",
   "execution_count": 8,
   "metadata": {},
   "outputs": [
    {
     "name": "stdout",
     "output_type": "stream",
     "text": [
      "The latitude & longitude of London (GB) are: (51.50853, -0.12574)\n"
     ]
    }
   ],
   "source": [
    "print(f\"The latitude & longitude of {selected_city} ({selected_country}) are: ({latitude}, {longitude})\")"
   ]
  },
  {
   "cell_type": "markdown",
   "metadata": {},
   "source": [
    "# 2. Collecting Data"
   ]
  },
  {
   "cell_type": "markdown",
   "metadata": {},
   "source": [
    "**Checking the URL**\n",
    "\n",
    "I moved the code I originally wrote here to a function `build_url()` in Section 1.3 of this notebook.\n",
    "\n",
    "This way, I can confirm that I get the URL by simply calling the function:"
   ]
  },
  {
   "cell_type": "code",
   "execution_count": 9,
   "metadata": {},
   "outputs": [
    {
     "data": {
      "text/plain": [
       "'https://archive-api.open-meteo.com/v1/era5?latitude=51.50853&longitude=-0.12574&start_date=2023-01-01&end_date=2023-12-31&daily=temperature_2m_max,temperature_2m_min&timezone=Europe%2FLondon'"
      ]
     },
     "execution_count": 9,
     "metadata": {},
     "output_type": "execute_result"
    }
   ],
   "source": [
    "url = build_url(latitude, longitude, '2023-01-01', '2023-12-31')\n",
    "url"
   ]
  },
  {
   "cell_type": "markdown",
   "metadata": {},
   "source": [
    "<div style=\"margin-left:2.5em\">\n",
    "\n",
    "☝️\n",
    "\n",
    "When I click on it, I can see from my browser that I built the URL correctly. The data it returns is precisely what I need.\n",
    "\n",
    "I could send a `requests.get(url)` to obtain a JSON response (in the form of UTF-8 string bytes).\n",
    "\n",
    "</div>"
   ]
  },
  {
   "cell_type": "markdown",
   "metadata": {},
   "source": [
    "**Checking the JSON response**\n",
    "\n",
    "I added a function `get_historical_data()` to Section 1.3 to handle the request for me.\n",
    "\n",
    "With this function, I don't need to provide the geographical data, I just pass the name of the city and country. \n",
    "\n",
    "Internally, the function calls the other helpful functions I wrote as needed."
   ]
  },
  {
   "cell_type": "code",
   "execution_count": 10,
   "metadata": {},
   "outputs": [],
   "source": [
    "json_data = get_historical_data(selected_country, selected_city, '2023-01-01', '2023-12-31') "
   ]
  },
  {
   "cell_type": "markdown",
   "metadata": {},
   "source": [
    "I've already checked that this function works (in section 1.3), so I'll just double check that the length of the lists match the period of dates I provided:"
   ]
  },
  {
   "cell_type": "code",
   "execution_count": 11,
   "metadata": {},
   "outputs": [
    {
     "data": {
      "text/plain": [
       "True"
      ]
     },
     "execution_count": 11,
     "metadata": {},
     "output_type": "execute_result"
    }
   ],
   "source": [
    "dates    = json_data['daily']['time']\n",
    "min_temp = json_data['daily']['temperature_2m_min']\n",
    "max_temp = json_data['daily']['temperature_2m_max']\n",
    "\n",
    "# There should be 365 elements in all of these lists\n",
    "len(dates) == len(min_temp) == len(max_temp) == 365"
   ]
  },
  {
   "cell_type": "markdown",
   "metadata": {},
   "source": [
    "## Reshaping the data & saving to file\n",
    "\n",
    "(this addresses step 6 of Part II of the lab)\n"
   ]
  },
  {
   "cell_type": "code",
   "execution_count": 12,
   "metadata": {},
   "outputs": [],
   "source": [
    "json_data = get_historical_data(selected_country, selected_city, '2023-01-01', '2023-12-31') \n",
    "\n",
    "final_data = {\n",
    "    \"country\"  : selected_country,\n",
    "    \"city\"     : selected_city,\n",
    "    \"date\"     : json_data['daily']['time'],\n",
    "    \"min_temp\" : json_data['daily']['temperature_2m_min'],\n",
    "    \"max_temp\" : json_data['daily']['temperature_2m_max']\n",
    "}\n",
    "\n",
    "with open('../data/open-meteo/daily_temp.json', 'w') as file:\n",
    "    json.dump(final_data, file)"
   ]
  },
  {
   "cell_type": "markdown",
   "metadata": {},
   "source": [
    "--- \n",
    "\n",
    "All done.\n",
    "\n",
    "Now I don't need to download the data every time I need to run analysis. I can just simply read the resulting JSON file from another notebook.\n",
    "\n",
    "**\\#TODO** | Things I would do if I had more time here:\n",
    "\n",
    "- Further edit the `get_historical_data` to return data in the `final_data` format"
   ]
  }
 ],
 "metadata": {
  "kernelspec": {
   "display_name": "base",
   "language": "python",
   "name": "python3"
  },
  "language_info": {
   "codemirror_mode": {
    "name": "ipython",
    "version": 3
   },
   "file_extension": ".py",
   "mimetype": "text/x-python",
   "name": "python",
   "nbconvert_exporter": "python",
   "pygments_lexer": "ipython3",
   "version": "3.10.15"
  }
 },
 "nbformat": 4,
 "nbformat_minor": 2
}
